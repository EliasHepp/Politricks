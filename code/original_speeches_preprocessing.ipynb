{
 "cells": [
  {
   "cell_type": "markdown",
   "metadata": {},
   "source": [
    "# Subsetting Speeches\n",
    "---------------\n",
    "``` \n",
    "\n",
    "Contributors:\n",
    "- Elias Gabriel Heppner\n",
    "- Andri Rutschmann\n",
    "- Jakob Amann"
   ]
  },
  {
   "cell_type": "markdown",
   "metadata": {},
   "source": [
    "***"
   ]
  },
  {
   "cell_type": "markdown",
   "metadata": {},
   "source": [
    "This script handles the preprocessing of the original speeches derived from open discourse. https://opendiscourse.de/"
   ]
  },
  {
   "cell_type": "markdown",
   "metadata": {},
   "source": [
    "### Loading Packages\n"
   ]
  },
  {
   "cell_type": "code",
   "execution_count": 1,
   "metadata": {
    "execution": {
     "iopub.execute_input": "2024-03-24T13:46:58.302811Z",
     "iopub.status.busy": "2024-03-24T13:46:58.302811Z",
     "iopub.status.idle": "2024-03-24T13:46:59.682017Z",
     "shell.execute_reply": "2024-03-24T13:46:59.682017Z",
     "shell.execute_reply.started": "2024-03-24T13:46:58.302811Z"
    }
   },
   "outputs": [
    {
     "name": "stderr",
     "output_type": "stream",
     "text": [
      "C:\\Users\\Andri\\envs\\css\\Lib\\site-packages\\tqdm\\auto.py:21: TqdmWarning: IProgress not found. Please update jupyter and ipywidgets. See https://ipywidgets.readthedocs.io/en/stable/user_install.html\n",
      "  from .autonotebook import tqdm as notebook_tqdm\n"
     ]
    }
   ],
   "source": [
    "import numpy as np \n",
    "import pandas as pd \n",
    "import time\n",
    "import pickle\n",
    "import time\n",
    "import os\n",
    "import datetime\n",
    "from tqdm.auto import tqdm\n",
    "import matplotlib.pyplot as plt\n",
    "from collections import Counter\n",
    "import re\n",
    "\n",
    "import nltk\n",
    "from nltk.tokenize import word_tokenize # import tokenizer to estimate token count of a speech"
   ]
  },
  {
   "cell_type": "markdown",
   "metadata": {},
   "source": [
    "### Load Speeches Data\n"
   ]
  },
  {
   "cell_type": "code",
   "execution_count": 2,
   "metadata": {
    "execution": {
     "iopub.execute_input": "2024-03-24T13:46:59.683033Z",
     "iopub.status.busy": "2024-03-24T13:46:59.683033Z",
     "iopub.status.idle": "2024-03-24T13:46:59.686264Z",
     "shell.execute_reply": "2024-03-24T13:46:59.686264Z",
     "shell.execute_reply.started": "2024-03-24T13:46:59.683033Z"
    }
   },
   "outputs": [],
   "source": [
    "#Define \n",
    "os.chdir(\"../data/opendiscourse\")"
   ]
  },
  {
   "cell_type": "code",
   "execution_count": 3,
   "metadata": {
    "execution": {
     "iopub.execute_input": "2024-03-24T13:46:59.688281Z",
     "iopub.status.busy": "2024-03-24T13:46:59.688281Z",
     "iopub.status.idle": "2024-03-24T13:47:05.808568Z",
     "shell.execute_reply": "2024-03-24T13:47:05.807537Z",
     "shell.execute_reply.started": "2024-03-24T13:46:59.688281Z"
    }
   },
   "outputs": [],
   "source": [
    "with open('speeches.pkl', 'rb') as f:\n",
    "    # Load the object from the file\n",
    "    speeches_df = pickle.load(f)\n",
    "\n",
    "with open('politicians.pkl', 'rb') as f:\n",
    "    # Load the object from the file\n",
    "    pols_df = pickle.load(f)\n",
    "    \n",
    "with open('factions.pkl', 'rb') as f:\n",
    "    # Load the object from the file\n",
    "    facts_df = pickle.load(f)\n",
    "    \n",
    "with open('electoral_terms.pkl', 'rb') as f:\n",
    "    # Load the object from the file\n",
    "    elterms_df = pickle.load(f)\n",
    "    \n",
    "with open('contributions_extended.pkl', 'rb') as f:\n",
    "    # Load the object from the file\n",
    "   consex_df = pickle.load(f)"
   ]
  },
  {
   "cell_type": "code",
   "execution_count": 4,
   "metadata": {
    "execution": {
     "iopub.execute_input": "2024-03-24T13:47:05.810556Z",
     "iopub.status.busy": "2024-03-24T13:47:05.809568Z",
     "iopub.status.idle": "2024-03-24T13:47:15.401787Z",
     "shell.execute_reply": "2024-03-24T13:47:15.400874Z",
     "shell.execute_reply.started": "2024-03-24T13:47:05.810556Z"
    }
   },
   "outputs": [
    {
     "data": {
      "text/html": [
       "<div>\n",
       "<style scoped>\n",
       "    .dataframe tbody tr th:only-of-type {\n",
       "        vertical-align: middle;\n",
       "    }\n",
       "\n",
       "    .dataframe tbody tr th {\n",
       "        vertical-align: top;\n",
       "    }\n",
       "\n",
       "    .dataframe thead th {\n",
       "        text-align: right;\n",
       "    }\n",
       "</style>\n",
       "<table border=\"1\" class=\"dataframe\">\n",
       "  <thead>\n",
       "    <tr style=\"text-align: right;\">\n",
       "      <th></th>\n",
       "      <th>id</th>\n",
       "      <th>session</th>\n",
       "      <th>electoral_term</th>\n",
       "      <th>politician_id</th>\n",
       "      <th>speech_content</th>\n",
       "      <th>faction_id</th>\n",
       "      <th>document_url</th>\n",
       "      <th>position_short</th>\n",
       "      <th>position_long</th>\n",
       "      <th>date</th>\n",
       "    </tr>\n",
       "  </thead>\n",
       "  <tbody>\n",
       "    <tr>\n",
       "      <th>0</th>\n",
       "      <td>0</td>\n",
       "      <td>2</td>\n",
       "      <td>1</td>\n",
       "      <td>11001150</td>\n",
       "      <td>Meine Damen und Herren! Ich eröffne die 2. Sit...</td>\n",
       "      <td>-1</td>\n",
       "      <td>https://dip21.bundestag.de/dip21/btp/01/01002.pdf</td>\n",
       "      <td>Presidium of Parliament</td>\n",
       "      <td>präsident</td>\n",
       "      <td>1949-09-12</td>\n",
       "    </tr>\n",
       "    <tr>\n",
       "      <th>1</th>\n",
       "      <td>1</td>\n",
       "      <td>2</td>\n",
       "      <td>1</td>\n",
       "      <td>-1</td>\n",
       "      <td>Der Bundesrat ist versammelt, Herr Präsident.\\n</td>\n",
       "      <td>-1</td>\n",
       "      <td>https://dip21.bundestag.de/dip21/btp/01/01002.pdf</td>\n",
       "      <td>Guest</td>\n",
       "      <td>präsident des bundesrats</td>\n",
       "      <td>1949-09-12</td>\n",
       "    </tr>\n",
       "    <tr>\n",
       "      <th>2</th>\n",
       "      <td>2</td>\n",
       "      <td>2</td>\n",
       "      <td>1</td>\n",
       "      <td>11001150</td>\n",
       "      <td>Ich danke für diese Erklärung. Ich stelle dami...</td>\n",
       "      <td>-1</td>\n",
       "      <td>https://dip21.bundestag.de/dip21/btp/01/01002.pdf</td>\n",
       "      <td>Presidium of Parliament</td>\n",
       "      <td>präsident</td>\n",
       "      <td>1949-09-12</td>\n",
       "    </tr>\n",
       "    <tr>\n",
       "      <th>3</th>\n",
       "      <td>3</td>\n",
       "      <td>2</td>\n",
       "      <td>1</td>\n",
       "      <td>-1</td>\n",
       "      <td>Ja, ich habe den Wunsch.\\n</td>\n",
       "      <td>-1</td>\n",
       "      <td>https://dip21.bundestag.de/dip21/btp/01/01002.pdf</td>\n",
       "      <td>Guest</td>\n",
       "      <td>bundespräsident</td>\n",
       "      <td>1949-09-12</td>\n",
       "    </tr>\n",
       "    <tr>\n",
       "      <th>4</th>\n",
       "      <td>4</td>\n",
       "      <td>2</td>\n",
       "      <td>1</td>\n",
       "      <td>11001150</td>\n",
       "      <td>Ich erteile dem Herrn Bundespräsidenten das Wo...</td>\n",
       "      <td>-1</td>\n",
       "      <td>https://dip21.bundestag.de/dip21/btp/01/01002.pdf</td>\n",
       "      <td>Presidium of Parliament</td>\n",
       "      <td>präsident</td>\n",
       "      <td>1949-09-12</td>\n",
       "    </tr>\n",
       "  </tbody>\n",
       "</table>\n",
       "</div>"
      ],
      "text/plain": [
       "   id  session  electoral_term  politician_id  \\\n",
       "0   0        2               1       11001150   \n",
       "1   1        2               1             -1   \n",
       "2   2        2               1       11001150   \n",
       "3   3        2               1             -1   \n",
       "4   4        2               1       11001150   \n",
       "\n",
       "                                      speech_content  faction_id  \\\n",
       "0  Meine Damen und Herren! Ich eröffne die 2. Sit...          -1   \n",
       "1    Der Bundesrat ist versammelt, Herr Präsident.\\n          -1   \n",
       "2  Ich danke für diese Erklärung. Ich stelle dami...          -1   \n",
       "3                         Ja, ich habe den Wunsch.\\n          -1   \n",
       "4  Ich erteile dem Herrn Bundespräsidenten das Wo...          -1   \n",
       "\n",
       "                                        document_url           position_short  \\\n",
       "0  https://dip21.bundestag.de/dip21/btp/01/01002.pdf  Presidium of Parliament   \n",
       "1  https://dip21.bundestag.de/dip21/btp/01/01002.pdf                    Guest   \n",
       "2  https://dip21.bundestag.de/dip21/btp/01/01002.pdf  Presidium of Parliament   \n",
       "3  https://dip21.bundestag.de/dip21/btp/01/01002.pdf                    Guest   \n",
       "4  https://dip21.bundestag.de/dip21/btp/01/01002.pdf  Presidium of Parliament   \n",
       "\n",
       "              position_long        date  \n",
       "0                 präsident  1949-09-12  \n",
       "1  präsident des bundesrats  1949-09-12  \n",
       "2                 präsident  1949-09-12  \n",
       "3           bundespräsident  1949-09-12  \n",
       "4                 präsident  1949-09-12  "
      ]
     },
     "execution_count": 4,
     "metadata": {},
     "output_type": "execute_result"
    }
   ],
   "source": [
    "speeches_df = pd.DataFrame(speeches_df)\n",
    "pols_df = pd.DataFrame(pols_df)\n",
    "facts_df = pd.DataFrame(facts_df)\n",
    "elterms_df = pd.DataFrame(elterms_df)   \n",
    "consex_df = pd.DataFrame(consex_df)\n",
    "\n",
    "speeches_df.head()"
   ]
  },
  {
   "cell_type": "code",
   "execution_count": 5,
   "metadata": {
    "execution": {
     "iopub.execute_input": "2024-03-24T13:47:15.402809Z",
     "iopub.status.busy": "2024-03-24T13:47:15.402809Z",
     "iopub.status.idle": "2024-03-24T13:47:15.419449Z",
     "shell.execute_reply": "2024-03-24T13:47:15.419449Z",
     "shell.execute_reply.started": "2024-03-24T13:47:15.402809Z"
    }
   },
   "outputs": [
    {
     "data": {
      "text/html": [
       "<div>\n",
       "<style scoped>\n",
       "    .dataframe tbody tr th:only-of-type {\n",
       "        vertical-align: middle;\n",
       "    }\n",
       "\n",
       "    .dataframe tbody tr th {\n",
       "        vertical-align: top;\n",
       "    }\n",
       "\n",
       "    .dataframe thead th {\n",
       "        text-align: right;\n",
       "    }\n",
       "</style>\n",
       "<table border=\"1\" class=\"dataframe\">\n",
       "  <thead>\n",
       "    <tr style=\"text-align: right;\">\n",
       "      <th></th>\n",
       "      <th>id</th>\n",
       "      <th>first_name</th>\n",
       "      <th>last_name</th>\n",
       "      <th>birth_place</th>\n",
       "      <th>birth_country</th>\n",
       "      <th>birth_date</th>\n",
       "      <th>death_date</th>\n",
       "      <th>gender</th>\n",
       "      <th>profession</th>\n",
       "      <th>aristocracy</th>\n",
       "      <th>academic_title</th>\n",
       "    </tr>\n",
       "  </thead>\n",
       "  <tbody>\n",
       "    <tr>\n",
       "      <th>0</th>\n",
       "      <td>11000001</td>\n",
       "      <td>Manfred</td>\n",
       "      <td>Abelein</td>\n",
       "      <td>Stuttgart</td>\n",
       "      <td>Deutschland</td>\n",
       "      <td>1930-10-20</td>\n",
       "      <td>2008-01-17</td>\n",
       "      <td>männlich</td>\n",
       "      <td>Rechtsanwalt, Wirtschaftsprüfer, Universitätsp...</td>\n",
       "      <td>NA</td>\n",
       "      <td>Prof. Dr.</td>\n",
       "    </tr>\n",
       "    <tr>\n",
       "      <th>1</th>\n",
       "      <td>11000002</td>\n",
       "      <td>Ernst</td>\n",
       "      <td>Achenbach</td>\n",
       "      <td>Siegen</td>\n",
       "      <td>Deutschland</td>\n",
       "      <td>1909-04-09</td>\n",
       "      <td>1991-12-02</td>\n",
       "      <td>männlich</td>\n",
       "      <td>Rechtsanwalt und Notar</td>\n",
       "      <td>NA</td>\n",
       "      <td>Dr.</td>\n",
       "    </tr>\n",
       "    <tr>\n",
       "      <th>2</th>\n",
       "      <td>11000003</td>\n",
       "      <td>Annemarie</td>\n",
       "      <td>Ackermann</td>\n",
       "      <td>Parabutsch</td>\n",
       "      <td>Jugoslawien</td>\n",
       "      <td>1913-05-26</td>\n",
       "      <td>1994-02-18</td>\n",
       "      <td>weiblich</td>\n",
       "      <td>Hilfsreferentin</td>\n",
       "      <td>NA</td>\n",
       "      <td>NA</td>\n",
       "    </tr>\n",
       "    <tr>\n",
       "      <th>3</th>\n",
       "      <td>11000004</td>\n",
       "      <td>Else</td>\n",
       "      <td>Ackermann</td>\n",
       "      <td>Berlin</td>\n",
       "      <td>Deutschland</td>\n",
       "      <td>1933-11-06</td>\n",
       "      <td>2019-09-14</td>\n",
       "      <td>weiblich</td>\n",
       "      <td>Ärztin</td>\n",
       "      <td>NA</td>\n",
       "      <td>Dr.</td>\n",
       "    </tr>\n",
       "    <tr>\n",
       "      <th>4</th>\n",
       "      <td>11000005</td>\n",
       "      <td>Ulrich</td>\n",
       "      <td>Adam</td>\n",
       "      <td>Teterow</td>\n",
       "      <td>Deutschland</td>\n",
       "      <td>1950-06-09</td>\n",
       "      <td>NA</td>\n",
       "      <td>männlich</td>\n",
       "      <td>Mathematiker, Geschäftsführer</td>\n",
       "      <td>NA</td>\n",
       "      <td>NA</td>\n",
       "    </tr>\n",
       "  </tbody>\n",
       "</table>\n",
       "</div>"
      ],
      "text/plain": [
       "         id first_name  last_name birth_place birth_country  birth_date  \\\n",
       "0  11000001    Manfred    Abelein   Stuttgart   Deutschland  1930-10-20   \n",
       "1  11000002      Ernst  Achenbach      Siegen   Deutschland  1909-04-09   \n",
       "2  11000003  Annemarie  Ackermann  Parabutsch   Jugoslawien  1913-05-26   \n",
       "3  11000004       Else  Ackermann      Berlin   Deutschland  1933-11-06   \n",
       "4  11000005     Ulrich       Adam     Teterow   Deutschland  1950-06-09   \n",
       "\n",
       "   death_date    gender                                         profession  \\\n",
       "0  2008-01-17  männlich  Rechtsanwalt, Wirtschaftsprüfer, Universitätsp...   \n",
       "1  1991-12-02  männlich                             Rechtsanwalt und Notar   \n",
       "2  1994-02-18  weiblich                                    Hilfsreferentin   \n",
       "3  2019-09-14  weiblich                                             Ärztin   \n",
       "4          NA  männlich                      Mathematiker, Geschäftsführer   \n",
       "\n",
       "  aristocracy academic_title  \n",
       "0          NA      Prof. Dr.  \n",
       "1          NA            Dr.  \n",
       "2          NA             NA  \n",
       "3          NA            Dr.  \n",
       "4          NA             NA  "
      ]
     },
     "execution_count": 5,
     "metadata": {},
     "output_type": "execute_result"
    }
   ],
   "source": [
    "pols_df.head()"
   ]
  },
  {
   "cell_type": "code",
   "execution_count": 6,
   "metadata": {
    "execution": {
     "iopub.execute_input": "2024-03-24T13:47:15.420834Z",
     "iopub.status.busy": "2024-03-24T13:47:15.419449Z",
     "iopub.status.idle": "2024-03-24T13:47:15.432153Z",
     "shell.execute_reply": "2024-03-24T13:47:15.431146Z",
     "shell.execute_reply.started": "2024-03-24T13:47:15.420834Z"
    }
   },
   "outputs": [
    {
     "data": {
      "text/html": [
       "<div>\n",
       "<style scoped>\n",
       "    .dataframe tbody tr th:only-of-type {\n",
       "        vertical-align: middle;\n",
       "    }\n",
       "\n",
       "    .dataframe tbody tr th {\n",
       "        vertical-align: top;\n",
       "    }\n",
       "\n",
       "    .dataframe thead th {\n",
       "        text-align: right;\n",
       "    }\n",
       "</style>\n",
       "<table border=\"1\" class=\"dataframe\">\n",
       "  <thead>\n",
       "    <tr style=\"text-align: right;\">\n",
       "      <th></th>\n",
       "      <th>id</th>\n",
       "      <th>abbreviation</th>\n",
       "      <th>full_name</th>\n",
       "    </tr>\n",
       "  </thead>\n",
       "  <tbody>\n",
       "    <tr>\n",
       "      <th>0</th>\n",
       "      <td>-1</td>\n",
       "      <td>not found</td>\n",
       "      <td>not found</td>\n",
       "    </tr>\n",
       "    <tr>\n",
       "      <th>1</th>\n",
       "      <td>0</td>\n",
       "      <td>AfD</td>\n",
       "      <td>Alternative für Deutschland</td>\n",
       "    </tr>\n",
       "    <tr>\n",
       "      <th>2</th>\n",
       "      <td>1</td>\n",
       "      <td>BHE</td>\n",
       "      <td>Block der Heimatvertriebenen und Entrechteten</td>\n",
       "    </tr>\n",
       "    <tr>\n",
       "      <th>3</th>\n",
       "      <td>2</td>\n",
       "      <td>BP</td>\n",
       "      <td>Bayernpartei</td>\n",
       "    </tr>\n",
       "    <tr>\n",
       "      <th>4</th>\n",
       "      <td>3</td>\n",
       "      <td>Grüne</td>\n",
       "      <td>Bündnis 90/Die Grünen</td>\n",
       "    </tr>\n",
       "  </tbody>\n",
       "</table>\n",
       "</div>"
      ],
      "text/plain": [
       "   id abbreviation                                      full_name\n",
       "0  -1    not found                                      not found\n",
       "1   0          AfD                    Alternative für Deutschland\n",
       "2   1          BHE  Block der Heimatvertriebenen und Entrechteten\n",
       "3   2           BP                                   Bayernpartei\n",
       "4   3        Grüne                          Bündnis 90/Die Grünen"
      ]
     },
     "execution_count": 6,
     "metadata": {},
     "output_type": "execute_result"
    }
   ],
   "source": [
    "facts_df.head()"
   ]
  },
  {
   "cell_type": "code",
   "execution_count": 7,
   "metadata": {
    "execution": {
     "iopub.execute_input": "2024-03-24T13:47:15.434152Z",
     "iopub.status.busy": "2024-03-24T13:47:15.434152Z",
     "iopub.status.idle": "2024-03-24T13:47:15.445429Z",
     "shell.execute_reply": "2024-03-24T13:47:15.445429Z",
     "shell.execute_reply.started": "2024-03-24T13:47:15.434152Z"
    }
   },
   "outputs": [
    {
     "data": {
      "text/html": [
       "<div>\n",
       "<style scoped>\n",
       "    .dataframe tbody tr th:only-of-type {\n",
       "        vertical-align: middle;\n",
       "    }\n",
       "\n",
       "    .dataframe tbody tr th {\n",
       "        vertical-align: top;\n",
       "    }\n",
       "\n",
       "    .dataframe thead th {\n",
       "        text-align: right;\n",
       "    }\n",
       "</style>\n",
       "<table border=\"1\" class=\"dataframe\">\n",
       "  <thead>\n",
       "    <tr style=\"text-align: right;\">\n",
       "      <th></th>\n",
       "      <th>id</th>\n",
       "      <th>start_date</th>\n",
       "      <th>end_date</th>\n",
       "    </tr>\n",
       "  </thead>\n",
       "  <tbody>\n",
       "    <tr>\n",
       "      <th>0</th>\n",
       "      <td>1</td>\n",
       "      <td>-641174400</td>\n",
       "      <td>-512524800</td>\n",
       "    </tr>\n",
       "    <tr>\n",
       "      <th>1</th>\n",
       "      <td>2</td>\n",
       "      <td>-512438400</td>\n",
       "      <td>-385516800</td>\n",
       "    </tr>\n",
       "    <tr>\n",
       "      <th>2</th>\n",
       "      <td>3</td>\n",
       "      <td>-385430400</td>\n",
       "      <td>-259113600</td>\n",
       "    </tr>\n",
       "    <tr>\n",
       "      <th>3</th>\n",
       "      <td>4</td>\n",
       "      <td>-259027200</td>\n",
       "      <td>-132710400</td>\n",
       "    </tr>\n",
       "    <tr>\n",
       "      <th>4</th>\n",
       "      <td>5</td>\n",
       "      <td>-132624000</td>\n",
       "      <td>-6393600</td>\n",
       "    </tr>\n",
       "  </tbody>\n",
       "</table>\n",
       "</div>"
      ],
      "text/plain": [
       "   id  start_date   end_date\n",
       "0   1  -641174400 -512524800\n",
       "1   2  -512438400 -385516800\n",
       "2   3  -385430400 -259113600\n",
       "3   4  -259027200 -132710400\n",
       "4   5  -132624000   -6393600"
      ]
     },
     "execution_count": 7,
     "metadata": {},
     "output_type": "execute_result"
    }
   ],
   "source": [
    "elterms_df.head()"
   ]
  },
  {
   "cell_type": "markdown",
   "metadata": {},
   "source": [
    "### Merge and Omit"
   ]
  },
  {
   "cell_type": "markdown",
   "metadata": {},
   "source": [
    "We remove all speeches not held by politicians and select the last three electoral cycles."
   ]
  },
  {
   "cell_type": "code",
   "execution_count": 8,
   "metadata": {
    "execution": {
     "iopub.execute_input": "2024-03-24T13:47:15.450697Z",
     "iopub.status.busy": "2024-03-24T13:47:15.448696Z",
     "iopub.status.idle": "2024-03-24T13:47:17.138500Z",
     "shell.execute_reply": "2024-03-24T13:47:17.137031Z",
     "shell.execute_reply.started": "2024-03-24T13:47:15.450697Z"
    }
   },
   "outputs": [],
   "source": [
    "speeches_df = speeches_df[(speeches_df[\"electoral_term\"] == 18) | (speeches_df[\"electoral_term\"] == 19) | (speeches_df[\"electoral_term\"] == 20)]\n",
    "speeches_df\n",
    "fin_df = pd.merge(speeches_df, pols_df, left_on='politician_id', right_on='id', how='inner')\n",
    "fin_df = pd.merge(fin_df, facts_df, left_on='faction_id', right_on='id', how='inner')\n",
    "fin_df = fin_df[(fin_df[\"electoral_term\"] == 18) | (fin_df[\"electoral_term\"] == 19) | (fin_df[\"electoral_term\"] == 20)]\n",
    "fin_df = fin_df[[\"id_x\", \"session\", \"electoral_term\", \"date\", \"document_url\", \"speech_content\", \"politician_id\", \"first_name\", \"last_name\", \"faction_id\",  \"abbreviation\", \"position_short\", \"position_long\"]]\n",
    "fin_df\n",
    "fin_df.to_pickle(\"sub_speeches.pkl\")"
   ]
  },
  {
   "cell_type": "markdown",
   "metadata": {},
   "source": [
    "## Remove all Contributions that are not Speeches"
   ]
  },
  {
   "cell_type": "code",
   "execution_count": 9,
   "metadata": {
    "execution": {
     "iopub.execute_input": "2024-03-24T13:47:17.140054Z",
     "iopub.status.busy": "2024-03-24T13:47:17.140054Z",
     "iopub.status.idle": "2024-03-24T13:47:17.144922Z",
     "shell.execute_reply": "2024-03-24T13:47:17.143917Z",
     "shell.execute_reply.started": "2024-03-24T13:47:17.140054Z"
    }
   },
   "outputs": [],
   "source": [
    "min_tokens = 300\n",
    "min_speeches = 4"
   ]
  },
  {
   "cell_type": "code",
   "execution_count": 10,
   "metadata": {
    "execution": {
     "iopub.execute_input": "2024-03-24T13:47:19.887599Z",
     "iopub.status.busy": "2024-03-24T13:47:19.886578Z",
     "iopub.status.idle": "2024-03-24T13:47:20.910671Z",
     "shell.execute_reply": "2024-03-24T13:47:20.909659Z",
     "shell.execute_reply.started": "2024-03-24T13:47:19.887089Z"
    }
   },
   "outputs": [],
   "source": [
    "speeches = pd.read_pickle('sub_speeches.pkl')"
   ]
  },
  {
   "cell_type": "code",
   "execution_count": 20,
   "metadata": {
    "execution": {
     "iopub.execute_input": "2024-03-24T13:54:40.770256Z",
     "iopub.status.busy": "2024-03-24T13:54:40.770256Z",
     "iopub.status.idle": "2024-03-24T13:59:43.988353Z",
     "shell.execute_reply": "2024-03-24T13:59:43.987340Z",
     "shell.execute_reply.started": "2024-03-24T13:54:40.770256Z"
    },
    "scrolled": true
   },
   "outputs": [],
   "source": [
    "# Get the most common tokens that start off a speech (takes quite a long time since it tokenizes all 100k contributions)\n",
    "starting_tokens = []\n",
    "\n",
    "for i in speeches['speech_content']:\n",
    "    out = word_tokenize(str(i), language='german')\n",
    "    try:\n",
    "        out = out[:10]\n",
    "\n",
    "    except:\n",
    "        out = out\n",
    "        \n",
    "    for j in out:\n",
    "        starting_tokens.append(j.lower())\n",
    "\n",
    "starting_tokens_10 = Counter(starting_tokens)"
   ]
  },
  {
   "cell_type": "code",
   "execution_count": 21,
   "metadata": {
    "execution": {
     "iopub.execute_input": "2024-03-24T13:59:43.990349Z",
     "iopub.status.busy": "2024-03-24T13:59:43.989352Z",
     "iopub.status.idle": "2024-03-24T13:59:44.006319Z",
     "shell.execute_reply": "2024-03-24T13:59:44.005112Z",
     "shell.execute_reply.started": "2024-03-24T13:59:43.990349Z"
    }
   },
   "outputs": [
    {
     "data": {
      "text/plain": [
       "[('!', 64596),\n",
       " (',', 59188),\n",
       " ('.', 53641),\n",
       " ('herr', 37820),\n",
       " ('und', 35354),\n",
       " ('die', 31712),\n",
       " ('frau', 29993),\n",
       " ('sehr', 27508),\n",
       " ('dank', 22988),\n",
       " ('kollegen', 22292),\n",
       " ('kolleginnen', 21592),\n",
       " ('der', 21429),\n",
       " ('vielen', 21166),\n",
       " ('ich', 20544),\n",
       " ('kollege', 20281),\n",
       " ('präsident', 19640),\n",
       " ('liebe', 19595),\n",
       " ('präsidentin', 19243),\n",
       " ('–', 17822),\n",
       " ('das', 17503)]"
      ]
     },
     "execution_count": 21,
     "metadata": {},
     "output_type": "execute_result"
    }
   ],
   "source": [
    "starting_tokens_10.most_common(20) # We see that Kolleg and Präsi seems to be quite popular (along with herr/frau with indicates the gender of the president)"
   ]
  },
  {
   "cell_type": "code",
   "execution_count": 12,
   "metadata": {
    "execution": {
     "iopub.execute_input": "2024-03-24T13:47:30.807687Z",
     "iopub.status.busy": "2024-03-24T13:47:30.807687Z",
     "iopub.status.idle": "2024-03-24T13:52:12.342554Z",
     "shell.execute_reply": "2024-03-24T13:52:12.340543Z",
     "shell.execute_reply.started": "2024-03-24T13:47:30.807687Z"
    }
   },
   "outputs": [],
   "source": [
    "# Remove all non-speeches and short stuff\n",
    "regex_df_1 = speeches[speeches['speech_content'].str[:100].str.contains('Dame|Herr|Präsi|Kolleg|Frau|lieb|ehrt', regex=True, na=False)] # remove everything not starting with a greeting\n",
    "\n",
    "regex_df_2 = regex_df_1.copy()\n",
    "regex_df_2['speech_tokenized'] = regex_df_2['speech_content'].apply(word_tokenize, language='german') # tokenize all contributions\n",
    "regex_df_2['tokenized_length'] = regex_df_2['speech_tokenized'].str.len()\n",
    "\n",
    "regex_df_3 = regex_df_2[regex_df_2['tokenized_length'] > min_tokens] # remove all contributions with less than min_tokens tokens (300)\n",
    "regex_df_3.reset_index(drop=True, inplace=True)"
   ]
  },
  {
   "cell_type": "code",
   "execution_count": 13,
   "metadata": {
    "execution": {
     "iopub.execute_input": "2024-03-24T13:52:12.346570Z",
     "iopub.status.busy": "2024-03-24T13:52:12.345666Z",
     "iopub.status.idle": "2024-03-24T13:52:12.370698Z",
     "shell.execute_reply": "2024-03-24T13:52:12.369692Z",
     "shell.execute_reply.started": "2024-03-24T13:52:12.345666Z"
    }
   },
   "outputs": [
    {
     "name": "stdout",
     "output_type": "stream",
     "text": [
      "125497\n",
      "86603\n",
      "36899\n"
     ]
    },
    {
     "data": {
      "text/plain": [
       "['Frau Präsidentin! Meine sehr verehrten Damen und\\n\\nHerren! Für viele Menschen ist der Bau oder Kauf eines\\nEigenheims ein ganz großer Traum . Darauf wird jahrelang hingearbeitet, dafür wird jahrelang gespart . Die allermeisten können das aber alleine nicht stemmen . Sie\\nsind also auf einen Kredit angewiesen .\\n\\nAusgerechnet da, wo es um diese Kredite geht, gibt\\nes viele versteckte Kosten, weil die Banken denken, dass\\nsie bei dieser Gelegenheit ordentlich mitverdienen können . Weil es eben für die meisten Menschen der größte\\nKauf ist, den sie im Leben tätigen, ist das Ausmaß der\\nversteckten Kosten und der Verbraucherabzocke hier besonders hoch . Deswegen, denke ich, ist es völlig unstrittig, dass Häuslebauer gesetzlich besser geschützt werden\\nmüssen .\\n\\n({0})\\n\\nIch finde es allerdings umso bedauerlicher - da habe\\nich an zwei Punkten eine andere Einschätzung -, dass\\ndie Bundesregierung an einigen Stellen im vorliegenden\\nGesetzentwurf nicht die Möglichkeiten nutzt, die die EU\\nhier bietet . Es ist im Verbraucherschutz ein ganz typischer Vorgang: Zuerst zwingt die EU Sie zum Handeln .\\nDann werden die Spielräume, die uns Brüssel lässt, von\\nder Bundesregierung nicht genutzt .\\n\\nKommen wir beispielsweise zu dem Merkblatt, auf\\ndem alle wichtigen Informationen stehen sollen . Das\\nsieht auf den ersten Blick nicht schlecht aus . Auf den\\nzweiten Blick finde ich das etwas mutlos. Wir kennen die\\nDebatte von den sogenannten Beipackzetteln bei Finanzprodukten . Aus dieser Erfahrung wissen wir, dass diese\\nMerkblätter nur dann etwas nutzen, wenn es Mindestanforderungen gibt und wenn diese Merkblätter standardisiert sind . Wir sagen: Die Regeln an dieser Stelle müssen\\ndeutlich konkretisiert werden, damit sie überhaupt etwas\\nnützen .\\n\\n({1})\\n\\nDass Provisionen, die sich ergeben, offengelegt werden und dass die Honorarberatung eingeführt wird, ist\\nzweifellos ein wichtiger Schritt . Wir wissen, dass viele\\nKreditvermittler auf Provisionsbasis arbeiten . Das lädt\\nnatürlich dazu ein, dass die Interessen der Bank Vorrang\\ngegenüber den Interessen der Häuslebauer bekommen .\\nDenn je teurer der verkaufte Kreditvertrag ist, desto höher ist am Ende die Provision .\\n\\nWir halten die Provisionsberatung für den falschen\\nWeg . Es geht um eine Stärkung der Honorarberatung,\\nund vor allen Dingen geht es auch um eine Stärkung der\\nVerbraucherzentralen . Denn die unabhängige Beratung\\n\\n\\ndurch die Verbraucherzentralen halten wir für den richtigen Weg .\\n\\n({2})\\n\\nEin Fall, der aus meiner Sicht hätte geregelt werden\\nsollen: Wenn ein Kreditnehmer, also ein Häuslebauer,\\nseinen Kredit früher zurückzahlen will, weil er beispielsweise eine Gehaltserhöhung bekommen hat, zocken die\\nBanken ordentlich ab . Eine Studie hat ergeben, dass für\\neine vorzeitige Kreditrückzahlung 15 bis 20 Prozent fällig werden . Wir sagen: Das muss unterbunden werden .\\nWir brauchen endlich klare Obergrenzen . Ich habe wenig Verständnis dafür, dass diese Möglichkeit, die die EU\\neingeräumt hat, von Deutschland nicht genutzt wird . Hier\\nmuss der Gesetzentwurf nachgebessert werden .\\n\\n({3})\\n\\nWenn man schon über Immobiliendarlehen redet,\\ndann sollte man in diesem Zusammenhang auch über andere Verbraucherdarlehen reden, wie es die Verbraucherzentralen und die Verbraucherverbände auch fordern .\\nNehmen wir beispielsweise die Restschuldversicherungen. Auch sie sind ein lukratives und häufig verstecktes\\nZusatzgeschäft für die Banken, das für die Verbraucherinnen und Verbraucher zwar einen höheren Preis bedeutet - was sie bei Vertragsabschluss häufig gar nicht erkennen können -, ihnen im Endeffekt aber wenig bringt .\\n\\nDer Vorschlag lautet, dass das automatisch in den Effektivzins mit eingerechnet wird, der dadurch höher ausfallen würde . Dann könnten die Verbraucher von vornherein sehen, dass es sie teuer zu stehen kommt . Ich bin\\nmir sicher, dass diese häufig unsinnigen Versicherungen\\ndann den Verbrauchern nicht mehr so leicht unterzujubeln wären .\\n\\nZu guter Letzt zum Dispozins . Wir fordern als Linke\\nseit sieben Jahren, dass die Dispozinsen gesetzlich gedeckelt werden müssen . Im Bundestagswahlkampf hat die\\nSPD sich dieser Forderung angeschlossen, und in jeder\\nWahlkampfrede wurde die Abzocke durch die Banken\\ngegeißelt, und zwar zu Recht. Deswegen finde ich es\\nenttäuschend, dass dieser Gesetzentwurf nichts weiter\\nvorsieht als die Herstellung von Transparenz . Das mag\\nja schön und gut sein, aber wenn alle Banken in einer\\nArt Kartellabsprache nur Dispozinsen zwischen 8 und\\n12 Prozent anbieten, dann gibt es gar keine Wahlfreiheit\\nfür die Verbraucherinnen und Verbraucher .\\n\\nDeswegen sagen wir: Die Dispozinsen müssen gesetzlich gedeckelt werden, und zwar auf 5 Prozent über dem\\nLeitzinssatz . Das ist der einzige richtige Weg, um diese\\nAbzocke der Banken endlich zu beenden .\\n\\nVielen Dank .\\n\\n({4})\\n\\n',\n",
       " '\\n\\nVerehrte Kolleginnen und Kollegen! Verehrter Herr Präsident! Der Gesetzentwurf bringt zweifellos große Vorteile und auch Erleichterungen für Berufskraftfahrer und Berufskraftfahrerinnen, die\\xa0– es ist ja schon gesagt worden\\xa0– einen anstrengenden und hoch verantwortungsvollen Beruf ausüben.\\n\\nAus- und Weiterbildung werden bundes- und EU-weit vereinheitlicht. Ein allgemeines Register ermöglicht problemlos die Anerkennung der Qualifikation auch in anderen EU-Staaten; auch das finden wir gut. Dazu kommt der Entschließungsantrag der Koalition, dass die Prüfungen in verschiedenen Fremdsprachen angeboten werden können und E-Learning-Angebote ermöglicht werden sollen.\\n\\nIn der Ausschussberatung fand ich ganz besonders beeindruckend, dass die Herrschaften von der AfD doch tatsächlich in den Prüfungen in verschiedenen Fremdsprachen und der Möglichkeit dazu sogar einen Angriff auf unsere soziokulturelle Identität gesehen haben. Das hat für Heiterkeit gesorgt. Ich frage Sie mal: Wollen Sie eigentlich künftig auch an unseren Schulen in Deutschland den Fremdsprachenunterricht abschaffen wegen der Bedrohung unserer soziokulturellen Identität? Absurd!\\n\\n({0})\\n\\nAllerdings haben Sie auch ein kompliziertes Konstrukt geschaffen, um Ausnahmen für Fahrten zu schaffen, bei denen die Fahrerinnen und Fahrer keine solche Qualifikation nachweisen müssen. Zum Beispiel in ländlichen Räumen, für Strecken mit weniger als 100\\xa0Kilometern und bei gelegentlichen Fahrten für den eigenen Betrieb ist der Nachweis verzichtbar. Wie und von wem soll das kontrolliert werden? Diese Frage konnten Sie nicht beantworten. Das fragt auch nicht ganz zu Unrecht der Deutsche Industrie- und Handelskammertag und stellt fest, dass es weit unkomplizierter und realistischer ist, die Regelung einfach für alle gelten zu lassen. Besser anstatt die Ausnahme möglicherweise auch auf Städte auszudehnen gar keine Ausnahmen.\\n\\nUnser Maßstab ist Vision Zero, und das ist auch Ihre Orientierung und Ihr Maßstab. Es ist dabei völlig unerheblich, ob jemand gelegentlich oder öfter fährt. Im Gegenteil: Wer gelegentlich fährt, hat möglicherweise sogar weniger Fahrpraxis; bedeutet also eher eine höhere Gefährdung für sein Umfeld. Die Unfallzahlen geben immer noch keinen Anlass, zu sagen: Hier bedarf es Ausnahmeregelungen. Es ist besser, es gelten für alle die gleichen Maßstäbe bei der Qualifikation und auch beim Nachweis der Qualifikation.\\n\\n({1})\\n\\nDeswegen meinen wir, es wäre besser gewesen, von den Ausnahmen bei den Qualifikationsnachweisen abzusehen. Ansonsten finden wir die Grundlinie des Gesetzentwurfs richtig.\\n\\nDanke für Ihre Aufmerksamkeit.\\n\\n({2})',\n",
       " 'Sehr verehrte Frau Präsidentin! Verehrte Kolleginnen\\n\\nund Kollegen! Meine sehr verehrten Damen und Herren!\\nDie Menschen haben uns mit einem hervorragenden\\nErgebnis gewählt, damit wir ihre Interessen vertreten.\\nGenau das macht die CSU, und genau das macht auch\\ndie Bayerische Staatsregierung. Genau das ist es, was\\nuns einige jetzt vorwerfen, die diesen Auftrag offensichtlich nicht so ernst nehmen wie wir.\\n\\n({0})\\n\\nUm auf die heiße Luft zurückzukommen: Wir in Bayern sind führend im Bereich der Energiewende.\\n\\n({1})\\n\\nHerr Janecek, wir erzeugen mit erneuerbaren Energien\\nheiße Luft, und Sie plappern nur heiße Luft.\\n\\n({2})\\n\\nDas Ziel der Großen Koalition ist es, das Zeitalter der\\nerneuerbaren Energien so schnell wie möglich zu erreichen. Die Welt schaut gespannt auf Deutschland, ob uns\\ndiese große Aufgabe gelingt. Wir werden sie meistern;\\nsie wird uns gelingen. Ich sage Ihnen aber auch: Sie wird\\nnur gemeinsam mit den Menschen gelingen. Wir werden\\ndas nicht an den Köpfen der Menschen vorbei schaffen\\nkönnen. Der Umbau der Energieversorgung erfordert\\nverschiedenste Maßnahmen. Ein ganz entscheidender\\nBereich dabei ist der Ausbau der Stromnetze. Man\\nkönnte sagen: Die Netze sind die Lebensadern der Energiewende; ich glaube, da sind wir uns einig.\\n\\n({3})\\n\\nUm den Anteil der erneuerbaren Energien an der\\nStromerzeugung zu erhöhen und eine sichere Energieversorgung zu gewährleisten, müssen wir dringend die\\nNetze ausbauen; das ist ganz klar. Daran besteht auch\\nkein Zweifel. Wir brauchen darüber hinaus mehr Übertragungsnetze und mehr Verteilnetze. Dies ist notwendig, weil es nicht in allen Regionen möglich sein wird,\\nden Energiebedarf auf Dauer mit erneuerbaren Energien\\nzu decken. Das betrifft besonders - auch dies wurde gesagt - den Süden Deutschlands mit der Wirtschaftsstärke\\nBayerns. Um den Ausbau der Stromnetze voranzubringen, haben wir bereits in den letzten Jahren einige Maßnahmen und Gesetze auf den Weg gebracht; ich glaube,\\nich brauche sie nicht im Einzelnen zu nennen. Das zeigt:\\nWir haben einen Plan, wie wir den Ausbau der Übertragungsnetze in einem großen Schub voranbringen wollen.\\n\\nVerantwortungsvolle Politik heißt aber auch, auf Veränderungen zu reagieren und diese nicht einfach zu ignorieren. Dazu gehört zum Beispiel, dass wir uns vielleicht\\nnoch einmal genau anschauen müssen, ob es nicht an einigen Stellen möglich ist, statt Freileitungen zu verlegen,\\nin Richtung Erdverkabelung zu gehen.\\n\\n({4})\\n\\nPrüfen sollten wir auch, ob wir nicht die Abstandsflächen zwischen Stromleitungen und Wohnbebauung vergrößern sollten. Darüber hinaus sollten wir berücksichtigen, dass die Novellierung des EEG ansteht.\\n\\n({5})\\n\\nWir sollten schauen, ob diese Novellierung auch Auswirkungen auf den Netzausbau haben wird.\\n\\n({6})\\n\\nDeshalb sollten wir vor neuen Entscheidungen erst einmal den Gesetzentwurf zur Novellierung des EEG abwarten. Herr Gabriel hat gesagt, dass er den bis Ostern\\nvorlegen wird.\\n\\n({7})\\n\\nBis Ostern ist nicht mehr lange hin, und ich bin zuversichtlich, dass Herr Gabriel diesen Zeitplan einhält.\\n\\nSchließlich, meine Damen und Herren, dürfen wir\\nnicht vergessen, die Menschen auf unserem Weg in das\\nZeitalter der erneuerbaren Energien mitzunehmen. Dieses Mitnehmen hat nichts mit Populismus zu tun.\\n\\n({8})\\n\\nIch sage Ihnen voraus: Der Umstieg auf die erneuerbaren\\nEnergien wird nur dann ein Erfolg sein, wenn wir die\\nAkzeptanz der Bevölkerung haben. Durch die Demonstrationen haben wir gesehen, dass das nicht immer der\\nFall ist.\\n\\nWir wollen das Zeitalter der erneuerbaren Energien so\\nschnell wie möglich erreichen;\\n\\n({9})\\n\\nich glaube, darin sind wir uns alle einig. Dabei müssen\\nwir die Bezahlbarkeit und vor allem auch die Versorgungssicherheit wahren; darin sind wir uns sicherlich\\nebenfalls einig. Wir müssen aber auch daran denken, die\\nEnergiewende gemeinsam mit den Menschen zu gestalten und nicht über sie hinweg, nur um am Ende vielleicht\\nein paar Monate schneller zu sein. Die Entscheidung der\\nBayerischen Staatsregierung zu diesem Moratorium ist,\\nglaube ich, der richtige Weg. Wir verlieren vielleicht ein\\nVierteljahr; aber das können wir sicherlich aushalten.\\n\\nHerzlichen Dank.\\n\\n({10})\\n',\n",
       " '\\n\\nHerr Präsident! Meine sehr geehrten Damen und Herren! Chers Collègues! Laut amtlichem Handbuch des Bundestages ist Herr Kleinwächter ledig. Ich muss sagen: Nach Ihren Ausführungen zum Eheleben überrascht mich das irgendwie nicht.\\n\\n({0})\\n\\nMeine Fraktion befürwortet selbstverständlich eine engere deutsch-französische Zusammenarbeit. Wir meinen aber, Europa über Rüstung einen zu wollen, so wie es im Aachener Vertrag angelehnt ist, darüber, dass man Waffenexporte nach Saudi-Arabien erleichtert, wird nicht gelingen.\\n\\n({1})\\n\\nDie Linke ist überzeugt\\xa0– der Brexit zeigt es ja\\xa0–, dass der Zusammenhalt in der EU schwindet. Wir sind überzeugt: Wer den europäischen Zusammenhalt sichern will, der muss etwas für den sozialen Zusammenhalt in der EU tun.\\n\\n({2})\\n\\nSelbst Präsident Macron, der in Frankreich bisher als Präsident der Reichen galt, hat unter dem Druck von Protesten angefangen, über soziale Reformen in der EU zu reden, Beispiel: Mindestlöhne. Gemeint ist nicht ein einheitlicher Mindestlohn in Bulgarien und Schweden; der wäre für Bulgarien zu hoch und für Schweden zu niedrig. Gemeint ist, dass überall in Europa 60\\xa0Prozent der nationalen Durchschnittslöhne als Mindestlohn gelten soll. In Deutschland läge der Mindestlohn dann bei über 12\\xa0Euro, wie es Die Linke fordert,\\n\\n({3})\\n\\nwas auch nötig ist, um zu verhindern, dass Menschen, die ihr ganzes Leben lang geschuftet haben, im Alter zum Amt müssen.\\n\\nDie CDU-Vorsitzende Annegret Kramp-Karrenbauer müsste als Saarländerin Frankreich eigentlich verstehen. Sie hatte für diese Vorschläge von Herrn Macron aber nur ein Nein übrig. Sie ist noch nicht Kanzlerin; aber sie ist bereits „Madame Non“. Der außenpolitische Berater des großen Europäers Helmut Kohl, Horst Teltschik, erinnerte kürzlich daran, dass Europa Krisen immer dann meisterte, wenn sich Deutschland, Frankreich und auch Russland\\xa0– wie beim Minsker Abkommen für die Ukraine\\xa0– an einen Tisch setzen.\\n\\nIm Antrag der Großen Koalition steht, wir sollten trans\\xadatlantisch bleiben und europäisch werden. Wir meinen aber: Wenn die EU ihre Interessen ernst nimmt, muss sie sich vom Rockzipfel Donald Trumps lösen.\\n\\n({4})\\n\\nDazu gehört auch, wie es Herr Kubicki gestern gefordert hat, dem US-Botschafter Richard Grenell einen Rückflug in die USA zu spendieren, wenn er sich weiter danebenbenimmt.\\n\\n({5})\\n\\nDie deutsch-französische Zusammenarbeit wäre eine Chance, Europa aus der Depression zu führen. Meine Fraktion hat eine tiefere Zusammenarbeit zwischen Assemblée nationale und Bundestag mit großer Sympathie begleitet; aber die GroKo hat hierbei fast alles falsch gemacht, was man falsch machen konnte.\\n\\nErstens. Monatelang warteten wir auf den Aachener Vertrag der Regierungen. Im Januar\\xa0– die Kollegin Beer hat daran erinnert\\xa0– wollten wir dieses Abkommen dann auf den Weg bringen; aber weil Herr Macron und Frau Merkel dann doch mit ihrem Vertrag fertig wurden, hat man das kurzerhand abgesetzt. Frei nach dem Motto von Ludwig\\xa0XIV.: „L’état c’est moi.“\\n\\nZweitens. Der Aachener Vertrag, der durchaus auch sinnvolle Aspekte bei Kultur und Forschung enthält, setzt einen völlig falschen Schwerpunkt auf Aufrüstung. Wer meint, die EU sei in der Krise, weil zu wenig Waffen oder Flugzeugträger produziert werden, weil der militärisch-industrielle Komplex in Europa noch nicht mächtig genug ist, der hat nichts verstanden, verehrte Damen und Herren.\\n\\n({6})\\n\\nDie Kriege im Nahen und Mittleren Osten haben Terror, Staatenverfall und Flucht begünstigt. Mehr Aufrüstung bedeutet eben nicht mehr, sondern weniger Sicherheit und Stabilität in Europa.\\n\\nDrittens. Wir haben von einer geheimen Nebenabrede aus der Presse erfahren, wonach die Bundesregierung kein Veto bei gemeinsamen Rüstungsprojekten mit Frankreich einlegen wird, wenn die Waffen zum Beispiel nach Saudi-Arabien, an eine Diktatur, an Sponsoren des internationalen Terrorismus, geliefert werden. Die Begründung ist geradezu zynisch: Europe United, ein gemeinsames Europa, erfordere, dass wir unsere nationalen Waffenexportrichtlinien aufweichen. Das, verehrte Damen und Herren, ist ein Missbrauch der europäischen Idee.\\n\\n({7})\\n\\nGeht es um die Euro-Zone, um die schwarze Null oder eine Mindestlohnrichtlinie, soll die EU immer deutsch sprechen; aber bei Rüstungsexportrichtlinien oder einer echten Finanztransaktionsteuer entdeckt die GroKo ihr Herz für Europa, und angeblich ist nichts alleine durchsetzbar. Das nimmt Ihnen keiner ab.\\n\\n({8})\\n\\nViertens. Die Große Koalition will nun die sogenannte doppelte Mehrheit in der Geschäftsordnung der deutsch-französischen Versammlung verankern, damit ja nichts gegen die Mehrheit von Herrn Macron in Frankreich oder die Mehrheit von Frau Merkel in diesem Haus entschieden werden kann.\\n\\n({9})\\n\\nDann könnten die Parlamente aber auch gleich getrennt beraten. Das ist doch absurd, verehrte Kolleginnen und Kollegen.\\n\\n({10})\\n\\nDeutschland und Frankreich könnten Hoffnung für Europa stiften mit stärkerer Zusammenarbeit bei grenzüberschreitenden Investitionen, gegen Jugendarbeitslosigkeit oder gegen den Klimawandel, bei Strafsteuern auf Finanzflüsse in Steueroasen, auch solchen in der EU, bei Abrüstung oder bei einem Friedensdienst junger Deutscher und Franzosen, bei Forschungen im Bereich der künstlichen Intelligenz und auch bei der Bildung für natürliche Intelligenz, bei Kultur und deutsch-französischen Medien wie Arte. Das wäre im Geist von Égalité, Liberté und Fraternité.\\n\\n({11})\\n\\nIch fasse zusammen: Die Linke hat sich bemüht, zwischen dem Aachener Vertrag und dem Parlamentsabkommen zu unterscheiden. Wir erkennen auch die redlichen Bemühungen von Herrn Jung, für Ausgleich zu sorgen, an. Aber die ganze Hinterzimmerposse um dieses Parlamentsabkommen hat es uns verleidet. Sie überzeugt uns nicht. Deswegen wird meine Fraktion dem Parlamentsabkommen mehrheitlich nicht zustimmen. Die Linke fühlt sich der deutsch-französischen Freundschaft verpflichtet,\\n\\n({12})\\n\\naber nicht der Rüstungsindustrie und nicht den Regierungen in Berlin und Paris.\\n\\nVielen Dank.\\n\\n({13})',\n",
       " '\\n\\nMeine Damen und Herren! Sehr geehrter Herr Schlund, nach Ihren Ausführungen juckt es mich ein bisschen, jetzt einen kleinen Beitrag unter dem Arbeitstitel „Meine Erlebnisse nach der Tanzschule“ zu leisten. Aber das spare ich mir an dieser Stelle.\\n\\n({0})\\n\\nIch bin nämlich der Meinung, dass das ein so ernstes Thema ist, dass es eine andere Bearbeitung verdient hat, als Sie sie gerade vorgenommen haben.\\n\\n({1})\\n\\nMeine Damen und Herren, die Entscheidung für ein Kind ist eine der schönsten Entscheidungen, die wir treffen können. Ein Kind gibt Glück und Erfahrungen; man leidet mit ihm. Das ist eine sehr schöne Sache. Ich selbst habe mich sehr über meine drei Kinder gefreut. Es gibt aber auch Situationen und Lebenslagen, in denen man es nicht verantworten kann, ein Kind zu bekommen. Das ist selbstverständlich eine freie Entscheidung jedes Menschen\\xa0– von Mann und Frau übrigens.\\n\\n({2})\\n\\nWir haben als FDP nicht ohne Grund einen Mann hier nach vorne geschickt, nämlich um zu demonstrieren, dass Verhütung nicht nur Frauen, sondern genauso Männer etwas angeht. Aus diesem Grund haben wir als FDP einen Mann hier nach vorne geschickt.\\n\\n({3})\\n\\nDie FDP\\xa0– Sie wissen es\\xa0– steht für Selbstbestimmung in allen Lebenslagen. Sie kennen unsere anderen Anträge zu dieser Frage. Wir wollen Menschen unterstützen, die ungewollt kinderlos sind, aber wir wollen genauso Menschen unterstützen, die nicht ungewollt schwanger werden wollen. Es ist selbstverständlich, dass die FDP diese Menschen da unterstützt.\\n\\nMeine Damen und Herren, die vorliegenden Anträge beinhalten aber\\xa0– sagen wir mal\\xa0– ein Problem bzw. sogar mehrere Probleme.\\n\\nDas erste Problem ist, welche Verhütungsmittel genau erfasst werden sollen. Mit Sicherheit sollen Kondome erfasst werden, weil sie preiswert sind und auch vor Infektionen schützen. Aus meiner Sicht muss es aber zumindest möglich sein, auch anspruchsvollere Verhütungsmittel in den Leistungskatalog aufzunehmen.\\n\\n({4})\\n\\nDas werden wir im Einzelnen diskutieren müssen. Die Frage ist, ob auch die Pille danach dazugehört.\\n\\nZweites Problem. Muss man bei diesen weiteren, etwas anspruchsvolleren Verhütungsmitteln auch eine Pflicht zur Beratung vorsehen? Ich finde, auch diese Frage muss noch mal in aller Ruhe besprochen werden.\\n\\n({5})\\n\\nDer dritte Punkt, der geklärt werden muss, ist: Wer ist eigentlich der Kreis der Begünstigten? Ich finde, die Grünen greifen hier zu kurz. Sie wollen nur die Bezieher von Transferleistungen begünstigen.\\n\\n({6})\\n\\nAus meiner Sicht reicht das nicht aus. Es gibt Menschen, die keine Transferleistungen beziehen und trotzdem wenig Geld haben, sodass sie zumindest dann, wenn sie nicht nur Kondome, sondern andere Mittel brauchen, auch eine gewisse Hilfe benötigen. Das heißt, ich finde, die Grünen haben den Kreis wahrscheinlich zu klein gezogen.\\n\\nDie Linken haben den Kreis umgekehrt zu groß gezogen. Sie können mir nicht ernsthaft erzählen, dass ein Ehepaar, bei dem beide gut verdienen, Geld für die Pille braucht. Das können sie beim besten Willen wirklich selber bezahlen. Auch insofern wird also nachzusteuern sein.\\n\\nViertens und Letztens\\xa0– das wurde hier auch schon erwähnt\\xa0– ist auch wichtig, dass wir versicherungsfremde Leistungen natürlich nicht den Beitragszahlern\\xa0– weder den Arbeitgebern noch den Arbeitnehmern\\xa0– auferlegen können. Darum wird man hierüber auch noch diskutieren müssen.\\n\\nMeine Damen und Herren, die FDP ist hier sehr wohlgesonnen. Die Menschen im Lande können sich auf uns verlassen. Wir helfen ihnen bei ungewollter Kinderlosigkeit, aber auch gegen eine ungewollte Schwangerschaft. Das darf am Geld nicht scheitern.\\n\\nWir werden zustimmen, den Antrag in die Ausschüsse zu überweisen, und dort über die Details reden. Grundsätzlich unterstützen wir diese Anträge auf jeden Fall, aber an Details wird noch gearbeitet werden müssen.\\n\\nVielen Dank.\\n\\n({7})']"
      ]
     },
     "execution_count": 13,
     "metadata": {},
     "output_type": "execute_result"
    }
   ],
   "source": [
    "print(len(speeches))\n",
    "print(len(regex_df_1)) # How many entries started with a supposed greeting\n",
    "print(len(regex_df_3)) # How many entries have more than 300 tokens\n",
    "[i for i in regex_df_3['speech_content'].sample(5)] # look at some samples (we looked at more than 5 of course! this is just so the notebook doesn't get too cluttered)"
   ]
  },
  {
   "cell_type": "code",
   "execution_count": 15,
   "metadata": {
    "execution": {
     "iopub.execute_input": "2024-03-24T13:52:22.045549Z",
     "iopub.status.busy": "2024-03-24T13:52:22.044549Z",
     "iopub.status.idle": "2024-03-24T13:52:36.337359Z",
     "shell.execute_reply": "2024-03-24T13:52:36.336823Z",
     "shell.execute_reply.started": "2024-03-24T13:52:22.045549Z"
    }
   },
   "outputs": [],
   "source": [
    "regex_df_3.to_pickle('parliament_speeches.pkl')"
   ]
  },
  {
   "cell_type": "code",
   "execution_count": 16,
   "metadata": {
    "execution": {
     "iopub.execute_input": "2024-03-24T13:52:36.339909Z",
     "iopub.status.busy": "2024-03-24T13:52:36.338901Z",
     "iopub.status.idle": "2024-03-24T13:52:36.766352Z",
     "shell.execute_reply": "2024-03-24T13:52:36.766352Z",
     "shell.execute_reply.started": "2024-03-24T13:52:36.339909Z"
    }
   },
   "outputs": [
    {
     "data": {
      "image/png": "[encoded data removed]",
      "text/plain": [
       "<Figure size 640x480 with 1 Axes>"
      ]
     },
     "metadata": {},
     "output_type": "display_data"
    }
   ],
   "source": [
    "plt.hist(regex_df_2['tokenized_length'], bins= 100) # show that there are many short contributions (these are mostly announcements of who speaks next etc.)\n",
    "plt.xlim(0, 2000)\n",
    "plt.show()"
   ]
  },
  {
   "cell_type": "code",
   "execution_count": 15,
   "metadata": {
    "execution": {
     "iopub.execute_input": "2024-03-24T00:56:50.506759Z",
     "iopub.status.busy": "2024-03-24T00:56:50.500868Z",
     "iopub.status.idle": "2024-03-24T00:56:50.522263Z",
     "shell.execute_reply": "2024-03-24T00:56:50.521272Z",
     "shell.execute_reply.started": "2024-03-24T00:56:50.506759Z"
    }
   },
   "outputs": [
    {
     "data": {
      "text/plain": [
       "['Kollege Lenz, das war Ihre erste Rede im Deutschen\\n\\nBundestag. Ich gratuliere Ihnen recht herzlich und wünsche Ihnen viel Erfolg für die Zukunft.\\n\\n({0})\\nIch gratuliere Ihnen im Übrigen aus doppeltem\\nGrunde: Zum einen ist eine solche Premiere immer aufregend. Zum anderen ist Ihnen gelungen, was den wenigsten Rednern gelingt, wenn sie das erste Mal hier sprechen, nämlich die Redezeit nicht nur einzuhalten,\\nsondern sogar darunter zu bleiben.\\n\\n({1})\\n\\nDas Wort hat die Kollegin Sabine Poschmann für die\\nSPD-Fraktion.\\n\\n({2})\\n\\n',\n",
       " 'Vielen lieben Dank, Frau Kollegin, dass Sie die Zwischenfrage gestatten. - Die Zuhörerinnen und Zuhörer\\nmussten fast den Eindruck gewinnen - so befürchte ich -,\\nals wollten wir Linke, dass für die Kunden das Gleiche\\nwie für die Banken gelten muss, nämlich der Leitzins der\\nEuropäischen Zentralbank, der derzeit bei 0,25 Prozent\\nliegt. Deswegen ist meine Frage: Haben Sie zur Kenntnis genommen, dass wir als Linke nicht fordern, diesen\\neins zu eins umzusetzen, sondern vielmehr gefordert haben, dass der Dispozinssatz maximal 5 Prozentpunkte\\nüber diesem Leitzinssatz liegt? Bei diesem Vorschlag der\\nLinken müsste doch immer noch genügend Geld für die\\nVerwaltungstätigkeit und auch ein bisschen Geld für die\\nGewinne der Banken übrig bleiben. Haben Sie also zur\\nKenntnis genommen, dass wir einen durchaus moderaten Vorschlag machen?\\n\\n',\n",
       " 'Danke, Frau Präsidentin! - Verehrter Herr Kollege\\n\\nGauweiler, ich habe immer versucht, meine Bemerkungen in Fragen zu verstecken. Ich bin über das neue Verfahren etwas verwundert; aber ich werde das auch jetzt\\nversuchen.\\n\\nHerr Gauweiler, niemand bestreitet die Risiken, die\\nDeutschland im Zuge der Euro-Rettung eingegangen ist.\\nWir haben das offen beschlossen; das ist Recht und Gesetz. Wir haben darüber unterschiedliche Auffassungen.\\nDas habe ich nie geleugnet. Dennoch möchte ich Sie vor\\ndem Hintergrund des netten Verweises darauf hinweisen,\\ndass im Gegensatz zu Ihrem sehr lobenswerten Projekt\\nder Europäische Stabilisierungsmechanismus im letzten\\nJahr immerhin einen beträchtlichen Millionengewinn\\nausgewiesen hat. Das unterscheidet ihn insofern von Ihrem Projekt. Der ESM macht Gewinne; das kann anhand\\nvon Drucksachen belegt werden. Darum meine Frage, ob\\nSie diese Gewinne zur Kenntnis nehmen.\\n\\nDanke.\\n\\n',\n",
       " '\\n\\nFrau Präsidentin! Meine sehr verehrten Kolleginnen und Kollegen! Meine sehr verehrten Damen und Herren auf den Besuchertribünen und zu Hause an den Bildschirmen! An die FDP gerichtet: Ich hätte mich wirklich gefreut, wenn Sie einmal eigene Vorschläge gemacht hätten. Nachdem Sie, als Sie mit der CDU/CSU in der Regierung waren, den Eingliederungstitel zusammengespart haben und die Instrumente zur Unterstützung von Langzeitarbeitslosen reduziert haben, stellen Sie sich hierhin und geben keine einzige Antwort. Das ist wirklich schade an dieser Stelle.\\n\\n({0})\\n\\nZu meiner Vorrednerin: Viele Punkte werden wir im parlamentarischen Verfahren diskutieren, weil sie ein sehr gutes Gesetz noch besser machen würden. Deshalb: Schauen wir mal, was in zweiter und dritter Lesung herauskommt.\\n\\nIch will Ihnen zu Anfang etwas erzählen, was mir begegnet ist in meiner Tätigkeit als Bundestagsabgeordnete. Ich habe vor ungefähr zehn Jahren bei der städtischen Beschäftigungsgesellschaft in Pforzheim eine ungefähr so groß geratene Frau wie ich, etwas stämmig, etwa 55\\xa0Jahre alt, kennengelernt, die mir von ihrem Alltag als Langzeitarbeitslose erzählt hat.\\n\\n({1})',\n",
       " '\\n\\nHerr Kollege Oellers, die unabhängige ergänzende Teilhabeberatung ist ein großer Fortschritt, den dieses Parlament im Rahmen des Bundesteilhabegesetzes beschlossen hat, und eigentlich eine große Erfolgsgeschichte. Ich glaube, wir haben dort über 1\\u202f800\\xa0Stellen, und in vielen Bereichen läuft das sehr reibungslos. Trotzdem gibt es die Rückmeldungen, die Sie beschrieben haben. Wir versuchen, dem nachzugehen und die Probleme zu lösen. Es ist so, dass wir nach dem Start im Jahr\\xa02018 mittlerweile viele auslaufende Angebote haben. Die gute Nachricht ist, dass fast alle verlängert werden.\\n\\nEs gibt aber Kritik im Einzelfall. Wir sind im Gespräch, um die Probleme zu lösen und dann dafür zu sorgen, dass wir dauerhaft die Ergänzende unabhängige Teilhabeberatung in Deutschland implementieren, die den Menschen mit Behinderung wirklich hilft, gleichberechtigt teilzuhaben. Für mich ist es eine vorbildhafte Art des Sozialstaates, dass Menschen nicht immer genau wissen müssen, welches Sozialgesetzbuch für sie verantwortlich ist, sondern dass ihnen einfach geholfen und Rat gegeben wird. Das ist eine Erfolgsgeschichte, und wo es Probleme gibt, werden wir sie lösen.']"
      ]
     },
     "execution_count": 15,
     "metadata": {},
     "output_type": "execute_result"
    }
   ],
   "source": [
    "[i for i in regex_df_2[(regex_df_2['tokenized_length'] > 100) & (regex_df_2['tokenized_length'] < 300)]['speech_content'].sample(5)] # the ones that are a bit longer are responses\n",
    "# starting at 300 tokens the contributions are mostly speeches! (see sample above)"
   ]
  },
  {
   "cell_type": "markdown",
   "metadata": {},
   "source": [
    "## Removing non-topic Speeches"
   ]
  },
  {
   "cell_type": "code",
   "execution_count": 17,
   "metadata": {
    "execution": {
     "iopub.execute_input": "2024-03-24T13:52:36.769364Z",
     "iopub.status.busy": "2024-03-24T13:52:36.769364Z",
     "iopub.status.idle": "2024-03-24T13:52:42.172713Z",
     "shell.execute_reply": "2024-03-24T13:52:42.172127Z",
     "shell.execute_reply.started": "2024-03-24T13:52:36.769364Z"
    }
   },
   "outputs": [],
   "source": [
    "fin_df = pd.read_pickle('parliament_speeches.pkl')"
   ]
  },
  {
   "cell_type": "code",
   "execution_count": 18,
   "metadata": {
    "execution": {
     "iopub.execute_input": "2024-03-24T13:52:42.174936Z",
     "iopub.status.busy": "2024-03-24T13:52:42.174325Z",
     "iopub.status.idle": "2024-03-24T13:53:48.341744Z",
     "shell.execute_reply": "2024-03-24T13:53:48.340740Z",
     "shell.execute_reply.started": "2024-03-24T13:52:42.174936Z"
    }
   },
   "outputs": [
    {
     "name": "stderr",
     "output_type": "stream",
     "text": [
      "C:\\Users\\Andri\\AppData\\Local\\Temp\\ipykernel_19240\\4280228981.py:3: UserWarning: This pattern is interpreted as a regular expression, and has match groups. To actually get the groups, use str.extract.\n",
      "  matches_ukraine_war = fin_df['speech_content'].str.contains(pattern_ukraine_war, case=False, flags=re.IGNORECASE)\n"
     ]
    },
    {
     "name": "stdout",
     "output_type": "stream",
     "text": [
      "3094\n"
     ]
    },
    {
     "name": "stderr",
     "output_type": "stream",
     "text": [
      "C:\\Users\\Andri\\AppData\\Local\\Temp\\ipykernel_19240\\4280228981.py:10: UserWarning: This pattern is interpreted as a regular expression, and has match groups. To actually get the groups, use str.extract.\n",
      "  matches_covid = fin_df['speech_content'].str.contains(pattern_covid, case=False, flags=re.IGNORECASE)\n"
     ]
    },
    {
     "name": "stdout",
     "output_type": "stream",
     "text": [
      "2913\n"
     ]
    },
    {
     "name": "stderr",
     "output_type": "stream",
     "text": [
      "C:\\Users\\Andri\\AppData\\Local\\Temp\\ipykernel_19240\\4280228981.py:16: UserWarning: This pattern is interpreted as a regular expression, and has match groups. To actually get the groups, use str.extract.\n",
      "  matches_migration = fin_df['speech_content'].str.contains(pattern_migration, case=False, flags=re.IGNORECASE)\n"
     ]
    },
    {
     "name": "stdout",
     "output_type": "stream",
     "text": [
      "4247\n"
     ]
    }
   ],
   "source": [
    "# # regex pattern to match speeches about the war on Ukraine\n",
    "pattern_ukraine_war = r'(?i)\\b(Krieg|Konflikt|Invasion|Krise|Angriffskrieg|conflict|crisis)\\b.*\\b(Ukraine|Kyiv|Donbas|Krim|Kiew|Russland|Putin|Moskau)\\b|\\b(Ukraine|Kyiv|Donbas|Krim|Kiew|Russland|Putin|Moskau)\\b.'\n",
    "matches_ukraine_war = fin_df['speech_content'].str.contains(pattern_ukraine_war, case=False, flags=re.IGNORECASE)\n",
    "ukraine_war_speeches = fin_df[matches_ukraine_war]\n",
    "print(len(ukraine_war_speeches))\n",
    "\n",
    "\n",
    "# now Covid\n",
    "pattern_covid = r'(?i)\\b(COVID-19|Coronavirus|Pandemie|SARS-CoV-2|Quarantäne|Lockdown|Social Distancing|Ausgangsbeschränkung(en)?|Maskenpflicht|Impfpass|Corona-Virus|Infektion(en)?|Gesundheitsnotstand|Impfpflicht)\\b'\n",
    "matches_covid = fin_df['speech_content'].str.contains(pattern_covid, case=False, flags=re.IGNORECASE)\n",
    "covid_speeches = fin_df[matches_covid]\n",
    "print(len(covid_speeches))\n",
    "\n",
    "# now Migration \n",
    "pattern_migration = r'(?i)\\b(Flüchtlinge?|Migration|Asylbewerber?|Geflüchtete?|Asylverfahren|Einwanderer?|Auswanderer?|Immigrant(en)?|Emigrant(en)?|Zuwanderer?|Vertriebene?|Schutzsuchende?|Migranten?|Asylrecht|Grenzübergang|Visapolitik|Einreiseverbot)\\b'\n",
    "matches_migration = fin_df['speech_content'].str.contains(pattern_migration, case=False, flags=re.IGNORECASE)\n",
    "migration_speeches = fin_df[matches_migration]\n",
    "print(len(migration_speeches))"
   ]
  },
  {
   "cell_type": "code",
   "execution_count": 19,
   "metadata": {
    "execution": {
     "iopub.execute_input": "2024-03-24T13:53:48.342744Z",
     "iopub.status.busy": "2024-03-24T13:53:48.342744Z",
     "iopub.status.idle": "2024-03-24T13:53:52.606375Z",
     "shell.execute_reply": "2024-03-24T13:53:52.604739Z",
     "shell.execute_reply.started": "2024-03-24T13:53:48.342744Z"
    }
   },
   "outputs": [],
   "source": [
    "ukraine_war_speeches.to_pickle('ukraine_war_speeches.pkl')\n",
    "covid_speeches.to_pickle('covid_speeches.pkl')\n",
    "migration_speeches.to_pickle('migration_speeches.pkl')"
   ]
  }
 ],
 "metadata": {
  "kernelspec": {
   "display_name": "Python 3 (ipykernel)",
   "language": "python",
   "name": "python3"
  },
  "language_info": {
   "codemirror_mode": {
    "name": "ipython",
    "version": 3
   },
   "file_extension": ".py",
   "mimetype": "text/x-python",
   "name": "python",
   "nbconvert_exporter": "python",
   "pygments_lexer": "ipython3",
   "version": "3.12.1"
  }
 },
 "nbformat": 4,
 "nbformat_minor": 4
}
