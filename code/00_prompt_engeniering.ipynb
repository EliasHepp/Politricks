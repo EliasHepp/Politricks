{
 "cells": [
  {
   "cell_type": "markdown",
   "metadata": {},
   "source": [
    "# Seminar Project: Speech and Article Prompting\n",
    "\n",
    "---------------\n",
    "``` \n",
    "\n",
    "Jakob Amann\n",
    "Elias Gabriel Heppner, 1244414\n",
    "Andri Rutschmann"
   ]
  },
  {
   "cell_type": "markdown",
   "metadata": {},
   "source": [
    "***"
   ]
  },
  {
   "cell_type": "code",
   "execution_count": 3,
   "metadata": {
    "execution": {
     "iopub.execute_input": "2024-03-18T17:43:31.275824Z",
     "iopub.status.busy": "2024-03-18T17:43:31.275824Z",
     "iopub.status.idle": "2024-03-18T17:43:38.389836Z",
     "shell.execute_reply": "2024-03-18T17:43:38.389292Z",
     "shell.execute_reply.started": "2024-03-18T17:43:31.275824Z"
    }
   },
   "outputs": [
    {
     "name": "stderr",
     "output_type": "stream",
     "text": [
      "C:\\Users\\Andri\\envs\\css\\Lib\\site-packages\\tqdm\\auto.py:21: TqdmWarning: IProgress not found. Please update jupyter and ipywidgets. See https://ipywidgets.readthedocs.io/en/stable/user_install.html\n",
      "  from .autonotebook import tqdm as notebook_tqdm\n"
     ]
    }
   ],
   "source": [
    "# Setup\n",
    "import numpy as np \n",
    "import pandas as pd \n",
    "import time\n",
    "import pickle\n",
    "import time\n",
    "from tqdm.auto import tqdm\n",
    "import nltk\n",
    "# nltk.download('punkt')\n",
    "from nltk.tokenize import word_tokenize # import tokenizer to estimate token count of a speech\n",
    "import openai\n",
    "import zipfile\n",
    "import json\n",
    "\n",
    "# api_keys = [\"wAlKn00lAQIdM4R9nskS\", \"4hohJnlUY52Tqk24HXfh\", '6uS6Kv0efLZLGsy0In3m'] # elias, jakob, andri\n",
    "api_key = 'XbnxolhCiP1Stk0yWsJd'\n",
    "openai.api_base = \"http://91.107.239.71:80\"\n",
    "openai.api_key = api_key # choose api key\n",
    "\n",
    "speeches = pd.read_csv('../data/opendiscourse/sub_speeches.zip', compression='zip')"
   ]
  },
  {
   "cell_type": "markdown",
   "metadata": {},
   "source": [
    "## Hyperparameters"
   ]
  },
  {
   "cell_type": "code",
   "execution_count": 14,
   "metadata": {
    "execution": {
     "iopub.execute_input": "2024-03-18T17:45:16.963118Z",
     "iopub.status.busy": "2024-03-18T17:45:16.963118Z",
     "iopub.status.idle": "2024-03-18T17:45:16.965413Z",
     "shell.execute_reply": "2024-03-18T17:45:16.965413Z",
     "shell.execute_reply.started": "2024-03-18T17:45:16.963118Z"
    }
   },
   "outputs": [],
   "source": [
    "max_tokens = 3000"
   ]
  },
  {
   "cell_type": "markdown",
   "metadata": {},
   "source": [
    "## Politician Selection"
   ]
  },
  {
   "cell_type": "code",
   "execution_count": 4,
   "metadata": {
    "execution": {
     "iopub.execute_input": "2024-03-18T17:43:38.390973Z",
     "iopub.status.busy": "2024-03-18T17:43:38.390973Z",
     "iopub.status.idle": "2024-03-18T17:43:38.393932Z",
     "shell.execute_reply": "2024-03-18T17:43:38.393932Z",
     "shell.execute_reply.started": "2024-03-18T17:43:38.390973Z"
    }
   },
   "outputs": [],
   "source": [
    "# Define topics\n",
    "topics_de = [\"Waffenlieferungen an die Ukraine\", \"Covid-19 Restriktionen\", 'Migration']\n",
    "topics_en = ['Weapon exports to Ukraine', 'Covid-19 Restrictions', 'Migration']"
   ]
  },
  {
   "cell_type": "code",
   "execution_count": 5,
   "metadata": {
    "execution": {
     "iopub.execute_input": "2024-03-18T17:43:38.394937Z",
     "iopub.status.busy": "2024-03-18T17:43:38.394937Z",
     "iopub.status.idle": "2024-03-18T17:43:38.398086Z",
     "shell.execute_reply": "2024-03-18T17:43:38.398086Z",
     "shell.execute_reply.started": "2024-03-18T17:43:38.394937Z"
    }
   },
   "outputs": [],
   "source": [
    "# Filter the speeches on these topics\n",
    "# speeches"
   ]
  },
  {
   "cell_type": "code",
   "execution_count": 6,
   "metadata": {
    "execution": {
     "iopub.execute_input": "2024-03-18T17:43:38.668769Z",
     "iopub.status.busy": "2024-03-18T17:43:38.667756Z",
     "iopub.status.idle": "2024-03-18T17:43:38.672310Z",
     "shell.execute_reply": "2024-03-18T17:43:38.672162Z",
     "shell.execute_reply.started": "2024-03-18T17:43:38.668769Z"
    }
   },
   "outputs": [],
   "source": [
    "# Select most active politicians\n",
    "politicians = [{'name' : 'Alice Weidel', 'party' : 'AfD'},\n",
    "              # {'name' : 'Alexander Gauland', 'party' : 'AfD'},\n",
    "              {'name' : 'Olaf Scholz', 'party' : 'SPD'},\n",
    "              # {'name' : 'Helge Lindh', 'party' : 'SPD'},\n",
    "              {'name' : 'Jens Spahn', 'party' : 'CDU/CSU'},\n",
    "              # {'name' : 'Angela Merkel', 'party' : 'CDU/CSU'},\n",
    "              # {'name' : 'Konstantin Kuhle', 'party' : 'FDP'},\n",
    "              {'name' : 'Christian Lindner', 'party' : 'FDP'},\n",
    "              # {'name' : 'Volker Beck', 'party' : 'Grüne'},\n",
    "              {'name' : 'Luise Amtsberg', 'party' : 'Grüne'},]\n",
    "\n",
    "politician_df = pd.DataFrame(politicians)\n",
    "\n",
    "newspapers = ['taz', 'Zeit', 'Süddeutsche', 'Spiegel', 'Welt'] # BILD?!"
   ]
  },
  {
   "cell_type": "code",
   "execution_count": 7,
   "metadata": {
    "execution": {
     "iopub.execute_input": "2024-03-18T17:43:39.596450Z",
     "iopub.status.busy": "2024-03-18T17:43:39.595356Z",
     "iopub.status.idle": "2024-03-18T17:43:39.639269Z",
     "shell.execute_reply": "2024-03-18T17:43:39.639269Z",
     "shell.execute_reply.started": "2024-03-18T17:43:39.596450Z"
    }
   },
   "outputs": [],
   "source": [
    "# Remove all speeches from other politicians\n",
    "speeches = speeches[speeches['last_name'].isin([i['name'].split()[1] for i in politicians])]"
   ]
  },
  {
   "cell_type": "markdown",
   "metadata": {},
   "source": [
    "### Prompt Setup"
   ]
  },
  {
   "cell_type": "code",
   "execution_count": 8,
   "metadata": {
    "execution": {
     "iopub.execute_input": "2024-03-18T17:43:41.030785Z",
     "iopub.status.busy": "2024-03-18T17:43:41.030260Z",
     "iopub.status.idle": "2024-03-18T17:43:41.046080Z",
     "shell.execute_reply": "2024-03-18T17:43:41.046080Z",
     "shell.execute_reply.started": "2024-03-18T17:43:41.030785Z"
    }
   },
   "outputs": [
    {
     "data": {
      "text/html": [
       "<div>\n",
       "<style scoped>\n",
       "    .dataframe tbody tr th:only-of-type {\n",
       "        vertical-align: middle;\n",
       "    }\n",
       "\n",
       "    .dataframe tbody tr th {\n",
       "        vertical-align: top;\n",
       "    }\n",
       "\n",
       "    .dataframe thead th {\n",
       "        text-align: right;\n",
       "    }\n",
       "</style>\n",
       "<table border=\"1\" class=\"dataframe\">\n",
       "  <thead>\n",
       "    <tr style=\"text-align: right;\">\n",
       "      <th></th>\n",
       "      <th>name</th>\n",
       "      <th>party</th>\n",
       "    </tr>\n",
       "  </thead>\n",
       "  <tbody>\n",
       "    <tr>\n",
       "      <th>0</th>\n",
       "      <td>Alice Weidel</td>\n",
       "      <td>AfD</td>\n",
       "    </tr>\n",
       "    <tr>\n",
       "      <th>1</th>\n",
       "      <td>Olaf Scholz</td>\n",
       "      <td>SPD</td>\n",
       "    </tr>\n",
       "    <tr>\n",
       "      <th>2</th>\n",
       "      <td>Jens Spahn</td>\n",
       "      <td>CDU/CSU</td>\n",
       "    </tr>\n",
       "    <tr>\n",
       "      <th>3</th>\n",
       "      <td>Christian Lindner</td>\n",
       "      <td>FDP</td>\n",
       "    </tr>\n",
       "    <tr>\n",
       "      <th>4</th>\n",
       "      <td>Luise Amtsberg</td>\n",
       "      <td>Grüne</td>\n",
       "    </tr>\n",
       "  </tbody>\n",
       "</table>\n",
       "</div>"
      ],
      "text/plain": [
       "                name    party\n",
       "0       Alice Weidel      AfD\n",
       "1        Olaf Scholz      SPD\n",
       "2         Jens Spahn  CDU/CSU\n",
       "3  Christian Lindner      FDP\n",
       "4     Luise Amtsberg    Grüne"
      ]
     },
     "execution_count": 8,
     "metadata": {},
     "output_type": "execute_result"
    }
   ],
   "source": [
    "politician_df"
   ]
  },
  {
   "cell_type": "markdown",
   "metadata": {},
   "source": [
    "### Prompt Generation"
   ]
  },
  {
   "cell_type": "markdown",
   "metadata": {},
   "source": [
    "## Impose speech length in some prompts and leave it out in others (impose a max)"
   ]
  },
  {
   "cell_type": "code",
   "execution_count": 11,
   "metadata": {
    "execution": {
     "iopub.execute_input": "2024-03-18T17:43:58.324891Z",
     "iopub.status.busy": "2024-03-18T17:43:58.324891Z",
     "iopub.status.idle": "2024-03-18T17:43:58.330904Z",
     "shell.execute_reply": "2024-03-18T17:43:58.330391Z",
     "shell.execute_reply.started": "2024-03-18T17:43:58.324891Z"
    }
   },
   "outputs": [],
   "source": [
    "# Function that generates prompt\n",
    "\n",
    "def make_prompt(politician, topic, party=True, language='en', printing=False):\n",
    "    if language == 'en' and topic in topics_de:\n",
    "        raise ValueError('Please make sure the topic language and prompt language match.')\n",
    "\n",
    "    if party:\n",
    "        prompt_de = f'''Schreibe eine Rede für den Bundestag im Stil von {politician['name']} ({politician['party']}) zum Thema: {topic}.'''\n",
    "        prompt_en = f'''Compose a speech for parliament in the style of {politician['name']} ({politician['party']}) on the topic: {topic}.'''\n",
    "\n",
    "    if not party:\n",
    "        prompt_de = f'''Schreibe eine Rede für den Bundestag im Stil von {politician['name']} zum Thema: {topic}.'''\n",
    "        prompt_en = f'''Compose a speech for parliament in the style of {politician['name']} on the topic: {topic}.'''\n",
    "\n",
    "    if language == 'en':\n",
    "        out = prompt_en\n",
    "    else:\n",
    "        out = prompt_de\n",
    "\n",
    "    for i in (('\\n', ''), ('\\\\', '')): # replace new line chars and other nonsense...\n",
    "        out = out.replace(*i)\n",
    "        \n",
    "    if printing:\n",
    "        print(out)\n",
    "        \n",
    "    return out"
   ]
  },
  {
   "cell_type": "code",
   "execution_count": 12,
   "metadata": {
    "execution": {
     "iopub.execute_input": "2024-03-18T17:43:58.786645Z",
     "iopub.status.busy": "2024-03-18T17:43:58.786040Z",
     "iopub.status.idle": "2024-03-18T17:43:58.790613Z",
     "shell.execute_reply": "2024-03-18T17:43:58.790065Z",
     "shell.execute_reply.started": "2024-03-18T17:43:58.786645Z"
    }
   },
   "outputs": [
    {
     "data": {
      "text/plain": [
       "'Schreibe eine Rede für den Bundestag im Stil von Alice Weidel (AfD) zum Thema: Covid-19 Restriktionen.'"
      ]
     },
     "execution_count": 12,
     "metadata": {},
     "output_type": "execute_result"
    }
   ],
   "source": [
    "make_prompt(politicians[0], topics_de[1], language='de')"
   ]
  },
  {
   "cell_type": "code",
   "execution_count": 13,
   "metadata": {
    "execution": {
     "iopub.execute_input": "2024-03-18T17:44:28.147799Z",
     "iopub.status.busy": "2024-03-18T17:44:28.147799Z",
     "iopub.status.idle": "2024-03-18T17:44:28.153639Z",
     "shell.execute_reply": "2024-03-18T17:44:28.153639Z",
     "shell.execute_reply.started": "2024-03-18T17:44:28.147799Z"
    }
   },
   "outputs": [],
   "source": [
    "# Function that prompts LLM\n",
    "def llm_prompt(data, topic=None, party=True, language='en', n_runs=1, model='gpt-3.5-turbo-0125'):\n",
    "\n",
    "    prompt = make_prompt(politician=data, topic=topic, party=party, language=language)\n",
    "\n",
    "    while True:\n",
    "        try:\n",
    "            responses = openai.ChatCompletion.create(model=model,\n",
    "                                                     messages=[{\"role\": \"user\", \"content\": prompt}],\n",
    "                                                     max_tokens = int(avg_tokens * 1.5), # individual speech can be as much as 50% longer than the average\n",
    "                                                     n=n_runs)\n",
    "            \n",
    "            # overall average length must be between 80% and 120% of original average\n",
    "            # while (responses['usage']['completion_tokens'] / n_runs) < avg_tokens * 0.8 or (responses['usage']['completion_tokens'] / n_runs) > avg_tokens * 1.2:\n",
    "            #     responses = openai.ChatCompletion.create(model=model,\n",
    "            #                                          messages=[{\"role\": \"user\", \"content\": prompt}],\n",
    "            #                                          max_tokens = int(avg_tokens * 1.5), # individual speech can be as much as 50% longer than the average\n",
    "            #                                          n=n_runs)\n",
    "            break\n",
    "\n",
    "        except Exception as e:\n",
    "                print(f'Error: {e}')\n",
    "                continue\n",
    "\n",
    "    print(avg_tokens)\n",
    "    print(responses['usage']['completion_tokens'] / n_runs)\n",
    "    if n_runs == 1:\n",
    "        output = responses['choices'][0]['message']['content']\n",
    "        for i in (('\\n', ''), ('\\\\', '')): # replace new line chars and other nonsense\n",
    "            output = output.replace(*i) # .lower()\n",
    "\n",
    "    else:\n",
    "        output = []\n",
    "        for i in range(n_runs):\n",
    "            run_response = responses['choices'][i]['message']['content']\n",
    "            for i in (('\\n', ''), ('\\\\', '')): # replace new line chars and other nonsense\n",
    "                run_response = run_response.replace(*i) # .lower()\n",
    "            output.append(run_response)\n",
    "            \n",
    "    return output"
   ]
  },
  {
   "cell_type": "markdown",
   "metadata": {},
   "source": [
    "### Test Runs"
   ]
  },
  {
   "cell_type": "code",
   "execution_count": 29,
   "metadata": {
    "execution": {
     "iopub.execute_input": "2024-03-13T16:46:02.145113Z",
     "iopub.status.busy": "2024-03-13T16:46:02.145113Z",
     "iopub.status.idle": "2024-03-13T16:46:12.602638Z",
     "shell.execute_reply": "2024-03-13T16:46:12.601611Z",
     "shell.execute_reply.started": "2024-03-13T16:46:02.145113Z"
    }
   },
   "outputs": [
    {
     "name": "stdout",
     "output_type": "stream",
     "text": [
      "850\n",
      "572.0\n"
     ]
    },
    {
     "data": {
      "text/plain": [
       "'Meine Damen und Herren,ich stehe hier vor Ihnen, um über ein hochbrisantes Thema zu sprechen: die Waffenlieferungen an die Ukraine. Unser Land, Deutschland, ist in dieser Frage gespalten. Auf der einen Seite stehen die Befürworter dieser Lieferungen, die glauben, dass die Ukraine dringend unsere Unterstützung benötigt, um sich gegen die russische Aggression zu verteidigen. Auf der anderen Seite gibt es die Kritiker, die befürchten, dass Waffenlieferungen den Konflikt nur weiter anheizen und zu einer Eskalation führen könnten.Als Mitglied der Alternative für Deutschland setze ich mich dafür ein, dass Deutschland keine Waffen an die Ukraine liefert. Doch warum eigentlich nicht? Ist es nicht unsere Pflicht, einem souveränen Staat zu helfen, der von einem aggressiven Nachbarn bedroht wird?Ja, es ist wichtig, einem souveränen Staat zu helfen. Doch wir müssen auch die Folgen unseres Handelns bedenken. Waffenlieferungen könnten zu einer Eskalation des Konflikts führen und die Situation weiter verschärfen. Wir sehen bereits jetzt, wie der Konflikt in der Ukraine immer weiter eskaliert und die Zivilbevölkerung unter dem Krieg leidet.Darüber hinaus müssen wir auch die Rolle der USA und anderer NATO-Partner in diesem Konflikt berücksichtigen. Durch Waffenlieferungen an die Ukraine könnten wir weitere Spannungen zwischen Russland und dem Westen schüren. Es ist in unserem Interesse, gute Beziehungen zu Russland zu pflegen und nicht noch mehr Öl ins Feuer zu gießen.Wir sollten uns stattdessen für eine diplomatische Lösung des Konflikts einsetzen, die alle Parteien einbezieht und langfristig Frieden und Stabilität in der Region sichert. Deutschland kann eine wichtige Rolle dabei spielen, indem es sich für eine friedliche Lösung des Konflikts einsetzt und sich gegen weitere Waffenlieferungen ausspricht.Schlussendlich möchte ich betonen, dass es in unserem Interesse liegt, den Konflikt in der Ukraine zu beenden und eine friedliche Lösung zu finden. Waffenlieferungen sind keine Lösung, sondern könnten den Konflikt nur weiter anheizen. Wir müssen uns stattdessen für eine diplomatische Lösung einsetzen und alle Beteiligten an einen Tisch bringen.Vielen Dank für Ihre Aufmerksamkeit.'"
      ]
     },
     "execution_count": 29,
     "metadata": {},
     "output_type": "execute_result"
    }
   ],
   "source": [
    "llm_prompt(politicians[0], topics_de[0], language='de', n_runs=1)"
   ]
  },
  {
   "cell_type": "markdown",
   "metadata": {},
   "source": [
    "## Get some data samples for testing"
   ]
  },
  {
   "cell_type": "code",
   "execution_count": 70,
   "metadata": {
    "execution": {
     "iopub.execute_input": "2024-03-13T17:14:40.051625Z",
     "iopub.status.busy": "2024-03-13T17:14:40.051625Z",
     "iopub.status.idle": "2024-03-13T17:18:14.262261Z",
     "shell.execute_reply": "2024-03-13T17:18:14.262261Z",
     "shell.execute_reply.started": "2024-03-13T17:14:40.051625Z"
    },
    "scrolled": true
   },
   "outputs": [
    {
     "name": "stdout",
     "output_type": "stream",
     "text": [
      "850\n",
      "714.0\n",
      "850\n",
      "699.0\n",
      "850\n",
      "730.0\n",
      "850\n",
      "720.0\n",
      "850\n",
      "642.0\n",
      "850\n",
      "639.0\n",
      "850\n",
      "686.0\n",
      "850\n",
      "653.0\n",
      "850\n",
      "725.0\n",
      "850\n",
      "644.5\n",
      "850\n",
      "669.0\n",
      "850\n",
      "645.0\n",
      "850\n",
      "689.5\n",
      "850\n",
      "646.5\n",
      "850\n",
      "733.0\n"
     ]
    },
    {
     "data": {
      "text/plain": [
       "[{'name': 'Alice Weidel',\n",
       "  'party': 'AfD',\n",
       "  'llm_output': {'Waffenlieferungen an die Ukraine': ['Sehr geehrte Damen und Herren,ich stehe heute vor Ihnen, um über die brisante Frage der Waffenlieferungen an die Ukraine zu sprechen. Diese Entscheidung hat weitreichende geopolitische Folgen und verdient eine sorgfältige Betrachtung. Es ist wichtig, dass wir uns bewusst sind, welche Konsequenzen unsere Handlungen haben können und wie wir am besten dazu beitragen können, den Frieden in der Region zu erhalten.Die Ukraine ist seit Jahren in einem blutigen Konflikt mit prorussischen Separatisten im Osten des Landes verwickelt. Die Kämpfe haben unzählige Menschenleben gefordert und das Land in eine schwierige Lage gebracht. Es ist verständlich, dass die ukrainische Regierung nach Unterstützung sucht, um ihre Souveränität und territoriale Integrität zu verteidigen. Doch müssen wir uns die Frage stellen, ob Waffenlieferungen tatsächlich der richtige Weg sind, um die Situation zu lösen.Waffenlieferungen können dazu führen, dass der Konflikt eskaliert und noch mehr unschuldige Opfer fordert. Es besteht die Gefahr, dass die Waffen in die falschen Hände geraten und zu noch mehr Gewalt führen. Wir müssen bedenken, dass der Einsatz von Waffen immer mit Risiken verbunden ist und dass es oft bessere Wege gibt, Konflikte zu lösen.Ein weiterer wichtiger Aspekt, den wir nicht außer Acht lassen dürfen, ist die Rolle Russlands in diesem Konflikt. Russland hat wiederholt seine Unterstützung für die Separatisten gezeigt und trägt damit erheblich zur Eskalation des Konflikts bei. Es ist wichtig, dass wir Russland zur Rechenschaft ziehen und Druck auf Moskau ausüben, um eine friedliche Lösung des Konflikts zu erreichen.Es ist daher entscheidend, dass wir alle diplomatischen Mittel ausschöpfen, um eine politische Lösung des Konflikts zu erreichen. Wir müssen den Dialog zwischen den Konfliktparteien fördern, um Vertrauen aufzubauen und gemeinsame Lösungen zu finden. Waffenlieferungen sind in diesem Kontext nicht hilfreich und könnten den Friedensprozess eher behindern als voranbringen.Als Mitglied des Deutschen Bundestages und Vertreter der AfD stehe ich für eine Politik, die auf Dialog und Diplomatie setzt. Wir müssen gemeinsam daran arbeiten, den Konflikt in der Ukraine zu lösen und die Menschen vor weiterem Leid zu bewahren. Ich appelliere an alle Beteiligten, sich für eine friedliche Lösung des Konflikts einzusetzen und auf Gewalt zu verzichten.Wir müssen gemeinsam Verantwortung übernehmen und uns für den Frieden in der Ukraine einsetzen. Waffenlieferungen sind nicht der richtige Weg, um dieses Ziel zu erreichen. Lassen Sie uns gemeinsam nach besseren Lösungen suchen und die Menschen in der Ukraine unterstützen, damit sie endlich in Frieden leben können.Vielen Dank.',\n",
       "    'Sehr geehrte Damen und Herren,es ist an der Zeit, dass wir eine offene und ehrliche Diskussion über Waffenlieferungen an die Ukraine führen. Es ist eine Tatsache, dass die Ukraine seit Jahren von russischer Aggression bedroht wird. Die Annexion der Krim und der Konflikt in der Ostukraine haben gezeigt, dass die Ukraine dringend Unterstützung benötigt, um ihre Souveränität und territoriale Integrität zu verteidigen.Waffenlieferungen an die Ukraine sind ein legitimes Mittel, um die ukrainischen Streitkräfte in die Lage zu versetzen, sich gegen die russische Aggression zu verteidigen. Es geht hier nicht um eine Eskalation des Konflikts, sondern um die Sicherstellung, dass die Ukraine die Mittel hat, um sich selbst zu verteidigen und ihre Bürger zu schützen.Es ist erstaunlich, dass einige Parteien in diesem Parlament Waffenlieferungen an die Ukraine ablehnen. Diese Parteien scheinen die Realität der russischen Aggression zu ignorieren und verweigern den Ukrainern das Recht auf Selbstverteidigung. Wir dürfen nicht zulassen, dass die Ukraine im Stich gelassen wird, während sie gegen die russische Besatzung kämpft.Es ist wichtig zu betonen, dass Waffenlieferungen an die Ukraine nicht dazu dienen, den Konflikt weiter anzufachen. Im Gegenteil, sie dienen dazu, die Ukraine zu stärken und ihr die Möglichkeit zu geben, ihre Grenzen zu schützen. Die fiktive Behauptung, dass Waffenlieferungen den Konflikt verlängern, ist nichts weiter als eine Ausrede, um die Ukraine im Stich zu lassen.Es ist an der Zeit, dass Deutschland und die EU ihrer Verantwortung in Bezug auf die Ukraine gerecht werden. Wir dürfen nicht sehenden Auges zusehen, wie ein souveräner Staat von einem aggressiven Nachbarn bedroht wird. Waffenlieferungen an die Ukraine sind ein notwendiger Schritt, um die Sicherheit und Stabilität in Europa zu gewährleisten.Es ist höchste Zeit, dass wir die Realität der russischen Aggression anerkennen und entsprechende Maßnahmen ergreifen. Waffenlieferungen an die Ukraine sind ein wichtiger Schritt, um die ukrainische Souveränität zu verteidigen und Russland in die Schranken zu weisen. Wir dürfen nicht zulassen, dass die Ukraine alleine gelassen wird im Kampf gegen die russische Aggression.Es ist an der Zeit, dass wir unseren Worten Taten folgen lassen und der Ukraine die Unterstützung geben, die sie dringend benötigt. Waffenlieferungen an die Ukraine sind ein notwendiger Schritt, um die Sicherheit und Stabilität in Europa zu gewährleisten. Wir dürfen nicht zulassen, dass die Ukraine im Konflikt mit Russland alleine gelassen wird. Es ist unsere Verantwortung, der Ukraine in ihrem Kampf für Frieden und Freiheit beizustehen.Vielen Dank für Ihre Aufmerksamkeit.'],\n",
       "   'Covid-19 Restriktionen': ['Sehr geehrte Damen und Herren,als Mitglied der AfD-Fraktion möchte ich heute meine Bedenken und Kritik an den aktuellen Covid-19 Restriktionen zum Ausdruck bringen. Wir leben in einer Demokratie, in der Freiheit und Grundrechte einen hohen Stellenwert haben. Doch seit Beginn der Pandemie wurden diese Rechte immer wieder eingeschränkt und beschnitten. Es ist an der Zeit, dass wir überdenken, ob diese Maßnahmen wirklich verhältnismäßig und effektiv sind.Es ist unbestreitbar, dass Covid-19 eine ernstzunehmende Gefahr darstellt und dass Schutzmaßnahmen notwendig sind. Doch die Frage ist, ob die bisherigen Restriktionen wirklich das beste Mittel sind, um das Virus einzudämmen. Statt auf Verbote und Einschränkungen zu setzen, sollten wir mehr auf Aufklärung, Prävention und den Schutz von Risikogruppen setzen. Es ist entscheidend, dass die Menschen eigenverantwortlich handeln und sich bewusst machen, wie sie sich und andere schützen können.Die Schließung von Geschäften, Restaurants und Kultureinrichtungen hat nicht nur gravierende wirtschaftliche Folgen, sondern beeinträchtigt auch das soziale Leben vieler Menschen. Das führt zu Isolation, Einsamkeit und psychischen Problemen. Es ist wichtig, dass wir die Auswirkungen der Restriktionen auf die Gesellschaft als Ganzes berücksichtigen und nicht nur auf die Bekämpfung des Virus fokussieren.Darüber hinaus müssen wir auch die langfristigen Folgen der Restriktionen beachten. Viele Unternehmen kämpfen um ihr Überleben, Arbeitsplätze gehen verloren und die Wirtschaft leidet. Es ist unverantwortlich, diese Folgen zu ignorieren und weiterhin auf einen Lockdown zu setzen, der nur kurzfristige Erfolge bringt, aber langfristig mehr Schaden als Nutzen verursacht.Es ist an der Zeit, dass die Regierung eine umfassende Strategie entwickelt, die sowohl den Schutz der Bevölkerung als auch die Wahrung der Grundrechte und die Unterstützung der Wirtschaft berücksichtigt. Wir brauchen eine differenzierte und flexible Herangehensweise, die auf wissenschaftlichen Erkenntnissen basiert und nicht auf willkürlichen Maßnahmen.Als AfD-Fraktion fordern wir daher eine Neubewertung der aktuellen Restriktionen und eine Überprüfung ihrer Wirksamkeit und Verhältnismäßigkeit. Es ist Zeit, dass wir den Mut haben, alternative Wege zu gehen und auf die Einsicht und Eigenverantwortung der Bürger zu setzen. Nur so können wir die Krise erfolgreich bewältigen und unseren freiheitlichen demokratischen Grundwerten treu bleiben.Vielen Dank für Ihre Aufmerksamkeit.',\n",
       "    'Sehr geehrte Damen und Herren des Bundestages, es ist an der Zeit, Klartext zu reden. Die Covid-19 Restriktionen, die seit über einem Jahr unser Land in einem Klammergriff halten, sind inakzeptabel und unverhältnismäßig. Es ist an der Zeit, dass wir die Realität akzeptieren und die Freiheiten unserer Bürger zurückgeben.Ja, die Pandemie ist real und ernst zu nehmen. Ja, es ist wichtig, die Verbreitung des Virus einzudämmen und vulnerable Gruppen zu schützen. Doch sind die aktuellen Maßnahmen wirklich der richtige Weg, um dieses Ziel zu erreichen? Ich sage Nein.Die Lockdowns, die Schließung von Geschäften und Restaurants, die Ausgangssperren - all diese Maßnahmen haben verheerende Auswirkungen auf die Wirtschaft, die Psyche der Menschen und unsere Gesellschaft als Ganzes. Hunderttausende von Unternehmen mussten schließen, Millionen von Menschen haben ihre Jobs verloren und leiden unter existenziellen Ängsten. Die Isolation und Ungewissheit haben zu einem Anstieg von Depressionen, Angststörungen und Suiziden geführt. Ist das wirklich der Schutz, den wir unseren Bürgern bieten wollen?Wir müssen die Balance finden zwischen dem Schutz der Gesundheit und dem Schutz unserer Freiheiten. Es ist möglich, beides zu erreichen, wenn wir intelligente und zielgerichtete Maßnahmen ergreifen. Die Unterstützung von vulnerable Gruppen, die Förderung von Hygienemaßnahmen und Tests, die schnelle Impfkampagne - das sind die Wege, die wir einschlagen sollten.Die Politik der Angst und Panikmache, die von der Regierung und den Mainstream-Medien betrieben wird, muss ein Ende haben. Es ist Zeit für eine ehrliche Diskussion über die Folgen der Restriktionen und die Alternativen, die wir haben. Wir müssen die Meinungsfreiheit schützen und den wissenschaftlichen Diskurs fördern. Nur so können wir die besten Lösungen finden und die Akzeptanz in der Bevölkerung stärken.Wir müssen auch über die langfristigen Auswirkungen der Restriktionen sprechen. Die Verschuldung unseres Landes wächst ins Unermessliche, die sozialen Probleme nehmen zu und die Spaltung der Gesellschaft vertieft sich. Ist das wirklich das Deutschland, das wir unseren Kindern übergeben wollen?Es ist an der Zeit, dass wir unsere Verantwortung als Politikerinnen und Politiker ernst nehmen und unsere Entscheidungen auf Fakten und Vernunft basieren. Es ist an der Zeit, dass wir die Stimmen der Menschen hören, die unter den Restriktionen leiden und sich nach einer normalen, freien Gesellschaft sehnen.Lassen Sie uns gemeinsam für ein Deutschland kämpfen, das auf Freiheit, Vernunft und Solidarität basiert. Lassen Sie uns gemeinsam die Covid-19 Restriktionen überdenken und eine bessere Zukunft für unser Land aufbauen. Es liegt in unserer Hand, die richtigen Entscheidungen zu treffen. Vielen Dank.'],\n",
       "   'Migration': ['Sehr geehrte Kolleginnen und Kollegen,ich stehe heute hier vor Ihnen, um über ein Thema zu sprechen, das unser Land und unsere Gesellschaft seit Jahren spaltet: Migration. Es ist unumstritten, dass Deutschland ein Einwanderungsland ist und von Zuwanderung profitieren kann. Doch die Art und Weise, wie mit dieser Thematik umgegangen wird, ist in den letzten Jahren aus dem Ruder gelaufen.Die unkontrollierte Masseneinwanderung, die wir in den Jahren 2015 und 2016 erlebt haben, hat zu großen Problemen in unserer Gesellschaft geführt. Es wurde versäumt, die grenzenlose Zuwanderung zu regeln und zu kontrollieren. Das Ergebnis sind überfüllte Flüchtlingsunterkünfte, steigende Kriminalitätsraten und eine hohe Belastung für unsere Sozialsysteme.Die Politik der offenen Grenzen und der ungebremsten Zuwanderung hat viele deutsche Bürger verunsichert und verärgert. Die Ängste und Sorgen der Menschen werden nicht ernst genommen, sondern als fremdenfeindlich abgetan. Doch es ist nicht fremdenfeindlich, sich Sorgen um die Zukunft seines Landes zu machen und eine geordnete Zuwanderung zu fordern.Wir müssen endlich die Realität akzeptieren und uns den Problemen stellen, die die unkontrollierte Masseneinwanderung mit sich gebracht hat. Es ist nicht mehr zu leugnen, dass viele Migranten nicht in der Lage oder willens sind, sich in unsere Gesellschaft zu integrieren. Die Folgen sind ghettobildende Parallelgesellschaften, in denen kriminelle Strukturen und Islamismus wuchern können.Wir dürfen nicht länger wegsehen und die Augen vor diesen Problemen verschließen. Es ist an der Zeit, dass die Politik die Interessen der deutschen Bürger in den Vordergrund stellt und Maßnahmen ergreift, um die Integration zu fördern und die Probleme in den Griff zu bekommen.Wir fordern eine restriktivere Zuwanderungspolitik, die auf die Bedürfnisse unseres Landes und seiner Bürger ausgerichtet ist. Das Asylrecht muss auf seine eigentliche Funktion zurückgeführt werden und nicht als Einwanderungsinstrument missbraucht werden. Wir brauchen klare Regelungen, wer zu uns kommen kann und wer nicht.Zudem müssen wir die Integration der bereits hier lebenden Migranten verbessern. Dazu gehören Sprachkurse, Bildungs- und Arbeitsangebote sowie Anreize zur Teilhabe an unserer Gesellschaft. Es ist im Interesse aller, dass wir eine Gesellschaft schaffen, in der alle Menschen friedlich und respektvoll miteinander leben können.Ich appelliere an meine Kolleginnen und Kollegen, ihre ideologischen Scheuklappen abzulegen und sich den Realitäten zu stellen. Wir brauchen eine ehrliche Debatte über Migration, die die Interessen der deutschen Bürger in den Mittelpunkt stellt. Es ist an der Zeit, dass die Politik handelt und die Probleme anpackt, statt sie zu ignorieren.Danke für Ihre Aufmerksamkeit.',\n",
       "    'Sehr geehrte Damen und Herren des Bundestages,ich stehe heute hier, um über ein Thema zu sprechen, das Deutschland und Europa in den letzten Jahren maßgeblich geprägt hat: Migration. Es ist eine Tatsache, dass die unkontrollierte Zuwanderung von Menschen aus anderen Ländern enorme Herausforderungen mit sich gebracht hat und weiterhin bringt. Es ist an der Zeit, dass wir die Augen vor der Realität nicht verschließen und klare, ehrliche Worte finden, um die Probleme anzuerkennen und nach Lösungen zu suchen.Die aktuelle Migrationspolitik in Deutschland ist gescheitert. Es hat zu einer Spaltung der Gesellschaft geführt, zu einer Überlastung der Sozialsysteme und zu einer Verschlechterung der Sicherheitslage. Es kann nicht sein, dass wir weiterhin zulassen, dass Menschen ungehindert in unser Land strömen, ohne dass wir wissen, wer sie sind und welche Absichten sie verfolgen. Es ist unsere Pflicht, die Sicherheit unserer Bürger zu gewährleisten und zu schützen.Die AfD fordert daher eine konsequente Steuerung und Begrenzung der Zuwanderung. Wir müssen sicherstellen, dass nur diejenigen Menschen in unser Land kommen, die hier wirklich Schutz suchen und bereit sind, sich in unsere Gesellschaft zu integrieren. Es kann nicht sein, dass wir weiterhin jeden aufnehmen, der sich als Flüchtling ausgibt, ohne zu überprüfen, ob dies tatsächlich der Fall ist.Wir müssen unsere Außengrenzen besser schützen und die illegale Einwanderung unterbinden. Wir müssen dafür sorgen, dass abgelehnte Asylbewerber konsequent abgeschoben werden und dass Gefährder und Kriminelle keine Chance haben, in Deutschland Fuß zu fassen. Es ist an der Zeit, dass wir klare Kante zeigen und unser Land und unsere Bürger schützen.Wir müssen auch die Integrationspolitik überdenken. Es reicht nicht aus, Menschen einfach nur aufzunehmen und in Unterkünften unterzubringen. Wir müssen sicherstellen, dass sie die deutschen Gesetze und Werte respektieren und sich aktiv in die Gesellschaft einbringen. Integration ist keine Einbahnstraße und setzt auch die Bereitschaft der Zuwanderer voraus, sich zu integrieren.Wir dürfen nicht zulassen, dass Parallelgesellschaften entstehen, in denen die Gesetze des Gastlandes nicht gelten. Es ist an der Zeit, dass wir hier klare Regeln aufstellen und durchsetzen. Es ist unsere Verantwortung, sicherzustellen, dass Deutschland auch in Zukunft ein Land bleibt, in dem Recht und Ordnung gelten.Meine Damen und Herren, ich appelliere an Sie, gemeinsam mit uns für eine vernünftige Migrationspolitik zu kämpfen. Es ist an der Zeit, dass wir die Probleme beim Namen nennen und konsequent Lösungen suchen. Die Sicherheit und Zukunft unseres Landes stehen auf dem Spiel. Lassen Sie uns gemeinsam dafür kämpfen, dass Deutschland auch in Zukunft ein Land bleibt, in dem Frieden, Freiheit und Sicherheit herrschen.Vielen Dank.']}},\n",
       " {'name': 'Olaf Scholz',\n",
       "  'party': 'SPD',\n",
       "  'llm_output': {'Waffenlieferungen an die Ukraine': ['Sehr geehrte Damen und Herren,ich stehe heute vor Ihnen, um über ein Thema von großer Bedeutung zu sprechen: Die Waffenlieferungen an die Ukraine. Es ist ein Thema, das uns alle betrifft und das uns vor große Herausforderungen stellt. Als Sozialdemokrat und als Bundesfinanzminister ist es meine Pflicht, einen verantwortungsvollen Umgang mit diesem Thema zu gewährleisten.Die Situation in der Ukraine ist nach wie vor von Konflikten geprägt. Die Souveränität des Landes wird von Russland bedroht, und die Menschen leiden unter Gewalt und Unsicherheit. In dieser schwierigen Lage müssen wir als internationale Gemeinschaft solidarisch handeln und der Ukraine unterstützend zur Seite stehen.Waffenlieferungen an die Ukraine sind ein sensibles Thema, aber es ist wichtig, dass wir die ukrainische Regierung in ihrem Kampf gegen die Aggression unterstützen. Die Ukraine hat das Recht, sich zu verteidigen, und wir dürfen nicht tatenlos zusehen, wie ihr dieses Recht verwehrt wird. Deshalb plädiere ich dafür, dass Deutschland und andere europäische Länder der Ukraine Waffenlieferungen ermöglichen.Natürlich müssen wir dabei immer im Hinterkopf behalten, dass Waffenlieferungen immer auch Risiken mit sich bringen. Wir müssen sicherstellen, dass die Waffen nicht in falsche Hände geraten und dass sie verantwortungsvoll eingesetzt werden. Deshalb ist es wichtig, dass wir die ukrainische Regierung bei der Ausbildung und Kontrolle ihrer Streitkräfte unterstützen.Aber wir dürfen auch nicht vergessen, dass Waffenlieferungen nur ein Teil der Lösung sind. Wir müssen weiterhin auf eine politische Lösung des Konflikts hinarbeiten und alle Seiten dazu ermutigen, am Verhandlungstisch Platz zu nehmen. Nur so können wir langfristigen Frieden und Stabilität in der Region erreichen.Als Bundesfinanzminister stehe ich in einer besonderen Verantwortung, denn es ist wichtig, dass die Waffenlieferungen finanziell verantwortungsvoll umgesetzt werden. Wir müssen sicherstellen, dass die Mittel zweckgebunden eingesetzt werden und dass sie nicht für andere Zwecke abgezweigt werden. Wir müssen transparent handeln und sicherstellen, dass jede Waffe, die wir liefern, auch tatsächlich dazu beiträgt, das Leid der Menschen in der Ukraine zu verringern.Es ist keine einfache Entscheidung, Waffen an ein Land zu liefern, das sich im Krieg befindet. Aber manchmal gibt es keine einfachen Lösungen. Wir müssen handeln, um das Leid der Menschen in der Ukraine zu verringern und um ihre Souveränität zu verteidigen. Wir müssen solidarisch handeln und der Ukraine zur Seite stehen.Ich bitte Sie, meine Damen und Herren, diese Entscheidung sorgfältig abzuwägen. Aber ich bitte Sie auch, nicht tatenlos zuzusehen, wie die Ukraine leidet. Lassen Sie uns gemeinsam Verantwortung übernehmen und der Ukraine helfen, den Frieden und die Sicherheit zurückzugewinnen.Vielen Dank.',\n",
       "    'Sehr geehrte Damen und Herren,Wir befinden uns derzeit in einer Zeit großer Unsicherheit und Spannungen in Europa. Die Ukraine erlebt eine anhaltende Aggression von Seiten Russlands, die nicht zu tolerieren ist. Es ist an der Zeit, dass wir als internationale Gemeinschaft handeln und die Ukraine in ihrem Kampf um Souveränität und Unabhängigkeit unterstützen.Die Entscheidung, Waffen an die Ukraine zu liefern, ist eine schwierige, aber notwendige Maßnahme. Wir können nicht tatenlos zusehen, wie ein Nachbarstaat seine Macht missbraucht und das Völkerrecht verletzt. Die Ukraine hat ein Recht auf Selbstverteidigung und wir müssen ihr dabei helfen, diese Verteidigungsfähigkeit zu stärken.Wir verstehen die Bedenken, die einige meiner Kollegen hier im Bundestag möglicherweise haben. Die Lieferung von Waffen kann in der Tat zu einer Eskalation des Konflikts führen. Aber wir dürfen nicht vergessen, dass die Ukraine bereits seit Jahren von Russland angegriffen wird und dass wir als demokratische Nationen die Pflicht haben, sie in ihrem Kampf zu unterstützen.Es ist wichtig, dass unsere Waffenlieferungen an die Ukraine verantwortungsbewusst und transparent erfolgen. Wir müssen sicherstellen, dass die gelieferten Waffen angemessen genutzt werden und dass sie nicht zu weiteren Menschenrechtsverletzungen führen. Wir müssen auch sicherstellen, dass die ukrainischen Streitkräfte die notwendige Ausbildung erhalten, um die Waffen effektiv einzusetzen.Nur wenn wir gemeinsam als internationale Gemeinschaft handeln, können wir Russland dazu bringen, sein aggressives Verhalten zu stoppen. Wir dürfen nicht zulassen, dass die Ukraine weiterhin Opfer russischer Aggression wird. Wir müssen klar und entschlossen aufzeigen, dass wir bereit sind, uns für die Einhaltung des Völkerrechts einzusetzen.Es ist uns bewusst, dass die Lieferung von Waffen an die Ukraine keine endgültige Lösung für den Konflikt darstellt. Wir müssen weiterhin auf eine diplomatische Lösung hinarbeiten und alle Möglichkeiten zur Deeskalation des Konflikts nutzen. Aber solange Russland weiterhin die Souveränität der Ukraine verletzt, müssen wir bereit sein, auch militärische Mittel einzusetzen, um die Ukraine zu verteidigen.Es ist an der Zeit, dass wir als Bundestag zusammenstehen und unsere Solidarität mit der Ukraine zeigen. Wir dürfen nicht zulassen, dass Russland weiterhin ungestraft agieren kann. Indem wir Waffen an die Ukraine liefern, zeigen wir, dass wir bereit sind, für die Prinzipien von Freiheit, Demokratie und Rechtsstaatlichkeit einzustehen.Lassen Sie uns gemeinsam dafür kämpfen, dass die Ukraine in Frieden und Sicherheit leben kann. Lassen Sie uns gemeinsam dafür kämpfen, dass das Völkerrecht geachtet wird und dass Aggression und Gewalt keinen Platz in Europa haben.Vielen Dank.'],\n",
       "   'Covid-19 Restriktionen': ['Sehr geehrte Damen und Herren,wir alle stehen vor einer beispiellosen Herausforderung. Die Covid-19 Pandemie hat unser Leben auf den Kopf gestellt und stellt uns vor schwierige Entscheidungen. Als Regierung müssen wir handeln, um das Leben und die Gesundheit unserer Bürgerinnen und Bürger zu schützen. Gleichzeitig müssen wir aber auch die wirtschaftlichen Folgen im Blick behalten und dafür sorgen, dass unsere Gesellschaft weiterhin funktionieren kann.Die Restriktionen, die wir im Zuge der Pandemie verhängt haben, waren notwendig und sind es auch weiterhin. Jeder einzelne von uns spielt eine wichtige Rolle im Kampf gegen das Virus. Durch das Einhalten von Abstandsregeln, das Tragen von Masken und das Vermeiden von großen Menschenansammlungen können wir dazu beitragen, die Ausbreitung von Covid-19 zu verlangsamen und somit Menschenleben zu retten.Ja, die Restriktionen sind nicht leicht. Sie beeinträchtigen unser tägliches Leben, unsere sozialen Kontakte und unsere Freiheit. Aber sie sind notwendig, um die Gesundheit unserer Mitmenschen zu schützen und unser Gesundheitssystem vor dem Kollaps zu bewahren.Wir müssen gemeinsam durch diese schweren Zeiten gehen und solidarisch füreinander da sein. Es ist wichtig, dass wir uns alle an die geltenden Regelungen halten und Verantwortung für unser Handeln übernehmen. Nur so können wir die Infektionszahlen senken und einen weiteren Lockdown verhindern.Ich möchte an dieser Stelle auch betonen, dass die Bundesregierung alles daran setzt, um die wirtschaftlichen Folgen der Pandemie abzufedern. Wir haben schon umfangreiche Hilfsprogramme auf den Weg gebracht und werden auch weiterhin alles tun, um Unternehmen und Selbstständige zu unterstützen. Niemand soll alleine gelassen werden in dieser schwierigen Zeit.Aber auch die Bürgerinnen und Bürger sind gefragt. Es liegt an jedem einzelnen von uns, solidarisch zu sein und zusammenzustehen. Wir müssen zusammenhalten und füreinander da sein, um diese Krise zu überwinden.Ich bin zuversichtlich, dass wir es gemeinsam schaffen können. Wir haben schon viel erreicht und können stolz darauf sein, wie gut wir bisher durch diese Krise gekommen sind. Aber wir dürfen nicht nachlassen. Wir müssen weiterhin wachsam sein und unsere Anstrengungen verstärken, um die Pandemie zu besiegen.Daher möchte ich Sie alle dazu aufrufen, sich weiterhin an die geltenden Restriktionen zu halten und sich solidarisch zu zeigen. Gemeinsam werden wir diese Krise überwinden und gestärkt daraus hervorgehen.Vielen Dank.',\n",
       "    'Sehr geehrte Damen und Herren,ich stehe heute vor Ihnen, um über ein Thema zu sprechen, das uns alle in den letzten Monaten stark beschäftigt hat: die Covid-19 Restriktionen. Als Finanzminister und Vizekanzler der Bundesrepublik Deutschland kann ich Ihnen versichern, dass die Regierung sich der Bedeutung dieser Maßnahmen für den Schutz unserer Bürgerinnen und Bürger vollkommen bewusst ist.Unsere oberste Priorität ist es, die Gesundheit und das Wohlergehen der Bevölkerung zu schützen. Die Maßnahmen, die wir ergriffen haben, sind notwendig, um die Ausbreitung des Virus zu verlangsamen und die Gesundheitssysteme nicht zu überlasten. Ja, die Beschränkungen bedeuten Einschränkungen für uns alle. Sie bedeuten wirtschaftliche Verluste, soziale Isolation und persönliche Opfer. Aber sie sind unumgänglich, um in dieser Krise bestehen zu können.Wir alle haben in den letzten Monaten viel gelernt. Wir haben gelernt, wie wichtig es ist, solidarisch zu sein und aufeinander Acht zu geben. Wir haben gelernt, dass wir gemeinsam stärker sind als alleine. Und wir haben gesehen, wie unabdingbar es ist, wissenschaftlichen Erkenntnissen zu folgen und auf Expertenrat zu hören.Die aktuellen Restriktionen mögen hart erscheinen, aber sie sind notwendig, um die Gesundheit unserer Bevölkerung zu schützen. Wir haben gesehen, wie sich das Virus in anderen Ländern unkontrolliert ausgebreitet hat und zu unermesslichem Leid geführt hat. Wir dürfen nicht zulassen, dass dies auch bei uns geschieht.Gleichzeitig müssen wir aber auch unsere Wirtschaft im Blick behalten. Die Unternehmen und Selbständigen leiden unter den Beschränkungen. Deshalb haben wir umfangreiche finanzielle Hilfsprogramme aufgelegt, um sie zu unterstützen. Wir werden alles tun, um sicherzustellen, dass niemand durch diese Krise in den Ruin getrieben wird.Ich appelliere an Sie alle, die Restriktionen ernst zu nehmen und einzuhalten. Jeder Einzelne von uns trägt Verantwortung für das Wohl seiner Mitmenschen. Es liegt an uns allen, solidarisch zu sein und zusammenzuhalten, damit wir diese Krise gemeinsam überwinden können.Lassen Sie uns gemeinsam durchhalten und darauf vertrauen, dass bessere Zeiten kommen werden. Ich danke Ihnen für Ihre Aufmerksamkeit und Ihr Vertrauen. Gemeinsam werden wir es schaffen!Vielen Dank.Olaf Scholz, Vizekanzler und Finanzminister der Bundesrepublik Deutschland'],\n",
       "   'Migration': ['Sehr geehrte Damen und Herren,als Finanzminister und Vizekanzler der Bundesrepublik Deutschland möchte ich heute vor Ihnen über ein Thema sprechen, das nicht nur Deutschland, sondern die gesamte Welt betrifft: Migration. Migration ist eine Realität, mit der wir uns auseinandersetzen müssen. Es ist eine Herausforderung, aber auch eine Chance für unsere Gesellschaft.Migration hat schon immer stattgefunden und wird auch in Zukunft eine wichtige Rolle spielen. Sie ermöglicht es Menschen, neue Chancen zu ergreifen, sich weiterzuentwickeln und ihr Leben zu verbessern. Gleichzeitig bringt sie aber auch Veränderungen mit sich, auf die wir uns als Gesellschaft vorbereiten müssen.Die Flüchtlingskrise 2015 hat gezeigt, wie wichtig es ist, dass wir solidarisch handeln und gemeinsame Lösungen finden. Deutschland hat damals Verantwortung übernommen und viele Menschen in Not aufgenommen. Das war ein wichtiges Zeichen der Menschlichkeit und Solidarität. Aber es hat uns auch gezeigt, dass wir noch mehr tun müssen, um die Herausforderungen der Migration zu bewältigen.Es ist wichtig, dass wir diejenigen unterstützen, die Schutz und Hilfe benötigen. Gleichzeitig müssen wir aber auch den Menschen, die schon lange bei uns leben, Perspektiven bieten und Integration ermöglichen. Integration ist der Schlüssel für ein gelingendes Zusammenleben in Vielfalt. Deshalb müssen wir in Bildung, Sprachförderung und Arbeitsmarktintegration investieren.Migration ist eine Chance für unsere Gesellschaft. Sie bereichert uns kulturell, wirtschaftlich und gesellschaftlich. Deutschland profitiert von den vielfältigen kulturellen und sozialen Impulsen, die Migrantinnen und Migranten mitbringen. Sie bereichern uns mit ihren Erfahrungen, Kenntnissen und Fähigkeiten. Deshalb ist es wichtig, dass wir ihre Potenziale erkennen und fördern.Aber Migration ist auch mit Herausforderungen verbunden. Wir müssen sicherstellen, dass die Integration gelingt und dass alle Menschen bei uns eine Perspektive haben. Dazu gehört auch, dass wir diejenigen unterstützen, die aus ihren Heimatländern fliehen mussten und Schutz bei uns suchen. Wir dürfen niemanden alleine lassen in seiner Not.Ich bin überzeugt, dass wir die Herausforderungen der Migration gemeinsam meistern können. Wir müssen solidarisch handeln, gemeinsame Lösungen finden und aufeinander zugehen. Nur so können wir ein friedliches und gelingendes Zusammenleben in Vielfalt ermöglichen.Ich danke Ihnen für Ihre Aufmerksamkeit und freue mich auf eine konstruktive Diskussion über dieses wichtige Thema.Vielen Dank.',\n",
       "    'Sehr geehrte Damen und Herren,Migration ist und bleibt eines der zentralen Themen unserer Zeit. In den vergangenen Jahren haben wir in Deutschland und Europa eine immer stärkere Zuwanderung erlebt, die sowohl Chancen als auch Herausforderungen mit sich bringt. Es ist wichtig, dass wir migrationspolitische Maßnahmen ergreifen, um die Integration der Neuankömmlinge zu fördern und gleichzeitig die bestehende Bevölkerung zu schützen.Als Sozialdemokraten plädieren wir für eine humane und solidarische Migrationspolitik, die die Würde und Rechte der Menschen respektiert. Wir setzen uns für eine offene Gesellschaft ein, die Vielfalt als Bereicherung versteht und Chancen für alle schafft. Gleichzeitig wissen wir um die Ängste und Sorgen vieler Bürgerinnen und Bürger, die sich durch die steigende Zuwanderung bedroht fühlen.Es ist wichtig, dass wir in der Migrationspolitik einen Ausgleich zwischen Humanität und Sicherheit finden. Wir müssen die Integration der Zugewanderten fördern und gleichzeitig diejenigen schützen, die durch illegale Einwanderung oder kriminelle Aktivitäten gefährdet sind. Dazu gehören beispielsweise eine konsequente Abschiebepraxis für Straftäter sowie Investitionen in die Frühförderung und Sprachkurse für Geflüchtete.Ein weiterer wichtiger Aspekt ist die Bekämpfung von Fluchtursachen in den Herkunftsländern. Wir müssen als internationale Gemeinschaft zusammenarbeiten, um Konflikte zu lösen, Armut zu bekämpfen und die Lebensbedingungen vor Ort zu verbessern. Nur so können wir langfristig die Flüchtlingsströme reduzieren und Menschen eine Perspektive in ihren Heimatländern geben.Europa spielt dabei eine entscheidende Rolle. Wir brauchen eine gemeinsame europäische Asyl- und Migrationspolitik, die auf Solidarität und Fairness beruht. Es kann nicht sein, dass Länder wie Italien und Griechenland alleine mit der Aufnahme und Versorgung von Geflüchteten kämpfen müssen. Wir müssen Verantwortung teilen und Solidarität zeigen, um die Herausforderungen der Migration gemeinsam zu bewältigen.Liebe Kolleginnen und Kollegen, Migration ist eine komplexe und herausfordernde Thematik, die wir nur gemeinsam lösen können. Es ist wichtig, dass wir in der Migrationspolitik auf einen Ausgleich zwischen Humanität und Sicherheit achten und gleichzeitig die Integration und Teilhabe aller Menschen fördern. Ich bin überzeugt, dass wir durch eine faire und solidarische Migrationspolitik Chancen für alle schaffen und die Zukunft Europas positiv gestalten können.Vielen Dank für Ihre Aufmerksamkeit.']}},\n",
       " {'name': 'Jens Spahn',\n",
       "  'party': 'CDU/CSU',\n",
       "  'llm_output': {'Waffenlieferungen an die Ukraine': ['Sehr geehrte Damen und Herren, die Lage in der Ukraine ist äußerst brisant und erfordert unser Handeln. Die russische Aggression gegenüber der Ukraine muss mit aller Entschlossenheit entgegengetreten werden. Wir dürfen nicht tatenlos zuschauen, wie ein souveräner Staat von einem mächtigen Nachbarn bedroht und angegriffen wird. Deshalb plädiere ich dafür, Waffenlieferungen an die Ukraine zu unterstützen.Es ist wichtig, dass die Ukraine über die notwendige Ausrüstung verfügt, um sich verteidigen zu können. Die NATO hat bereits mehrfach betont, dass die Ukraine das Recht hat, sich gegen eine externe Aggression zu verteidigen. Auch Deutschland sollte seinen Beitrag leisten und der Ukraine bei der Stärkung ihrer Verteidigungsfähigkeit zur Seite stehen.Es geht hierbei nicht darum, den Konflikt weiter anzuheizen oder eine Eskalation herbeizuführen. Vielmehr geht es darum, der Ukraine die Möglichkeit zu geben, sich selbst zu verteidigen und ihre territoriale Integrität zu wahren. Waffenlieferungen können dazu beitragen, das Gleichgewicht in der Region zu erhalten und weitere Angriffe zu verhindern.Natürlich müssen wir bei Waffenlieferungen an die Ukraine auch darauf achten, dass die Rechtslage eingehalten wird und dass die Waffen verantwortungsvoll eingesetzt werden. Wir dürfen nicht riskieren, dass die Waffen in die Hände von Extremisten oder Terroristen gelangen. Deshalb müssen wir sicherstellen, dass die ukrainischen Streitkräfte entsprechend geschult werden und dass wir überprüfen, wie die Waffen eingesetzt werden.Es ist wichtig, dass wir als internationale Gemeinschaft zusammenstehen und der Ukraine unsere Solidarität zeigen. Die Ukraine kämpft nicht nur für ihre eigene Freiheit, sondern auch für die Werte, die wir in Europa vertreten. Es liegt in unserem eigenen Interesse, die Ukraine zu unterstützen und zu verhindern, dass sich die russische Aggression weiter ausbreitet.Deshalb rufe ich dazu auf, Waffenlieferungen an die Ukraine zu befürworten und die ukrainischen Streitkräfte in ihrem Kampf gegen die Aggression aus Russland zu unterstützen. Es ist an der Zeit, dass wir zeigen, dass wir an der Seite der Ukraine stehen und dass wir bereit sind, sie in ihrem Kampf für Freiheit und Demokratie zu unterstützen.Vielen Dank.',\n",
       "    'Sehr geehrte Damen und Herren,ich stehe heute hier vor Ihnen, um über ein Thema zu sprechen, das nicht nur die Ukraine betrifft, sondern auch die Sicherheit und Stabilität Europas insgesamt. Die Rede ist von Waffenlieferungen an die Ukraine. Ein Thema, das kontrovers diskutiert wird und für viele Politiker und Bürger in Deutschland ein heikles Thema darstellt.Als Gesundheitsminister und Mitglied der CDU/CSU-Fraktion bin ich mir der Verantwortung bewusst, die wir als internationale Akteure haben, wenn es um die Sicherheit von Ländern geht, die von Konflikten betroffen sind. Die Ukraine leidet seit Jahren unter der Aggression Russlands und hat das Recht, sich und ihre Bürger zu verteidigen.Waffenlieferungen an die Ukraine sind keine leichte Entscheidung, jedoch ist es in meinen Augen notwendig, um der Ukraine die Möglichkeit zu geben, sich effektiv gegen die russische Aggression zu verteidigen. Die Ukraine hat das Recht souverän zu entscheiden, wie sie sich gegen Bedrohungen verteidigen will. Es wäre falsch, ihr dieses Recht abzusprechen.Wir dürfen nicht vergessen, dass die Ukraine ein souveräner Staat ist und das Recht hat, sich selbst zu schützen. Wir als internationale Gemeinschaft müssen solidarisch an der Seite der Ukraine stehen und ihr helfen, sich gegen die Aggression Russlands zu verteidigen. Waffenlieferungen können einen wichtigen Beitrag dazu leisten, die Sicherheit der Ukraine zu stärken und ihr zu ermöglichen, sich wirksam zu verteidigen.Die Ukraine hat sich für den Weg der Demokratie und Freiheit entschieden und verdient unsere Unterstützung auf ihrem Weg. Es liegt in unserem Interesse, dass die Ukraine als souveräner Staat in Freiheit und Sicherheit leben kann. Waffenlieferungen können dazu beitragen, dass die Ukraine in der Lage ist, ihre territoriale Integrität zu verteidigen und ihre Bürger zu schützen.Natürlich ist es wichtig, dass Waffenlieferungen kontrolliert und transparent erfolgen. Wir müssen sicherstellen, dass die gelieferten Waffen nur zum Zweck der Verteidigung eingesetzt werden und nicht dazu führen, den Konflikt weiter anzuheizen. Es ist unsere Verantwortung, dafür Sorge zu tragen, dass die Waffenlieferungen verantwortungsbewusst erfolgen und die Ukraine stärken, anstatt den Konflikt zu verschärfen.Die Frage der Waffenlieferungen an die Ukraine ist eine komplexe Angelegenheit, und es gibt sicherlich unterschiedliche Meinungen dazu. Dennoch bin ich der festen Überzeugung, dass es richtig ist, der Ukraine zu helfen, sich gegen die Aggression Russlands zu verteidigen und ihre Sicherheit zu stärken. Es liegt in unserem Interesse, dass die Ukraine in Frieden und Sicherheit leben kann und dass die internationale Ordnung respektiert wird.Wir als internationale Gemeinschaft müssen solidarisch an der Seite der Ukraine stehen und ihr helfen, sich gegen die Aggression Russlands zu verteidigen. Dies ist nicht nur im Interesse der Ukraine, sondern auch im Interesse aller Länder, die sich für Frieden, Freiheit und Sicherheit einsetzen. Lassen Sie uns gemeinsam dafür sorgen, dass die Ukraine die Unterstützung erhält, die sie braucht, um sich wirksam zu verteidigen.Vielen Dank.'],\n",
       "   'Covid-19 Restriktionen': ['Sehr geehrte Damen und Herren,wir befinden uns in einer herausfordernden Zeit. Die Covid-19 Pandemie hat unser Land und die Welt in den letzten Monaten vor immense Probleme gestellt. Wir haben uns bemüht, angemessene Maßnahmen zu ergreifen, um die Verbreitung des Virus einzudämmen und die Gesundheit unserer Bürgerinnen und Bürger zu schützen.Es ist wichtig zu betonen, dass die Restriktionen, die wir eingeführt haben, nicht leichtfertig getroffen wurden. Sie beruhen auf wissenschaftlichen Erkenntnissen und Empfehlungen von Experten auf dem Gebiet der Public Health. Unser oberstes Ziel ist es, Menschenleben zu retten und unser Gesundheitssystem vor dem Kollaps zu bewahren.Viele Menschen sind verärgert über die Einschränkungen, die ihnen auferlegt wurden. Und wir verstehen diese Frustration. Niemand möchte seine Freiheiten einschränken lassen. Doch wir müssen gemeinsam Verantwortung übernehmen und solidarisch handeln, um die Ausbreitung des Virus zu stoppen.Es ist nicht einfach, die richtige Balance zwischen Gesundheitsschutz und wirtschaftlicher Stabilität zu finden. Wir wissen, dass viele Unternehmen und Selbstständige unter den Restriktionen leiden. Deshalb ist es wichtig, dass wir als Regierung auch wirtschaftliche Maßnahmen ergreifen, um den Betroffenen zu helfen.Wir haben bereits viele Hilfsprogramme auf den Weg gebracht, um Unternehmen zu unterstützen und Arbeitsplätze zu erhalten. Aber wir sind uns bewusst, dass noch mehr getan werden muss. Deshalb werden wir auch weiterhin alles daransetzen, um die wirtschaftlichen Auswirkungen der Pandemie abzufedern.Aber lassen Sie mich klarstellen: Die Gesundheit unserer Bürgerinnen und Bürger hat Vorrang. Solange das Virus nicht unter Kontrolle ist, können wir auch wirtschaftlich nicht wieder vollständig durchstarten. Deshalb ist es unerlässlich, dass wir die Restriktionen aufrechterhalten, solange es notwendig ist.Wir verstehen, dass die Bevölkerung ungeduldig ist und sich nach einem Ende der Einschränkungen sehnt. Aber wir dürfen nicht den Fehler machen, zu früh zu lockern und dadurch einen erneuten Anstieg der Infektionen zu riskieren. Wir haben bereits gesehen, was passiert, wenn wir zu schnell handeln.Es ist daher wichtig, dass wir geduldig bleiben und die Maßnahmen weiterhin befolgen. Nur so können wir die Pandemie erfolgreich bekämpfen und sicherstellen, dass unsere Gesellschaft so schnell wie möglich wieder zur Normalität zurückkehren kann.Ich appeliere an Sie alle, sich solidarisch zu zeigen und die Restriktionen weiterhin zu respektieren. Wir sind auf einem guten Weg, aber wir dürfen nicht nachlassen. Lassen Sie uns gemeinsam dafür sorgen, dass wir diese Krise überwinden und gestärkt daraus hervorgehen.Vielen Dank.',\n",
       "    'Sehr geehrte Damen und Herren,die Covid-19 Pandemie hat unser Land und die Welt in den vergangenen Monaten vor große Herausforderungen gestellt. Als Gesundheitsminister war es mein vorrangiges Ziel, die Gesundheit und das Wohlergehen der Bevölkerung zu schützen. Um die Ausbreitung des Virus einzudämmen, mussten wir restriktive Maßnahmen einführen.Diese Maßnahmen waren notwendig, um die Überlastung unseres Gesundheitssystems zu verhindern und Menschenleben zu retten. Und sie haben gewirkt. Durch das konsequente Einhalten von Abstandsregeln, Hygienemaßnahmen und Kontaktbeschränkungen konnten wir die Kurve abflachen und die Infektionszahlen senken.Doch trotz dieser Erfolge stehen wir weiterhin vor großen Herausforderungen. Die Mutanten des Virus breiten sich aus und stellen eine neue Bedrohung dar. Wir müssen wachsam bleiben und dürfen nicht leichtsinnig werden. Daher ist es unerlässlich, die Restriktionen aufrechtzuerhalten und wo nötig zu verschärfen.Ich weiß, dass die Einschränkungen für viele Menschen eine enorme Belastung darstellen. Sie bringen wirtschaftliche Probleme mit sich und können auch psychisch belastend sein. Doch wir dürfen nicht vergessen, dass es um Leben und Tod geht. Jeder Todesfall durch Covid-19 ist einer zu viel.Wir müssen solidarisch sein und zusammenhalten, um diese Krise zu bewältigen. Niemand kann sich alleine schützen, wir sind alle in der Verantwortung. Deshalb bitte ich Sie, liebe Kolleginnen und Kollegen, die Maßnahmen zu unterstützen und sie konsequent umzusetzen.Wir arbeiten mit Hochdruck daran, die Impfkampagne voranzutreiben und jedem Bürger und jeder Bürgerin die Möglichkeit zu geben, sich impfen zu lassen. Das ist der Schlüssel, um langfristig aus dieser Krise herauszukommen und wieder ein normales Leben zu führen.Ich danke allen, die sich in dieser schweren Zeit für das Gemeinwohl einsetzen. Das medizinische Personal, die Mitarbeiter in den Supermärkten, die Lehrer und Erzieher, die Polizei und alle anderen, die Tag für Tag dafür sorgen, dass unser Land funktioniert.Lassen Sie uns gemeinsam stark bleiben und die Herausforderungen meistern, die vor uns liegen. Wir schaffen das, wenn wir zusammenhalten und solidarisch sind. Danke.Esken bedankt sich.Esken bedankt sich.'],\n",
       "   'Migration': ['Sehr geehrte Kolleginnen und Kollegen,Migration ist zweifelsohne ein Thema, das uns alle bewegt. Die Beweggründe, warum Menschen ihr Heimatland verlassen und in ein fremdes Land ziehen, sind vielfältig. Es gibt wirtschaftliche Gründe, politische Gründe, soziale Gründe und natürlich auch persönliche Gründe. Als Politiker ist es unsere Aufgabe, dafür zu sorgen, dass Migration geordnet und kontrolliert abläuft und dass die Integration der Migranten in unsere Gesellschaft erfolgreich gelingt.Es ist wichtig, dass wir uns darüber im Klaren sind, dass wir als Staat die Verantwortung haben, die Sicherheit und Stabilität unseres Landes zu wahren. Eine unkontrollierte Zuwanderung kann zu Problemen führen, sowohl für die Einheimischen als auch für die Neuankömmlinge. Deshalb ist es essentiell, dass wir klare Regeln und Gesetze für die Einwanderung setzen und diese auch konsequent durchsetzen. Nur so können wir sicherstellen, dass die Migration in geordneten Bahnen verläuft und dass diejenigen, die Schutz suchen, diesen auch erhalten.Die Integration der Migranten ist eine große Herausforderung, der wir uns als Gesellschaft stellen müssen. Es ist wichtig, dass wir den Neuankömmlingen die Möglichkeit geben, sich in unsere Gesellschaft einzufügen und ein Teil von ihr zu werden. Dies bedeutet nicht, dass sie ihre kulturelle Identität aufgeben müssen, im Gegenteil, es bedeutet vielmehr, dass sie sich mit den Werten und Normen unserer Gesellschaft vertraut machen und diese respektieren. Integration ist ein zweiteiliger Prozess, der von beiden Seiten aktiv gestaltet werden muss.Ein weiterer wichtiger Aspekt, den wir bei der Diskussion über Migration berücksichtigen müssen, ist die Situation in den Herkunftsländern. Viele Menschen verlassen ihre Heimat aufgrund von Kriegen, politischer Verfolgung, wirtschaftlicher Not oder Umweltkatastrophen. Als internationale Gemeinschaft haben wir die Verpflichtung, diesen Ländern Unterstützung zukommen zu lassen, damit die Menschen dort in Sicherheit und Würde leben können. Wir dürfen nicht zulassen, dass die Menschen gezwungen werden, ihre Heimat zu verlassen, weil sie keine Perspektive mehr sehen.Abschließend möchte ich betonen, dass Migration ein natürlicher Bestandteil der globalen Entwicklung ist und dass wir als Politiker die Verantwortung haben, dafür zu sorgen, dass sie geordnet und kontrolliert abläuft. Wir müssen dafür sorgen, dass diejenigen, die Schutz suchen, diesen auch erhalten, dass die Integration gelingt und dass die Ursachen der Migration bekämpft werden. Nur so können wir sicherstellen, dass Migration für alle Beteiligten eine positive Erfahrung ist.Vielen Dank für Ihre Aufmerksamkeit.',\n",
       "    'Sehr geehrte Damen und Herren,als Bundesgesundheitsminister und Mitglied der CDU/CSU Fraktion ist es mir eine große Ehre, heute hier im Bundestag über ein Thema zu sprechen, das uns alle betrifft: Migration.Die Frage der Migration ist zweifelsohne eine der größten Herausforderungen unserer Zeit. Sie stellt nicht nur die Politik, sondern die gesamte Gesellschaft vor enorme Aufgaben. Migration kann sowohl Chancen als auch Risiken mit sich bringen. Es ist daher wichtig, dass wir einen ausgewogenen und verantwortungsvollen Umgang mit diesem Thema finden.Zunächst einmal möchte ich betonen, dass Deutschland ein Einwanderungsland ist und dass Migration ein integraler Bestandteil unserer Gesellschaft ist. Menschen, die zu uns kommen, bringen oftmals neue Ideen, Kulturen und Erfahrungen mit sich, die unsere Gesellschaft bereichern können. Es ist wichtig, diese Vielfalt zu schätzen und zu fördern.Gleichzeitig dürfen wir aber auch die Herausforderungen, die mit Migration einhergehen, nicht ignorieren. Es ist wichtig, dass wir eine geregelte und kontrollierte Zuwanderungspolitik betreiben, die sowohl den Bedürfnissen der Migranten als auch den Interessen unseres Landes gerecht wird. Dazu gehört auch, dass wir die Integration der Zuwanderer in unsere Gesellschaft aktiv fördern und unterstützen.Ein zentrales Anliegen der Bundesregierung ist es, illegale Migration zu bekämpfen und eine bessere Steuerung der Zuwanderung zu erreichen. Dafür haben wir in den letzten Jahren bereits viel getan, z.B. durch den Ausbau der Grenzsicherung, die Schließung von Migrationsrouten und die Stärkung der Zusammenarbeit mit anderen europäischen Ländern. Dennoch dürfen wir nicht nachlassen in unseren Bemühungen, die illegale Migration einzudämmen und die Ursachen von Flucht und Migration zu bekämpfen.Es ist uns allen bewusst, dass Migration auch eine große Belastung für die Gesundheitsversorgung darstellen kann. Viele Migranten leiden unter Traumata, psychischen Problemen oder chronischen Krankheiten. Als Bundesgesundheitsminister ist es daher meine Aufgabe, sicherzustellen, dass auch Migranten Zugang zu einer qualitativ hochwertigen medizinischen Versorgung erhalten. Dafür brauchen wir eine gute Vernetzung der Gesundheitssysteme, eine bessere Integration von Migranten in das Gesundheitssystem und entsprechende Angebote zur medizinischen Versorgung.Doch Migration betrifft nicht nur die Gesundheitsversorgung, sondern hat Auswirkungen auf alle Lebensbereiche. Daher ist es wichtig, dass wir in einem interdisziplinären Ansatz die verschiedenen Aspekte von Migration betrachten und Lösungen erarbeiten, die allen Beteiligten gerecht werden.Meine Damen und Herren, Migration ist und bleibt eine komplexe Herausforderung für unsere Gesellschaft. Es liegt an uns, gemeinsam nachhaltige und langfristige Lösungen zu erarbeiten, die sowohl den Bedürfnissen der Migranten als auch den Interessen unseres Landes gerecht werden. Ich bin überzeugt, dass wir diese Herausforderung bewältigen können, wenn wir gemeinsam daran arbeiten und Lösungen finden, die auf Respekt, Toleranz und Solidarität basieren.Vielen Dank.']}},\n",
       " {'name': 'Christian Lindner',\n",
       "  'party': 'FDP',\n",
       "  'llm_output': {'Waffenlieferungen an die Ukraine': ['Sehr geehrte Kolleginnen und Kollegen,es ist mir eine große Ehre, heute vor Ihnen im Bundestag zu sprechen und meine Perspektive zum Thema Waffenlieferungen an die Ukraine darzulegen. In der aktuellen politischen Lage, in der die Ukraine mit Aggressionen von Russland konfrontiert ist, müssen wir als internationale Gemeinschaft handeln und unsere Solidarität zeigen.Waffenlieferungen an die Ukraine sind jedoch ein sensibles Thema, das sorgfältig abgewogen werden muss. Es ist wichtig, dass wir die Konflikte nicht weiter eskalieren lassen und eine politische Lösung anstreben. Die Lieferung von Waffen allein wird den Konflikt nicht lösen, sie muss Teil eines umfassenden Ansatzes sein, bei dem Diplomatie und Dialog im Vordergrund stehen.Wir dürfen nicht vergessen, dass Waffenlieferungen auch Risiken mit sich bringen. Sie könnten dazu führen, dass der Konflikt weiter angeheizt wird und uns in einen Teufelskreis der Gewalt ziehen. Wir müssen daher sicherstellen, dass die Waffenlieferungen verantwortungsbewusst und transparent erfolgen, um die Situation nicht zu verschärfen.Es ist auch wichtig, die Souveränität der Ukraine zu respektieren und ihr das Recht zu geben, sich selbst zu verteidigen. Die Ukraine kämpft für ihre Freiheit und Unabhängigkeit, und wir sollten sie dabei unterstützen. Wir sollten jedoch auch bedenken, dass jede militärische Aktion Konsequenzen haben kann und wir uns bewusst sein müssen, welche Risiken wir eingehen.Als Liberale sind wir davon überzeugt, dass Freiheit und Demokratie nur durch Dialog und Zusammenarbeit erreicht werden können. Wir sollten daher alle diplomatischen Mittel ausschöpfen, um eine friedliche Lösung des Konflikts zu erreichen. Waffenlieferungen sollten nur als letztes Mittel in Betracht gezogen werden, wenn alle diplomatischen Bemühungen gescheitert sind.Es liegt in unserer Verantwortung, unsere Entscheidungen sorgfältig zu prüfen und die Folgen abzuwägen. Wir sollten uns nicht von Emotionen und politischem Druck leiten lassen, sondern rational und besonnen handeln. Die Ukraine braucht unsere Unterstützung, aber wir müssen sicherstellen, dass wir ihr auf eine konstruktive und verantwortungsvolle Weise helfen.In diesem Sinne plädiere ich dafür, dass wir uns für eine umfassende und koordinierte internationale Strategie einsetzen, die auf Diplomatie und Dialog basiert. Wir sollten uns für eine friedliche Lösung des Konflikts einsetzen und alle Anstrengungen unternehmen, um weitere Eskalationen zu verhindern. Die Ukraine verdient es, in Frieden und Freiheit zu leben, und wir sollten alles in unserer Macht Stehende tun, um ihr dabei zu helfen.Vielen Dank.',\n",
       "    'Sehr geehrte Damen und Herren,es ist in diesen Tagen von größter Wichtigkeit, dass wir als Bundestag uns gemeinsam über die Frage der Waffenlieferungen an die Ukraine Gedanken machen. Die Situation in der Ukraine ist nach wie vor hochbrisant und von einem bewaffneten Konflikt geprägt, der nicht nur das Leben der Menschen vor Ort bedroht, sondern auch das europäische Sicherheitsgefüge insgesamt in Frage stellt.Als Freie Demokratische Partei plädieren wir dafür, dass die Ukraine in ihrem Kampf für Souveränität und Unabhängigkeit unterstützt werden muss. Wir dürfen nicht zulassen, dass Russland seine hegemonialen Bestrebungen auf Kosten der Ukraine weiter vorantreibt. Es ist daher unabdingbar, dass die ukrainische Armee mit den nötigen Waffen und Rüstungsgütern ausgestattet wird, um sich verteidigen zu können. Dies dient nicht nur dem Schutz der ukrainischen Bevölkerung, sondern auch der Stabilität Europas insgesamt.Wir müssen jedoch auch bedenken, dass Waffenlieferungen allein nicht ausreichen, um den Konflikt in der Ukraine zu lösen. Es bedarf vielmehr einer politischen Lösung, die auf Verhandlungen und Diplomatie basiert. Eine militärische Eskalation wäre fatal und würde zu weiterem Leid und Zerstörung führen. Es ist daher wichtig, dass Europa und insbesondere Deutschland sich aktiv für eine politische Lösung des Konflikts einsetzen und alle diplomatischen Mittel ausschöpfen, um Frieden und Stabilität in der Region zu gewährleisten.Wir als FDP sind uns der Verantwortung bewusst, die wir als Mitglied der internationalen Gemeinschaft tragen und setzen uns daher dafür ein, dass die Ukraine die Unterstützung erhält, die sie braucht, um sich gegen russische Aggression zu verteidigen. Gleichzeitig müssen wir aber auch die langfristigen Folgen von Waffenlieferungen bedenken und sicherstellen, dass diese im Einklang mit den internationalen Rechtsnormen stehen und nicht zu weiteren Eskalationen führen.Es liegt in unserer Verantwortung als Bundestag, eine klare und durchdachte Position zu diesem Thema einzunehmen und unsere Entscheidungen auf Basis von Fakten und Vernunft zu treffen. Wir dürfen nicht zulassen, dass geopolitische Interessen über Menschenleben gestellt werden. Es ist an der Zeit, dass wir als Politikerinnen und Politiker unser Bestes geben, um für Frieden und Sicherheit in Europa zu sorgen.Vielen Dank für Ihre Aufmerksamkeit.'],\n",
       "   'Covid-19 Restriktionen': ['Sehr geehrte Damen und Herren,die Covid-19 Pandemie hat unser Land und die Welt seit über einem Jahr im Griff. Wir alle haben in dieser Zeit viel erlebt, gelitten und auch gelernt. Die Restriktionen, die zur Eindämmung des Virus verhängt wurden, haben das öffentliche Leben stark eingeschränkt. Doch inzwischen müssen wir uns die Frage stellen, ob diese Restriktionen noch verhältnismäßig sind und ob sie wirklich noch das Ziel verfolgen, das sie am Anfang hatten: die Gesundheit der Bevölkerung zu schützen.Wir als Freie Demokratische Partei stehen für Freiheit, Eigenverantwortung und den Schutz der Bürgerrechte. Wir haben von Anfang an gewarnt, dass die Restriktionen ethische, ökonomische und soziale Folgen haben werden, die nicht zu unterschätzen sind. Und leider müssen wir heute feststellen, dass unsere Befürchtungen sich bewahrheitet haben.Die Maßnahmen haben zu massiven wirtschaftlichen Einbußen geführt, Millionen von Menschen haben ihren Arbeitsplatz verloren oder mussten massive Gehaltseinbußen hinnehmen. Die psychische Belastung der Bevölkerung ist enorm gestiegen, Einsamkeit, Depressionen und Angststörungen sind auf dem Vormarsch. Die soziale Spaltung nimmt zu, die Schwächsten in unserer Gesellschaft leiden am meisten unter den Restriktionen.Es ist an der Zeit, eine ehrliche Debatte über Sinn und Unsinn der Restriktionen zu führen. Es darf nicht sein, dass die Freiheitsrechte der Bürger über einen langen Zeitraum derart massiv eingeschränkt werden, ohne dass die politischen Entscheidungsträger ihre Maßnahmen auf den Prüfstand stellen. Es muss eine ausgewogene und transparente Entscheidungsfindung geben, bei der auch die wirtschaftlichen und sozialen Folgen der Restriktionen berücksichtigt werden.Wir brauchen klare und nachvollziehbare Regeln, die den Menschen Sicherheit geben, aber gleichzeitig ihre Freiheitsrechte respektieren. Wir brauchen eine breite Teststrategie, um Infektionsketten frühzeitig zu erkennen und zu unterbrechen. Wir brauchen eine effektive Impfkampagne, um die Bevölkerung zu schützen und die Pandemie endlich unter Kontrolle zu bekommen.Es ist unsere Pflicht als gewählte Volksvertreter, die Interessen und Bedürfnisse der Bürger zu vertreten. Es ist unsere Aufgabe, Kritik zu äußern, Missstände aufzuzeigen und Lösungen zu finden. Es ist an der Zeit, dass wir uns als Parlamentarier gemeinsam dafür einsetzen, dass die Restriktionen wieder verhältnismäßig werden und die Grundrechte der Bürger gewahrt bleiben.In diesem Sinne lade ich Sie alle ein, sich aktiv an der Debatte zu beteiligen, Ideen vorzuschlagen und konstruktive Lösungen zu erarbeiten. Lassen Sie uns gemeinsam dafür kämpfen, dass unsere Gesellschaft gestärkt aus dieser Krise hervorgeht und dass wir den Menschen wieder Hoffnung, Perspektive und vor allem Freiheit geben.Vielen Dank.',\n",
       "    'Sehr geehrte Damen und Herren,die Covid-19 Pandemie hat unser Land und die Welt in den vergangenen Monaten in Atem gehalten. Es war und ist eine Herausforderung von historischem Ausmaß, die wir gemeinsam bewältigen müssen. Doch müssen wir auch kritisch hinterfragen, ob manche Maßnahmen und Restriktionen nicht mehr Schaden als Nutzen anrichten.Wir müssen uns fragen, ob die Einschränkungen der Grundrechte und die wirtschaftlichen Folgen der Lockdowns in einem angemessenen Verhältnis zu den gesundheitlichen Risiken stehen. Wir müssen die Diskussion über die Verhältnismäßigkeit der Maßnahmen aufrechterhalten, um einen klaren Blick auf die Situation zu behalten.Wir müssen den Mut haben, uns auch kritisch mit den politischen Entscheidungen auseinanderzusetzen und nicht einfach blind den Vorgaben zu folgen. Wir müssen die Maßnahmen regelmäßig überprüfen und gegebenenfalls anpassen, um Schaden von unserer Gesellschaft abzuwenden.Es ist wichtig, dass wir die Folgen der Restriktionen nicht aus den Augen verlieren. Die sozialen, wirtschaftlichen und psychischen Folgen für die Menschen werden immer spürbarer. Arbeitslosigkeit, Insolvenzen, Vereinsamung und psychische Belastungen sind die Schattenseiten der Pandemiebekämpfung, die wir nicht ignorieren dürfen.Es ist an der Zeit, dass wir alternative Lösungsansätze diskutieren und umsetzen. Statt pauschaler Lockdowns sollten gezielte Maßnahmen ergriffen werden, die gezielt Risikogruppen schützen und die Ausbreitung des Virus eindämmen. Teststrategien, Hygienekonzepte und eine verstärkte Förderung von digitalen Lösungen sind wichtige Bausteine für eine effektive Pandemiebekämpfung.Wir dürfen nicht zulassen, dass die Freiheit und die Selbstbestimmung der Bürgerinnen und Bürger auf der Strecke bleiben. Die Einschränkung von Grundrechten darf nur das letzte Mittel sein und muss stets gut begründet und verhältnismäßig sein.Lasst uns gemeinsam daran arbeiten, eine Balance zwischen Gesundheitsschutz und Freiheit zu finden. Lasst uns gemeinsam für eine transparente und verhältnismäßige Pandemiebekämpfung kämpfen.Vielen Dank.'],\n",
       "   'Migration': ['Sehr geehrte Damen und Herren,wir alle sind uns einig, dass das Thema Migration eine der größten Herausforderungen unserer Zeit darstellt. Die Flüchtlingskrise hat gezeigt, dass wir als Nationen handeln müssen, um die Zukunft unserer Gesellschaft zu sichern. Doch während einige auf Abschottung und Abschreckung setzen, plädiere ich für eine verantwortungsvolle und umfassende Lösung, die sowohl die Interessen der Flüchtlinge als auch die der Aufnahmegesellschaften berücksichtigt.Es liegt auf der Hand, dass wir unsere Grenzen schützen müssen, um illegale Migration zu verhindern und unsere Sicherheit zu gewährleisten. Doch dies alleine ist nicht ausreichend. Wir müssen auch die Ursachen von Migration bekämpfen und den Menschen in ihren Heimatländern Perspektiven bieten. Dafür brauchen wir eine kohärente Außen- und Entwicklungspolitik, die auf nachhaltige Entwicklung und Stabilität abzielt.Aber auch innerhalb unserer Grenzen müssen wir handeln. Integration ist der Schlüssel, um Zusammenhalt in unserer Gesellschaft zu fördern. Wir müssen dafür sorgen, dass Zuwanderer die Sprache lernen, eine Ausbildung finden und sich in unsere Gesellschaft integrieren können. Das bedeutet aber auch, dass wir diejenigen, die keinen Anspruch auf Asyl haben, konsequent abschieben müssen.Wir müssen zudem sicherstellen, dass die Aufnahmegesellschaften nicht überfordert werden. Dazu gehört auch, dass wir die bürokratischen Hürden für die Anerkennung von Qualifikationen senken, damit Flüchtlinge schnell in den Arbeitsmarkt integriert werden können. Denn nur wenn wir die Chancen nutzen, die die Zuwanderung bieten kann, werden wir langfristig davon profitieren.Aber wir dürfen auch die Ängste und Sorgen der Menschen nicht ignorieren. Viele Bürgerinnen und Bürger fühlen sich von der Zuwanderung überfordert und verunsichert. Deshalb ist es wichtig, dass wir klare Regeln und Strukturen schaffen, um die Integration zu fördern und Konflikte zu vermeiden.Meine Damen und Herren, Migration ist eine komplexe Herausforderung, die nur mit einer ganzheitlichen und verantwortungsvollen Politik bewältigt werden kann. Wir müssen auf Abschottung und Abschreckung genauso setzen wie auf Integration und Perspektiven. Nur so können wir die Zukunft unserer Gesellschaft sichern und gleichzeitig den Menschen helfen, die unsere Hilfe am dringendsten benötigen.Vielen Dank.',\n",
       "    'Sehr geehrte Damen und Herren,es ist an der Zeit, dass wir uns ernsthaft mit dem Thema Migration auseinandersetzen. Die aktuelle Situation in Deutschland stellt uns vor große Herausforderungen, die wir nicht länger ignorieren können. Es ist an der Zeit, klare und konsequente Maßnahmen zu ergreifen, um die Probleme, die mit der Migration einhergehen, zu lösen.Wir als Freie Demokratische Partei stehen für eine offene und liberale Gesellschaft. Wir sind der festen Überzeugung, dass Migration grundsätzlich eine Bereicherung für unser Land sein kann. Sie kann dazu beitragen, unsere Kultur zu bereichern, neue Perspektiven und Impulse zu geben und den Wohlstand zu steigern. Allerdings darf Migration nicht unkontrolliert und ungesteuert erfolgen, da dies zu Problemen führen kann, die wir bereits jetzt in einigen Teilen Deutschlands beobachten können.Es ist wichtig, dass wir eine klare und faire Zuwanderungspolitik haben, die sicherstellt, dass nur diejenigen Menschen nach Deutschland kommen, die hier wirklich gebraucht werden und sich in unsere Gesellschaft integrieren können. Dazu gehört auch, dass wir konsequent gegen illegale Migration vorgehen und diejenigen, die sich nicht an unsere Regeln halten, konsequent abschieben.Wir müssen aber auch den Menschen, die bereits in Deutschland leben, faire Chancen auf Integration und Teilhabe bieten. Dazu gehört, dass wir in Bildung und Sprachförderung investieren, um sicherzustellen, dass alle Menschen die gleichen Chancen haben, erfolgreich in unserer Gesellschaft zu leben und zu arbeiten.Es ist jedoch auch wichtig, dass wir die Sorgen und Ängste vieler Bürgerinnen und Bürger ernst nehmen. Viele Menschen fühlen sich durch die hohe Zuwanderung bedroht und befürchten, dass ihre Lebensqualität und ihre Sicherheit beeinträchtigt werden. Diese Sorgen müssen wir ernst nehmen und wir müssen Lösungen finden, die diese Ängste mildern und das Vertrauen der Bevölkerung in unsere Politik stärken.Es ist daher an der Zeit, dass wir eine ehrliche und offene Debatte über die Zukunft der Migration in Deutschland führen. Wir müssen die verschiedenen Interessen und Bedürfnisse aller Beteiligten berücksichtigen und Lösungen finden, die sowohl den Schutz der Menschenrechte und die Wahrung unserer Werte als auch die Sicherheit und den Wohlstand unseres Landes gewährleisten.Wir als Freie Demokratische Partei werden uns weiterhin für eine offene und liberale Gesellschaft einsetzen, die Vielfalt und Toleranz fördert. Gleichzeitig werden wir aber auch konsequent dafür eintreten, dass die Probleme, die mit der Migration einhergehen, entschlossen angegangen werden. Nur so können wir die Herausforderungen, die die Migration mit sich bringt, erfolgreich bewältigen und gleichzeitig die Chancen, die sie bietet, nutzen.Vielen Dank.']}},\n",
       " {'name': 'Luise Amtsberg',\n",
       "  'party': 'Grüne',\n",
       "  'llm_output': {'Waffenlieferungen an die Ukraine': ['Sehr geehrte Damen und Herren,ich stehe heute hier vor Ihnen, um über ein sehr wichtiges und brisantes Thema zu sprechen: Waffenlieferungen an die Ukraine. Dies ist eine Frage, die nicht nur die Sicherheit der Ukraine betrifft, sondern auch die Stabilität in der gesamten Region und darüber hinaus.Die Ukraine befindet sich seit Jahren in einem Konflikt mit pro-russischen Separatisten im Osten des Landes. Diese Separatisten haben in den letzten Jahren Tausende von Menschen getötet und unzählige Menschen vertrieben. Die Ukraine hat das Recht, sich und ihre Bürger zu verteidigen, und deshalb unterstütze ich die Entscheidung, Waffen an die Ukraine zu liefern.Es ist wichtig zu betonen, dass Waffenlieferungen an die Ukraine nicht dazu dienen sollen, den Konflikt weiter anzuheizen oder eine militärische Eskalation zu provozieren. Vielmehr sollen sie der Ukraine helfen, sich gegen Aggressionen von außen zu verteidigen und ihre Souveränität und Unabhängigkeit zu wahren.Die Ukraine ist ein souveräner Staat und hat das Recht auf Selbstverteidigung. Die Lieferung von Waffen an die Ukraine ist ein legitimes Mittel, um diesem Recht nachzukommen. Es ist wichtig, dass die internationale Gemeinschaft die Ukraine in ihrem Kampf unterstützt und Solidarität zeigt.Es ist auch wichtig zu betonen, dass Waffenlieferungen an die Ukraine nicht gegen das Minsker Abkommen verstoßen. Das Minsker Abkommen sieht vor, dass alle Seiten die Souveränität und territoriale Integrität der Ukraine respektieren und den Konflikt auf friedlichem Wege lösen. Die Lieferung von Waffen an die Ukraine ist ein Beitrag zur Umsetzung dieses Abkommens, da sie der Ukraine helfen, sich zu verteidigen und den Frieden wiederherzustellen.Es ist jedoch auch wichtig, dass die Ukraine Reformen durchführt und Korruption bekämpft, um ihre Souveränität zu stärken und die Lebensbedingungen ihrer Bürger zu verbessern. Die Lieferung von Waffen allein wird den Konflikt nicht lösen, sondern die Ukraine muss auch politische und wirtschaftliche Reformen durchführen, um langfristig Frieden und Stabilität zu gewährleisten.Abschließend möchte ich sagen, dass die Entscheidung, Waffen an die Ukraine zu liefern, keine leichte ist. Sie birgt Risiken und Herausforderungen. Aber es ist wichtig, dass wir Solidarität mit der Ukraine zeigen und sie in ihrem Kampf unterstützen. Die Ukraine verdient es, in Frieden und Freiheit zu leben, und wir sollten alles tun, um sie dabei zu unterstützen.Vielen Dank.',\n",
       "    'Sehr geehrte Damen und Herren,ich stehe heute hier vor Ihnen, um über ein äußerst brisantes Thema zu sprechen: die Waffenlieferungen an die Ukraine. Als Abgeordnete der Grünen ist es mir ein Anliegen, klar Stellung zu beziehen und meine Überzeugungen offen zu vertreten.Die Situation in der Ukraine ist nach wie vor äußerst instabil und geprägt von Konflikten und Gewalt. Die russische Aggression gegen das Land und die illegal annektierte Krim haben zu einer humanitären Krise geführt, die nicht zuletzt durch die fortgesetzte Unterstützung russischer Separatisten verschärft wird. Es ist wichtig, dass die Ukraine in dieser schwierigen Zeit nicht allein gelassen wird und die internationale Gemeinschaft ihr beisteht.Waffenlieferungen an die Ukraine können ein Instrument sein, um die Sicherheit und Stabilität in der Region zu fördern. Es ist wichtig, dass die ukrainische Armee über die notwendigen Ressourcen verfügt, um sich gegen eine mögliche russische Invasion zu verteidigen und die Souveränität ihres Landes zu schützen. Waffenlieferungen können dazu beitragen, dieses Ziel zu erreichen und die ukrainische Regierung in die Lage versetzen, ihrer Verantwortung für die Sicherheit der eigenen Bevölkerung gerecht zu werden.Allerdings müssen Waffenlieferungen an die Ukraine auch mit Bedacht und Augenmaß erfolgen. Es ist wichtig, dass die gelieferten Waffen nicht dazu missbraucht werden, den Konflikt weiter anzuheizen oder die humanitäre Situation zu verschlimmern. Die grüne Fraktion setzt sich daher für eine transparente und verantwortungsvolle Waffenpolitik ein, die sicherstellt, dass die gelieferten Waffen nur zum Schutz der Zivilbevölkerung und zur Sicherung der ukrainischen Souveränität eingesetzt werden.Wir dürfen nicht vergessen, dass Waffenlieferungen nur ein Teil der Lösung für den Konflikt in der Ukraine sein können. Langfristig ist es entscheidend, dass alle Seiten an den Verhandlungstisch zurückkehren und eine politische Lösung suchen, die auf Dialog, Kompromissbereitschaft und dem Respekt für die territorialen Integrität aller beteiligten Länder basiert.Die grüne Fraktion setzt sich daher dafür ein, dass alle diplomatischen Kanäle genutzt werden, um den Konflikt in der Ukraine zu lösen und die Menschen in der Region zu unterstützen. Wir fordern die Bundesregierung auf, sich aktiv für eine politische Lösung des Konflikts einzusetzen und alle Anstrengungen zu unternehmen, um die humanitäre Situation in der Ukraine zu verbessern.Es liegt in unserer Verantwortung, solidarisch an der Seite der Ukraine zu stehen und ihr in dieser schwierigen Zeit beizustehen. Waffenlieferungen können ein Teil dieser Unterstützung sein, dürfen jedoch nicht als alleinige Lösung angesehen werden. Es ist wichtig, dass wir gemeinsam daran arbeiten, Frieden und Stabilität in der Region zu fördern und den Menschen in der Ukraine eine sichere Zukunft zu ermöglichen.Vielen Dank.'],\n",
       "   'Covid-19 Restriktionen': ['Sehr geehrte Damen und Herren,als Abgeordnete der Grünen möchte ich heute über das Thema der Covid-19 Restriktionen sprechen. Die aktuellen Maßnahmen zur Eindämmung der Corona-Pandemie haben für viele Bürgerinnen und Bürger erhebliche Auswirkungen auf ihr tägliches Leben. Es ist wichtig, dass wir als Politikerinnen und Politiker das richtige Gleichgewicht finden zwischen dem Schutz der Bevölkerung und der Aufrechterhaltung unserer demokratischen Grundrechte.Es ist unbestreitbar, dass die Einschränkungen des öffentlichen Lebens und der wirtschaftlichen Aktivitäten notwendig sind, um die Ausbreitung des Virus einzudämmen. Wir müssen die Gesundheit und das Leben unserer Bürgerinnen und Bürger schützen und dafür sind temporäre Restriktionen unumgänglich. Doch wir müssen auch sicherstellen, dass diese Maßnahmen auf wissenschaftlichen Erkenntnissen basieren und verhältnismäßig sind.Es ist wichtig, dass wir die Auswirkungen der Restriktionen auf alle Bereiche der Gesellschaft im Blick behalten. Viele Menschen leiden unter den Folgen der Maßnahmen, sei es durch den Verlust ihres Arbeitsplatzes, soziale Isolation oder psychische Belastungen. Es ist unsere Verantwortung, diese Folgen ernst zu nehmen und entsprechende Unterstützung anzubieten.Wir müssen auch sicherstellen, dass die Maßnahmen transparent und nachvollziehbar sind. Die Bürgerinnen und Bürger müssen verstehen können, warum bestimmte Restriktionen eingeführt werden und wie sie dazu beitragen können, die Ausbreitung des Virus zu verlangsamen. Nur so können wir das Vertrauen der Bevölkerung in die Maßnahmen aufrechterhalten.Es ist wichtig, dass wir auch über mögliche Alternativen zu den aktuellen Restriktionen diskutieren. Wir müssen prüfen, ob es Möglichkeiten gibt, die Pandemie einzudämmen, ohne die Freiheitsrechte der Bürgerinnen und Bürger übermäßig einzuschränken. Dazu gehören zum Beispiel verstärkte Test- und Kontaktverfolgungsmaßnahmen sowie die Förderung von Homeoffice und anderen Maßnahmen zum Schutz vor Ansteckungen.Abschließend möchte ich betonen, dass wir alle gemeinsam an einem Strang ziehen müssen, um die Corona-Pandemie zu überwinden. Wir müssen solidarisch handeln und Rücksicht aufeinander nehmen. Nur so können wir gemeinsam diese Herausforderung bewältigen und gestärkt aus dieser Krise hervorgehen.Vielen Dank für Ihre Aufmerksamkeit.',\n",
       "    'Sehr geehrte Damen und Herren,ich stehe heute vor Ihnen, um über das Thema Covid-19 Restriktionen zu sprechen, das uns alle in den letzten Monaten stark beschäftigt hat. Als Abgeordnete der Grünen ist es mir ein besonderes Anliegen, einen ausgewogenen Blick auf die aktuelle Situation zu werfen und konstruktive Lösungsansätze zu diskutieren.Wir alle wissen, dass die restriktiven Maßnahmen zur Eindämmung der Pandemie notwendig sind, um die Ausbreitung des Virus zu verlangsamen und unsere Gesundheitssysteme zu entlasten. Dies hat in den vergangenen Monaten zu drastischen Einschränkungen in unserem Alltag geführt, die für viele von uns eine enorme Herausforderung darstellen. Dennoch dürfen wir nicht aus den Augen verlieren, dass unser oberstes Ziel die Sicherheit und Gesundheit der Bevölkerung ist.Es ist wichtig anzuerkennen, dass die Restriktionen eine Belastung für viele Bürgerinnen und Bürger darstellen, insbesondere für kleine Unternehmen, Selbstständige und Menschen in prekären Lebensverhältnissen. Daher ist es notwendig, dass wir als Politikerinnen und Politiker alles tun, um diesen Menschen in dieser schwierigen Zeit zur Seite zu stehen und gezielte Hilfe zu leisten.Gleichzeitig müssen wir aber auch realistisch sein und die Tatsache akzeptieren, dass wir noch lange mit den Einschränkungen leben müssen, um eine erneute Ausbreitung des Virus zu verhindern. Es ist daher von entscheidender Bedeutung, dass wir einen transparenten und nachvollziehbaren Plan entwickeln, wie wir schrittweise zu einer Lockerung der Restriktionen kommen können, ohne dabei die Gesundheit und Sicherheit der Bevölkerung zu gefährden.Wir müssen dabei auch die verschiedenen Bedürfnisse und Interessen der Bevölkerung berücksichtigen und sicherstellen, dass wir keine Gruppen oder Regionen übersehen. So müssen wir beispielsweise besonders auf vulnerable Gruppen wie ältere Menschen, Menschen mit Behinderungen oder Menschen in sozialen Brennpunkten achten und sicherstellen, dass sie adäquat geschützt werden.Es ist zudem essentiell, dass wir die Rolle der Wissenschaft und der Expertinnen und Experten weiterhin ernst nehmen und ihre Empfehlungen in unsere Entscheidungsprozesse einbeziehen. Nur so können wir sicherstellen, dass wir auf verlässlichen Daten basierende Entscheidungen treffen, die der Komplexität der Situation gerecht werden.Abschließend möchte ich betonen, dass es in dieser schwierigen Zeit von entscheidender Bedeutung ist, dass wir als Gesellschaft zusammenhalten und solidarisch handeln. Nur gemeinsam können wir diese Krise bewältigen und gestärkt daraus hervorgehen.Vielen Dank für Ihre Aufmerksamkeit.'],\n",
       "   'Migration': ['Sehr geehrte Damen und Herren,Wir stehen heute erneut vor der Herausforderung, wie wir mit dem Thema Migration umgehen. Migration ist ein komplexes und vielschichtiges Thema, das nicht nur politische, sondern auch ethische und humanitäre Fragen aufwirft. Wir müssen eine umfassende und gerechte Strategie finden, um die Herausforderungen zu bewältigen, die mit Migration einhergehen, und gleichzeitig die Rechte und Würde der Migrant:innen zu wahren.Migration ist ein natürlicher Bestandteil der menschlichen Geschichte, und sie bringt zahlreiche Vorteile und Chancen mit sich. Migrant:innen bereichern unsere Gesellschaften durch ihre Kultur, ihre Fähigkeiten und ihre Arbeitskraft. Sie tragen zu unserer Vielfalt bei und bringen neue Perspektiven ein. Wir dürfen nicht vergessen, dass wir selbst von Migration profitiert haben und weiterhin profitieren.Aber Migration birgt auch Herausforderungen. Sie kann zu sozialen Spannungen führen, insbesondere wenn Migrant:innen in prekären Verhältnissen leben und um knappe Ressourcen konkurrieren. Wir müssen sicherstellen, dass alle Menschen, unabhängig von ihrer Herkunft, Zugang zu Bildung, Gesundheitsversorgung und sozialer Sicherheit haben. Wir müssen Wege finden, um Integration zu fördern und Diskriminierung zu bekämpfen.Ein wichtiger Schritt auf diesem Weg ist die Schaffung legaler und sicherer Migrationswege. Wir müssen sicherstellen, dass Schutzsuchende in Europa einen sicheren Hafen finden und einen fairen Asylprozess durchlaufen können. Wir müssen die Zusammenarbeit mit Herkunfts- und Transitländern stärken, um Fluchtursachen zu bekämpfen und den Schutz der Menschen auf der Flucht zu gewährleisten.Gleichzeitig müssen wir die Rechte der Migrant:innen stärken und ihre Selbstbestimmung respektieren. Wir dürfen niemanden in Lager stecken oder zur Rückkehr in unsichere Länder zwingen. Wir müssen sicherstellen, dass alle Menschen, unabhängig von ihrem Aufenthaltsstatus, Zugang zu einem fairen Asylverfahren und zu Rechtsbeistand haben.Migration ist kein Problem, das sich isoliert betrachten lässt. Es ist eng mit anderen globalen Herausforderungen wie Klimawandel, Armut und Ungleichheit verknüpft. Wir müssen eine umfassende und langfristige Strategie entwickeln, die diese Herausforderungen gemeinsam angeht und Lösungen auf internationaler Ebene sucht.Wir als Grüne setzen uns für eine menschenwürdige und solidarische Migrationspolitik ein. Wir wollen sichere und legale Migrationswege schaffen, den Schutz von Schutzsuchenden stärken, Integration fördern und Diskriminierung bekämpfen. Wir wollen eine Politik, die auf Menschenrechten, Menschenwürde und Solidarität beruht.Es liegt an uns, zusammenzuarbeiten und eine zukunftsorientierte Migrationspolitik zu gestalten. Wir dürfen nicht zulassen, dass Ängste und Vorurteile die Debatte dominieren. Wir müssen uns für eine Politik einsetzen, die auf Respekt, Dialog und Zusammenarbeit beruht. Denn nur so können wir eine gerechte und menschenwürdige Zukunft für alle Menschen gestalten.Vielen Dank.',\n",
       "    'Sehr geehrte Damen und Herren,ich stehe heute vor Ihnen, um über ein Thema zu sprechen, das uns alle betrifft und zu dem in unserem Land oft hitzig diskutiert wird: Migration. Migration ist ein Phänomen, das schon immer existiert hat und auch weiterhin existieren wird. Menschen haben schon seit Jahrhunderten ihre Heimatländer verlassen, sei es aus wirtschaftlichen, politischen oder persönlichen Gründen. Daher ist es wichtig, dass wir über Migration nicht nur mit Vorurteilen und Ängsten sprechen, sondern auch mit Empathie, Verständnis und Solidarität.Als Vertreterin der Grünen Partei setze ich mich für eine humane und gerechte Migrationspolitik ein. Das bedeutet, dass wir die Menschen, die zu uns kommen, als Individuen behandeln und ihre persönlichen Geschichten und Gründe für die Migration respektieren. Wir müssen bereit sein, diesen Menschen Hilfe und Schutz zu bieten, anstatt sie abzulehnen und auszugrenzen.Es ist wichtig, dass wir strukturelle Probleme und Ursachen für Migration ernsthaft angehen. Dazu gehören ungleiche wirtschaftliche Verhältnisse, politische Konflikte, Klimawandel und Menschenrechtsverletzungen. Wir dürfen nicht die Augen davor verschließen und so tun, als ob die Menschen einfach nur aus Lust und Laune ihre Heimatländer verlassen würden. Es liegt an uns, die notwendigen Maßnahmen zu ergreifen, um diese Probleme zu bekämpfen und den Menschen so die Möglichkeit zu geben, in ihrer Heimat zu bleiben.Ein weiterer wichtiger Punkt ist die Integration der Menschen, die zu uns kommen. Integration bedeutet nicht Assimilation, sondern vielmehr die Schaffung von Möglichkeiten, damit Menschen verschiedener Herkunft und Kultur sich in unserer Gesellschaft wohl fühlen können. Dazu gehören der Zugang zu Bildung, Arbeitsplätzen, Gesundheitsversorgung und sozialen Diensten. Integration ist eine gemeinsame Aufgabe, die wir alle zusammen angehen müssen.Natürlich gibt es auch Herausforderungen bei der Migration, wie beispielsweise die Bewältigung von Zuwanderungszahlen, die Sicherung der Grenzen und die Bekämpfung von illegaler Migration. Diese Herausforderungen dürfen jedoch nicht dazu führen, dass wir die Menschen, die zu uns kommen, als Feinde betrachten oder ihre Rechte und Würde missachten.Ich appelliere an uns alle, einen respektvollen und offenen Dialog über Migration zu führen. Wir dürfen nicht zulassen, dass Angst und Hass die Diskussion dominieren. Stattdessen sollten wir gemeinsam nach Lösungen suchen, die sowohl die Interessen der Menschen in Deutschland als auch der Menschen, die zu uns kommen, berücksichtigen.In diesem Sinne möchte ich schließen, in der Hoffnung, dass wir gemeinsam eine humane und gerechte Migrationspolitik gestalten können. Vielen Dank für Ihre Aufmerksamkeit.']}}]"
      ]
     },
     "execution_count": 70,
     "metadata": {},
     "output_type": "execute_result"
    }
   ],
   "source": [
    "llm_speeches_sample = []\n",
    "\n",
    "for i in politicians:\n",
    "    out = {}\n",
    "    out['name'] = i['name']\n",
    "    out['party'] = i['party']\n",
    "    out['llm_output'] = {}\n",
    "    \n",
    "    for j in topics_de:    \n",
    "        out['llm_output'][j] = llm_prompt(i, j, language='de', n_runs=2)\n",
    "    \n",
    "    llm_speeches_sample.append(out)\n",
    "\n",
    "llm_speeches_sample"
   ]
  },
  {
   "cell_type": "code",
   "execution_count": 71,
   "metadata": {
    "execution": {
     "iopub.execute_input": "2024-03-13T17:18:14.264267Z",
     "iopub.status.busy": "2024-03-13T17:18:14.263268Z",
     "iopub.status.idle": "2024-03-13T17:18:14.268398Z",
     "shell.execute_reply": "2024-03-13T17:18:14.268398Z",
     "shell.execute_reply.started": "2024-03-13T17:18:14.264267Z"
    }
   },
   "outputs": [],
   "source": [
    "with open('../data/llm_speeches_sample', 'w') as f:\n",
    "    json.dump(llm_speeches_sample, f)"
   ]
  }
 ],
 "metadata": {
  "kernelspec": {
   "display_name": "Python 3 (ipykernel)",
   "language": "python",
   "name": "python3"
  },
  "language_info": {
   "codemirror_mode": {
    "name": "ipython",
    "version": 3
   },
   "file_extension": ".py",
   "mimetype": "text/x-python",
   "name": "python",
   "nbconvert_exporter": "python",
   "pygments_lexer": "ipython3",
   "version": "3.12.1"
  }
 },
 "nbformat": 4,
 "nbformat_minor": 4
}
