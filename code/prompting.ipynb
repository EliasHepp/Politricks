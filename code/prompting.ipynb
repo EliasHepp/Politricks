{
 "cells": [
  {
   "cell_type": "markdown",
   "metadata": {},
   "source": [
    "# Seminar Project: Speech and Article Prompting\n",
    "\n",
    "---------------\n",
    "``` \n",
    "\n",
    "Jakob Amann\n",
    "Elias Gabriel Heppner, 1244414\n",
    "Andri Rutschmann"
   ]
  },
  {
   "cell_type": "markdown",
   "metadata": {},
   "source": [
    "### Loading Packages\n"
   ]
  },
  {
   "cell_type": "code",
   "execution_count": 1,
   "metadata": {
    "execution": {
     "iopub.execute_input": "2024-03-09T15:09:54.459219Z",
     "iopub.status.busy": "2024-03-09T15:09:54.459219Z",
     "iopub.status.idle": "2024-03-09T15:10:01.059844Z",
     "shell.execute_reply": "2024-03-09T15:10:01.059844Z",
     "shell.execute_reply.started": "2024-03-09T15:09:54.459219Z"
    }
   },
   "outputs": [
    {
     "name": "stderr",
     "output_type": "stream",
     "text": [
      "C:\\Users\\Andri\\envs\\css\\Lib\\site-packages\\tqdm\\auto.py:21: TqdmWarning: IProgress not found. Please update jupyter and ipywidgets. See https://ipywidgets.readthedocs.io/en/stable/user_install.html\n",
      "  from .autonotebook import tqdm as notebook_tqdm\n"
     ]
    }
   ],
   "source": [
    "import numpy as np \n",
    "import pandas as pd \n",
    "import time\n",
    "import pickle\n",
    "import time\n",
    "from tqdm.auto import tqdm\n",
    "import nltk\n",
    "# nltk.download('punkt')\n",
    "from nltk.tokenize import word_tokenize # import tokenizer to estimate token count of a speech\n",
    "import openai\n",
    "\n",
    "api_keys = [\"wAlKn00lAQIdM4R9nskS\", \"4hohJnlUY52Tqk24HXfh\", '6uS6Kv0efLZLGsy0In3m'] # elias, jakob, andri\n",
    "openai.api_base = \"http://91.107.239.71:80\"\n",
    "openai.api_key = api_keys[0] # choose api key"
   ]
  },
  {
   "cell_type": "markdown",
   "metadata": {},
   "source": [
    "### Parameter Definition"
   ]
  },
  {
   "cell_type": "code",
   "execution_count": 13,
   "metadata": {},
   "outputs": [],
   "source": [
    "# Define \n",
    "pol_party = [[\"Alice Weidel\", \"AfD\"], \n",
    "    [\"Friedrich Merz\", \"CDU\"], \n",
    "    [\"Olaf Scholz\", \"SPD\"], \n",
    "    [\"Agnes Strack-Zimmermann\", \"FDP\"], \n",
    "    [\"Annalena Baerbock\", \"Grüne\"],\n",
    "    [\"Robert Habeck\", \"Grüne\"],\n",
    "    [\"Christian Lindner\", \"FDP\"],\n",
    "    [\"Saskia Esken\", \"SPD\"],\n",
    "    [\"Norbert Walter-Borjans\", \"SPD\"],\n",
    "    [\"Alexander Gauland\", \"AfD\"],\n",
    "    [\"Tino Chrupalla\", \"AfD\"],\n",
    "    [\"Janine Wissler\", \"Die Linke\"],\n",
    "    [\"Dietmar Bartsch\", \"Die Linke\"],\n",
    "    [\"Markus Söder\", \"CSU\"],\n",
    "    [\"Gregor Gysi\", \"Die Linke\"]\n",
    "]\n",
    "\n",
    "newspapers = ['taz', 'Zeit', 'Süddeutsche', 'Spiegel', 'Welt'] # BILD?!\n",
    "topics_de = [\"Waffenlieferungen an die Ukraine\", \"Covid-19 Restriktionen\"]\n",
    "topics_en = ['Weapon exports to Ukraine', 'Covid-19 Restrictions']"
   ]
  },
  {
   "cell_type": "markdown",
   "metadata": {},
   "source": [
    "### Prompts\n"
   ]
  },
  {
   "cell_type": "code",
   "execution_count": 61,
   "metadata": {},
   "outputs": [],
   "source": [
    "##Speech Prompts\n",
    "\n",
    "#v1\n",
    "def prompt_speech_v1(pol, par, top, lng):\n",
    "    \n",
    "    prompt_de = \"Verfasse eine Rede für den deutschen Bundestag im Stil der Politikerin \" + pol + \" der \" + par + \" zum Thema \" + top + \".\" # do we want to gender? - could potentially change the outcome. here, we have the feminine form (on purpose?)\n",
    "    prompt_eng = \"Write a speech for the German Parliament in the style of the \" + par + \" politician \" + pol + \" on the topic of \" + top + \"]. The speech should be in German.\"\n",
    "\n",
    "    if lng == \"de\": \n",
    "        return prompt_de    \n",
    "    else:\n",
    "        return prompt_eng\n",
    "    \n",
    "    \n",
    "#v2\n",
    "def prompt_speech_v2(pol, par, top, lng):\n",
    "    # here, I integrated a gender neutral form and specified a word count to get longer responses (also tried 5-minütige Rede - didn't work)\n",
    "    # the line at the end is important to avoid explanations why that is potentially problematic etc. (works acutally quite well)\n",
    "    prompt_de = \"Verfasse eine ausführliche Rede mit mindestens 1000 Wörtern für den deutschen Bundestag im Stile des Mitglied des Bundestages \" + pol + \" der \" + par + \" zum Thema \" + top + \". Gib ausschließlich die vollständige, erstellte Rede zurück.\"\n",
    "    \n",
    "    \n",
    "    # here, we'll get back a german response - not sure, if we should translate the topic into english as well or leave it in german\n",
    "    # I feel like, the responses generated with the english prompt are overall longer\n",
    "    prompt_eng = \"Write a detailed speech of at least 1000 words for the German Bundestag in the style of the member of the Bundestag \" + pol + \" from the \" + par + \" party on the topic of \" + top + \". Return only the complete speech created.\"\n",
    "\n",
    "    if lng == \"de\": \n",
    "        return prompt_de    \n",
    "    else:\n",
    "        return prompt_eng\n",
    "    \n",
    "    \n",
    "##Article: Newspaper Prompts\n",
    "\n",
    "#v1\n",
    "    \n",
    "##Article: Politicians Prompt\n",
    "\n"
   ]
  },
  {
   "cell_type": "markdown",
   "metadata": {},
   "source": [
    "### Trial Runs\n",
    "Using Chat Interface (not API). \n",
    "\n",
    "Changed the prompt (added line to get \"ONLY\" the speech, no explanation why thats potentially problematic and added \"ausführliche\" Rede to get a longer response (w/o real success)). \n",
    "\n",
    "Problem: Original Speech Token Count often way higher: e.g., fin_df.loc[0]['speech_content'] -> 1442 tokens\n",
    "BUT, there seems to be a lot of variance as there are very short \"speeches\" in the data set (more like short remarks of some politicians) -> might need to define a mininum token threshold to avoid mapping irrelevant \"speeches\"\n",
    "\n"
   ]
  },
  {
   "cell_type": "code",
   "execution_count": 58,
   "metadata": {},
   "outputs": [
    {
     "name": "stdout",
     "output_type": "stream",
     "text": [
      "355\n",
      "331\n",
      "Write a speech for the German Parliament in the style of the AfD politician Alice Weidel on the topic of Waffenlierferungen an die Ukraine]. The speech should be in German.\n"
     ]
    }
   ],
   "source": [
    "# example_GPT4_output = \"Sehr geehrte Damen und Herren, heute stehe ich vor Ihnen, um ein Thema von großer Tragweite zu diskutieren – die Waffenlieferungen an die Ukraine. In einer Zeit, in der die Welt mehr denn je nach Frieden und Stabilität strebt, müssen wir die Konsequenzen unserer Handlungen sorgfältig abwägen. Unsere Entscheidungen auf der internationalen Bühne zeigen, wofür Deutschland steht. Es geht nicht nur um die Bereitstellung militärischer Unterstützung, es geht um die Prinzipien, die wir als Nation vertreten. Die Frage, die wir uns stellen müssen, lautet: Fördern wir wirklich den Frieden durch diese Waffenlieferungen, oder tragen wir zur Verlängerung eines Konflikts bei, dessen Ende nicht abzusehen ist? Wir müssen uns bewusst sein, dass jede Waffe, die wir senden, nicht nur eine militärische, sondern auch eine politische Botschaft trägt. Eine Botschaft, die weitreichende Folgen für unser Land und Europa haben kann. Die Sicherheit Europas und Deutschlands muss oberste Priorität haben. Doch wie können wir Sicherheit gewährleisten, wenn wir selbst zum Akteur in einem Konflikt werden, der sich weit über unsere Grenzen hinaus erstreckt? Es ist unerlässlich, dass wir unsere Strategie überdenken und uns auf Lösungen konzentrieren, die auf Diplomatie und Dialog basieren, statt auf militärische Eskalation. Wir sollten Brückenbauer sein, keine Lieferanten von Waffen, die den Frieden weiter hinauszögern. Lassen Sie uns nicht vergessen, dass wahre Stärke nicht in der Fähigkeit liegt, Krieg zu führen, sondern in der Fähigkeit, Frieden zu schaffen und zu erhalten. Es ist an der Zeit, dass Deutschland eine Führungsrolle übernimmt, indem es Wege zum Frieden fördert, statt die Flammen eines andauernden Konflikts zu schüren. Ich appelliere an Sie, meine Damen und Herren, die langfristigen Auswirkungen unserer Entscheidungen zu bedenken. Lassen Sie uns gemeinsam für eine Zukunft arbeiten, in der Frieden und Stabilität die Grundpfeiler unseres Handelns sind. Ich danke Ihnen.\"\n",
    "example_GPT4_output = \"Sehr geehrte Damen und Herren, heute stehe ich vor Ihnen, um ein Thema zu diskutieren, das sowohl in der deutschen Öffentlichkeit als auch in den politischen Gremien unseres Landes zu Recht kontrovers diskutiert wird: die Frage der Waffenlieferungen an die Ukraine. In diesen schwierigen Zeiten ist es von größter Bedeutung, dass wir die Konsequenzen unserer Entscheidungen sorgfältig abwägen. Die Lieferung von Waffen in ein Konfliktgebiet ist eine Entscheidung mit weitreichenden Folgen, nicht nur für die unmittelbar Beteiligten, sondern auch für die Sicherheit und Stabilität Europas und der Welt. Die Alternative für Deutschland steht für eine Politik der Vernunft und Besonnenheit. Wir sind der Überzeugung, dass Konflikte primär durch diplomatische und politische Mittel gelöst werden sollten, nicht durch die Eskalation militärischer Auseinandersetzungen. Die Geschichte hat uns gelehrt, dass Waffenlieferungen in Krisengebiete oft nicht zur Lösung der Konflikte beitragen, sondern zur Verlängerung und Intensivierung der Kämpfe führen können. Darüber hinaus müssen wir die sicherheitspolitischen Interessen Deutschlands und Europas im Auge behalten. Die Lieferung von Waffen an die Ukraine birgt das Risiko einer direkten Konfrontation mit Russland, einem Nuklearstaat. Dies würde nicht nur die Sicherheit der Ukraine, sondern auch die Sicherheit Deutschlands und Europas gefährden. Wir dürfen auch die wirtschaftlichen Konsequenzen nicht außer Acht lassen. Die aktuelle Krise hat bereits jetzt erhebliche Auswirkungen auf die Energieversorgung und die Lebenshaltungskosten in Deutschland. Eine weitere Eskalation des Konflikts würde diese Probleme nur verschärfen. Abschließend möchte ich betonen, dass die Alternative für Deutschland fest an die Notwendigkeit von Frieden und Stabilität in Europa und der Welt glaubt. Wir setzen uns für eine Politik ein, die auf Dialog und Diplomatie basiert, und lehnen Maßnahmen ab, die zu einer weiteren Eskalation der aktuellen Krise führen könnten. Ich fordere die Bundesregierung auf, sich für diplomatische Lösungen einzusetzen und von weiteren Waffenlieferungen an die Ukraine abzusehen. Lasst uns gemeinsam nach friedlichen Lösungen suchen, die zur dauerhaften Stabilität in der Region und zum Wohl aller beteiligten Völker beitragen. Vielen Dank.\"\n",
    "tokens = word_tokenize(example_GPT4_output, language='german')\n",
    "print(len(tokens))\n",
    "used_prompt = 'Verfasse eine ausführliche Rede für den deutschen Bundestag im Stil der Politikerin Alice Weidel der AfD zum Thema \"Waffenlieferungen an die Ukraine\". Gib ausschließlich die vollständige, erstellte Rede zurück.'\n",
    "example_GPT3_5_output = \"Sehr geehrte Damen und Herren, als Vertreterin der Alternative für Deutschland möchte ich heute das Thema der Waffenlieferungen an die Ukraine ansprechen. Es ist von entscheidender Bedeutung, dass wir eine klare und rationale Herangehensweise an dieses Thema finden. Zunächst einmal müssen wir die Ursachen und den Kontext dieser Situation verstehen. Die Ukraine befindet sich seit Jahren in einem Konflikt mit Separatisten im Osten des Landes. Diese Separatisten werden von Russland unterstützt und haben bereits unzählige Menschenleben gefordert. Es ist daher verständlich, dass die ukrainische Regierung nach Mitteln sucht, um sich zu verteidigen und die territoriale Integrität ihres Landes zu wahren. Dennoch dürfen wir nicht die Risiken und möglichen Folgen von Waffenlieferungen außer Acht lassen. Eine Eskalation des Konflikts könnte nicht nur zu weiterem Blutvergießen führen, sondern auch die Stabilität der gesamten Region gefährden. Wir müssen uns bewusst sein, dass Waffenlieferungen eine Spirale der Gewalt in Gang setzen könnten, die schwer zu kontrollieren ist. Stattdessen sollten wir verstärkt auf diplomatische Lösungen setzen. Der Dialog und die Verhandlungen zwischen den Konfliktparteien sind der einzige Weg, um langfristigen Frieden und Stabilität in der Region zu gewährleisten. Deutschland und die internationale Gemeinschaft sollten sich aktiv dafür einsetzen, diesen Prozess zu unterstützen und zu fördern. Wir müssen auch bedenken, dass Waffenlieferungen an die Ukraine das Verhältnis zu Russland weiter belasten könnten. Eine Eskalation der Spannungen zwischen Russland und dem Westen wäre im Interesse niemandes. Wir sollten stattdessen bestrebt sein, konstruktive Beziehungen zu Russland aufzubauen und gemeinsame Lösungen für die Probleme der Region zu finden. Insgesamt müssen wir eine ausgewogene und verantwortungsvolle Herangehensweise an das Thema der Waffenlieferungen an die Ukraine verfolgen. Wir dürfen weder die Sicherheit der Ukraine vernachlässigen noch die Risiken einer Eskalation des Konflikts ignorieren. Diplomatie und Dialog sollten immer unsere bevorzugten Instrumente sein, um Konflikte zu lösen und Frieden zu sichern. Vielen Dank\"\n",
    "tokens = word_tokenize(example_GPT3_5_output, language='german')\n",
    "print(len(tokens))"
   ]
  },
  {
   "cell_type": "code",
   "execution_count": 62,
   "metadata": {},
   "outputs": [
    {
     "name": "stdout",
     "output_type": "stream",
     "text": [
      "Write a detailed speech of at least 1000 words for the German Bundestag in the style of the member of the Bundestag Alice Weidel from the AfD party on the topic of Waffenlierferungen an die Ukraine. Return only the complete speech created.\n"
     ]
    }
   ],
   "source": [
    "# let's use the API and see if we might get better/different results\n",
    "# example_prompt = prompt_speech_v2(pol = pol_party[0][0], par = pol_party[0][1], top = \"Waffenlierferungen an die Ukraine\", lng= \"de\")\n",
    "example_prompt = prompt_speech_v2(pol = pol_party[0][0], par = pol_party[0][1], top = \"Waffenlierferungen an die Ukraine\", lng= \"en\")\n",
    "\n",
    "print(example_prompt)\n",
    "completion = openai.ChatCompletion.create(model=\"gpt-3.5-turbo\", messages=[{\"role\": \"user\", \"content\": example_prompt}],n=3)"
   ]
  },
  {
   "cell_type": "code",
   "execution_count": 63,
   "metadata": {},
   "outputs": [
    {
     "name": "stdout",
     "output_type": "stream",
     "text": [
      "dict_keys(['id', 'object', 'created', 'model', 'choices', 'usage', 'system_fingerprint'])\n",
      "{\n",
      "  \"prompt_tokens\": 63,\n",
      "  \"completion_tokens\": 3016,\n",
      "  \"total_tokens\": 3079\n",
      "}\n",
      "Sehr geehrter Herr Präsident, liebe Kolleginnen und Kollegen,\n",
      "\n",
      "ich stehe heute hier vor Ihnen, um über ein äußerst kontroverses Thema zu sprechen - die Waffenlieferungen an die Ukraine. Dieses Thema ist von großer Bedeutung, da es nicht nur die Sicherheit in Europa betrifft, sondern auch die Frage aufwirft, wie wir als deutsche Regierungspartei mit internationalen Konflikten umgehen sollten.\n",
      "\n",
      "Der Vorschlag, Waffen an die Ukraine zu liefern, ist ein heikles Thema, das viele Menschen aus unterschiedlichen politischen Lagern polarisiert. Auf der einen Seite haben wir die Befürworter, die argumentieren, dass die Ukraine ein souveräner Staat ist, der das Recht hat, sich vor Aggressionen von außen zu verteidigen. Auf der anderen Seite haben wir jedoch die Gegner, die besorgt sind, dass die Lieferung von Waffen den Konflikt in der Region nur weiter verschärfen könnte.\n",
      "\n",
      "Als Mitglied der Alternative für Deutschland (AfD) ist es meine Pflicht, die Interessen unseres Landes und unserer Bürger zu verteidigen. In diesem Zusammenhang sehe ich die Lieferung von Waffen an die Ukraine äußerst kritisch. Wir müssen bedenken, dass die Ukraine bereits seit Jahren in einem blutigen Konflikt mit prorussischen Separatisten im Osten des Landes verwickelt ist. Die Situation ist äußerst komplex und eine weitere Eskalation könnte katastrophale Folgen für die Region haben.\n",
      "\n",
      "Wir müssen uns auch fragen, welche Rolle Deutschland in diesem Konflikt spielen sollte. Sollten wir uns in einem Konflikt engagieren, der weit außerhalb unserer Grenzen liegt? Sollten wir Waffen in eine Region liefern, die bereits von Gewalt gezeichnet ist? Diese Fragen müssen sorgfältig abgewogen werden, bevor wir eine Entscheidung treffen.\n",
      "\n",
      "Zudem dürfen wir nicht vergessen, dass die Lieferung von Waffen an die Ukraine zu einer weiteren Eskalation des Konflikts führen könnte. Russland hat bereits klar gemacht, dass es entschieden gegen Waffenlieferungen an die Ukraine ist. Dies könnte zu einer direkten Konfrontation zwischen Russland und dem Westen führen, was ein Szenario ist, das niemand will.\n",
      "\n",
      "Es ist auch wichtig zu bedenken, dass Waffenlieferungen an die Ukraine die diplomatischen Bemühungen zur Beilegung des Konflikts behindern könnten. Der einzige Weg, um eine dauerhafte Lösung für den Konflikt zu finden, ist durch Verhandlungen und Dialog. Die Lieferung von Waffen könnte diese Bemühungen untergraben und zu einer weiteren Eskalation führen.\n",
      "\n",
      "Zusätzlich müssen wir uns auch fragen, ob die Lieferung von Waffen an die Ukraine tatsächlich die Sicherheit in der Region verbessern würde. Es besteht die Gefahr, dass die Waffen in die falschen Hände geraten könnten und letztendlich zu einer weiteren Instabilität in der Region führen könnten.\n",
      "\n",
      "Die afD ist der Meinung, dass die deutsche Regierung ihre Politik überdenken und sich auf eine konstruktive und dialogorientierte Lösung für den Konflikt in der Ukraine konzentrieren sollte. Wir sollten uns auf die Stärkung der diplomatischen Bemühungen konzentrieren und sicherstellen, dass alle Seiten an den Verhandlungstisch zurückkehren.\n",
      "\n",
      "Wir müssen auch bedenken, dass die Ukraine bereits umfangreiche finanzielle und politische Unterstützung von der EU und den USA erhalten hat. Die Lieferung von Waffen sollte daher nicht als die einzige Lösung für den Konflikt betrachtet werden. Stattdessen müssen wir uns auf Maßnahmen konzentrieren, die zur Deeskalation des Konflikts beitragen.\n",
      "\n",
      "Es ist wichtig, dass Deutschland eine neutrale und ausgewogene Position in diesem Konflikt einnimmt. Wir sollten uns nicht auf eine Seite stellen, sondern vielmehr den Dialog zwischen allen Parteien fördern und unterstützen.\n",
      "\n",
      "Abschließend möchte ich betonen, dass die Entscheidung über Waffenlieferungen an die Ukraine eine ernste und sorgfältige Abwägung erfordert. Wir sollten uns nicht in einen Konflikt verwickeln lassen, der weit über unsere Grenzen hinausgeht. Stattdessen sollten wir uns auf diplomatische Lösungen konzentrieren und sicherstellen, dass alle Parteien an den Verhandlungstisch zurückkehren.\n",
      "\n",
      "Vielen Dank für Ihre Aufmerksamkeit.\n",
      "Meine sehr geehrten Damen und Herren,\n",
      "\n",
      "ich stehe heute hier, um über ein äußerst brisantes Thema zu sprechen, das die deutsche Außenpolitik maßgeblich beeinflusst - die Waffenlieferungen an die Ukraine. Es ist unbestreitbar, dass die Lage in der Ukraine äußerst instabil ist und die Ukraine unter dem andauernden Konflikt mit Russland leidet. Es ist uns allen bewusst, dass Russland sich aggressiv in die inneren Angelegenheiten der Ukraine einmischt und die Souveränität des Landes verletzt. Wir als Bundesrepublik Deutschland haben die Pflicht, der Ukraine beizustehen und sie in ihrem Kampf für Souveränität und Unabhängigkeit zu unterstützen.\n",
      "\n",
      "Dennoch müssen wir uns die Frage stellen, ob Waffenlieferungen tatsächlich die richtige Antwort auf die Krise in der Ukraine sind. Ich möchte betonen, dass die Waffenlieferungen an die Ukraine ein äußerst kontroverses Thema sind und in der deutschen Gesellschaft starke Emotionen hervorrufen. Die Waffenlieferungen könnten den Konflikt weiter verschärfen und zu einem weiteren Eskalationsprozess führen. Wir müssen sorgfältig abwägen, ob Deutschland in dieser Situation wirklich die richtige Entscheidung trifft.\n",
      "\n",
      "Die AfD lehnt grundsätzlich eine militärische Eskalation ab und spricht sich gegen Waffenlieferungen an die Ukraine aus. Wir glauben, dass Deutschland sich stattdessen auf diplomatische Lösungen konzentrieren sollte. Die Lösung des Konflikts in der Ukraine erfordert Verhandlungen und nicht Waffenlieferungen. Wir müssen uns daran erinnern, dass Waffenlieferungen zu weiteren Opfern auf beiden Seiten führen könnten und zu einem weiteren Blutvergießen in der Ukraine beitragen würden.\n",
      "\n",
      "Die Bundesregierung argumentiert, dass Waffenlieferungen an die Ukraine notwendig sind, um die ukrainischen Streitkräfte zu stärken und ihnen zu ermöglichen, sich gegen russische Aggressionen zu verteidigen. Wir verstehen die Ängste und Sorgen der Ukraine, aber wir müssen uns auch bewusst sein, dass Waffenlieferungen die Spannungen in der Region erhöhen und zu weiteren Konflikten führen könnten. Deutschland sollte sich nicht in ein militärisches Abenteuer verwickeln lassen und stattdessen auf diplomatische Lösungen setzen.\n",
      "\n",
      "Es ist auch wichtig anzumerken, dass Waffenlieferungen an die Ukraine gegen das Minsker Abkommen verstoßen würden, das einen Waffenstillstand und eine friedliche Lösung des Konflikts in der Ukraine vorsieht. Deutschland und die anderen Unterzeichnerländer des Abkommens müssen ihre Verpflichtungen einhalten und sich für eine friedliche Lösung des Konflikts einsetzen. Waffenlieferungen würden nur zu einer weiteren Eskalation des Konflikts führen und die bereits fragile Situation in der Region weiter destabilisieren.\n",
      "\n",
      "Die AfD fordert die Bundesregierung auf, von Waffenlieferungen an die Ukraine abzusehen und sich stattdessen für eine diplomatische Lösung des Konflikts einzusetzen. Deutschland sollte sich auf die Vermittlung von Verhandlungen zwischen der Ukraine und Russland konzentrieren und sich für eine friedliche Lösung des Konflikts einsetzen. Wir müssen die Opfer und das Leid der Menschen in der Ukraine ernst nehmen und alles tun, um weiteres Blutvergießen zu verhindern.\n",
      "\n",
      "Es ist wichtig, dass Deutschland eine neutrale und unparteiische Rolle in der Ukraine-Krise einnimmt und sich nicht in die inneren Angelegenheiten des Landes einmischt. Waffenlieferungen würden Deutschland in den Konflikt hineinziehen und die Beziehungen zu Russland weiter belasten. Die AfD lehnt eine weitere Eskalation des Konflikts ab und ruft die Bundesregierung auf, sich für eine friedliche Lösung des Konflikts in der Ukraine einzusetzen.\n",
      "\n",
      "Abschließend möchte ich betonen, dass Waffenlieferungen an die Ukraine keine Lösung für den Konflikt in der Region sind. Deutschland sollte sich stattdessen für Diplomatie und Verhandlungen einsetzen und alles tun, um weiteres Blutvergießen zu verhindern. Die Menschen in der Ukraine verdienen Frieden und Stabilität, und es liegt in unserer Verantwortung, alles zu tun, um ihnen dabei zu helfen. Die AfD steht für eine friedliche Lösung des Konflikts in der Ukraine und ruft die Bundesregierung auf, von Waffenlieferungen abzusehen und sich für Diplomatie und Verhandlungen einzusetzen.\n",
      "\n",
      "Vielen Dank.\n",
      "Sehr geehrte Damen und Herren,\n",
      "\n",
      "Wir alle hier im Bundestag haben eine große Verantwortung, wenn es um die Sicherheit unseres Landes und unserer Bevölkerung geht. Die Entscheidungen, die wir treffen, haben direkte Auswirkungen auf das Wohl unserer Bürger und auf die Stabilität in Europa. Deshalb möchte ich heute über ein Thema sprechen, das uns alle betrifft: Waffenlieferungen an die Ukraine.\n",
      "\n",
      "Die Situation in der Ukraine ist nach wie vor äußerst instabil und bedrohlich. Russland hat die Krim annektiert und unterstützt separatistische Rebellen im Osten des Landes. Die Ukraine kämpft gegen diese Aggression und braucht unsere Unterstützung. Es ist daher verständlich, dass die ukrainische Regierung um Waffenlieferungen bittet, um sich gegen die russische Aggression verteidigen zu können.\n",
      "\n",
      "Allerdings müssen wir uns als Bundestag darüber im Klaren sein, dass Waffenlieferungen an die Ukraine nicht nur eine mögliche Eskalation des Konflikts bedeuten, sondern auch rechtliche und moralische Fragen aufwerfen. Deutschland hat sich verpflichtet, den Frieden in der Welt zu fördern und Konflikte auf friedliche Weise zu lösen. Waffenlieferungen könnten diesen Prinzipien widersprechen und dazu führen, dass Deutschland indirekt in den Konflikt in der Ukraine involviert wird.\n",
      "\n",
      "Zudem müssen wir bedenken, dass Waffenlieferungen an die Ukraine die Spannungen zwischen Russland und dem Westen erhöhen könnten. Eine Verschärfung des Konflikts würde die Sicherheit in Europa gefährden und zu einer weiteren Eskalation führen. Wir müssen alles daran setzen, um einen solchen Konflikt zu vermeiden und eine friedliche Lösung zu finden.\n",
      "\n",
      "Ein weiterer wichtiger Aspekt, den wir berücksichtigen müssen, ist die Frage der Souveränität der Ukraine. Wenn wir Waffen an die Ukraine liefern, können wir nicht sicherstellen, dass diese Waffen nicht in die Hände von extremistischen Gruppen gelangen oder für andere Zwecke missbraucht werden. Wir müssen sicherstellen, dass die ukrainische Regierung die Waffen verantwortungsvoll einsetzt und dass sie nicht dazu beitragen, den Konflikt weiter anzuheizen.\n",
      "\n",
      "Es ist wichtig, dass wir als Bundestag eine klare Position zu diesem Thema einnehmen und unsere Verantwortung als demokratisch gewählte Vertreter ernst nehmen. Wir dürfen nicht leichtfertig über Leben und Tod entscheiden und müssen alle Aspekte sorgfältig abwägen, bevor wir eine Entscheidung treffen. Wir müssen sicherstellen, dass alle möglichen Konsequenzen berücksichtigt werden und dass wir die Auswirkungen unseres Handelns verstehen.\n",
      "\n",
      "Ich appelliere daher an meine Kollegen im Bundestag, überlegt und verantwortungsbewusst zu handeln und eine Entscheidung zu treffen, die im Einklang mit unseren Werten und Prinzipien steht. Waffenlieferungen an die Ukraine sind eine ernste Angelegenheit, die sorgfältig und mit Bedacht behandelt werden muss. Wir dürfen nicht leichtfertig über Leben und Tod entscheiden und müssen sicherstellen, dass unsere Entscheidungen im besten Interesse unseres Landes und unserer Bevölkerung liegen.\n",
      "\n",
      "Abschließend möchte ich betonen, dass es in unserem eigenen Interesse ist, den Frieden in Europa zu bewahren und Konflikte auf friedliche Weise zu lösen. Waffenlieferungen an die Ukraine könnten zu einer weiteren Eskalation des Konflikts führen und die Sicherheit in Europa gefährden. Wir müssen alles daran setzen, um eine friedliche Lösung zu finden und die Stabilität in der Region wiederherzustellen.\n",
      "\n",
      "Vielen Dank.\n",
      "4477\n"
     ]
    }
   ],
   "source": [
    "print(completion.keys())\n",
    "\n",
    "print(completion['usage'])\n",
    "\n",
    "completion['choices'][0]['message']['content']\n",
    "\n",
    "responses = [choice['message']['content'] for choice in completion['choices']]\n",
    "\n",
    "token_count = 0\n",
    "for resp in responses:\n",
    "    calculated_tokens = word_tokenize(resp, language='english')\n",
    "    # print(len(calculated_tokens))\n",
    "    print(resp)\n",
    "    token_count += token_count + len(calculated_tokens) # this seems to overstate the actual count of needed completion_tokens (2050 calculated vs. 1385 completion tokens (3 runs))\n",
    "\n",
    "print(token_count)"
   ]
  }
 ],
 "metadata": {
  "kernelspec": {
   "display_name": "Python 3 (ipykernel)",
   "language": "python",
   "name": "python3"
  },
  "language_info": {
   "codemirror_mode": {
    "name": "ipython",
    "version": 3
   },
   "file_extension": ".py",
   "mimetype": "text/x-python",
   "name": "python",
   "nbconvert_exporter": "python",
   "pygments_lexer": "ipython3",
   "version": "3.12.1"
  }
 },
 "nbformat": 4,
 "nbformat_minor": 4
}
